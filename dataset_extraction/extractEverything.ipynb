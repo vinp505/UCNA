{
 "cells": [
  {
   "cell_type": "code",
   "execution_count": 29,
   "id": "79e73a1a",
   "metadata": {},
   "outputs": [],
   "source": [
    "import pandas\n",
    "import networkx\n",
    "import os\n",
    "import json\n",
    "import pandas as pd"
   ]
  },
  {
   "cell_type": "code",
   "execution_count": 30,
   "id": "5e548511",
   "metadata": {},
   "outputs": [],
   "source": [
    "#first, get the landpoint coordinates:\n",
    "landPointDf = pd.read_csv(\"landpoints.csv\")\n",
    "\n",
    "cityLookup = {}\n",
    "for l in landPointDf.itertuples():\n",
    "    #add the city name for all 4 possible coordinates\n",
    "    longitude = int(l.longitude)\n",
    "    latitude = int(l.latitude)\n",
    "    cityLookup[(longitude, latitude)] = l.description\n",
    "    cityLookup[(-longitude, latitude)] = l.description\n",
    "    cityLookup[(longitude, -latitude)] = l.description\n",
    "    cityLookup[(-longitude, -latitude)] = l.description\n",
    "    \n",
    "#make a set with all the landing point coordinates\n",
    "landPointCoords = set(cityLookup.keys())"
   ]
  },
  {
   "cell_type": "code",
   "execution_count": 31,
   "id": "d50c9c4b",
   "metadata": {},
   "outputs": [],
   "source": [
    "#now extract a big set that contains all the coorinates that appear multiple times (important coordinates!)\n",
    "# Directory with .geojson files\n",
    "input_dir = \"cablesGeojson\"\n",
    "output_file = \"all_cables.csv\"\n",
    "\n",
    "def normCoord(long, lat):\n",
    "    \"\"\"Converts floating point coordinates to integers for easier comparisons!\"\"\"\n",
    "    return (int(round(long * 1e6)), int(round(lat * 1e6)))\n",
    "\n",
    "def coordBack(normedCoord):\n",
    "    \"\"\"Get the coord back from int to float\"\"\"\n",
    "    return (float(normedCoord[0]) * 1e-6, float(normedCoord[1] * 1e-6))\n",
    "\n",
    "# Loop through all files in the directory\n",
    "\n",
    "cableCoords = []\n",
    "for filename in os.listdir(input_dir):#iterate over all .geojson files\n",
    "    if filename.endswith(\".geojson\"):\n",
    "        filepath = os.path.join(input_dir, filename)\n",
    "        #print(f\"Processing {filepath} ...\")\n",
    "\n",
    "        # Load geojson file\n",
    "        with open(filepath, \"r\", encoding=\"utf-8\") as f:\n",
    "            data = json.load(f)\n",
    "\n",
    "        # Extract cable info\n",
    "        for feature in data[\"features\"]:\n",
    "            coords = feature[\"geometry\"].get(\"coordinates\", [])\n",
    "            if not coords:\n",
    "                raise ValueError#this should never happen, cables should always have some coordinates!\n",
    "            coords = [normCoord(c[0], c[1]) for c in coords]#get a list of tuples of coordinates of this cable segment\n",
    "            cableCoords.extend(coords)#add the coordinates to the list\n",
    "            \n",
    "coordSet = set()\n",
    "duplicateCoordSet = set()#set that will contain all the cable coordinates that appear multiple times\n",
    "for c in cableCoords:\n",
    "    if abs(c[0]) == 180000000:#cables at the 180th longitude have to be marked as important always, otherwise connections accross this border won't appear\n",
    "        duplicateCoordSet.add(c)\n",
    "    elif c not in coordSet:\n",
    "        coordSet.add(c)\n",
    "    else:\n",
    "        duplicateCoordSet.add(c)#we found a duplicate"
   ]
  },
  {
   "cell_type": "code",
   "execution_count": 32,
   "id": "3ecc239a",
   "metadata": {},
   "outputs": [
    {
     "name": "stdout",
     "output_type": "stream",
     "text": [
      "58\n",
      "6\n",
      "Graph with 1283 nodes and 1531 edges\n"
     ]
    }
   ],
   "source": [
    "\n",
    "import networkx as nx\n",
    "import pandas as pd\n",
    "\n",
    "relevantCoords = duplicateCoordSet.union(landPointCoords)#these will be all the important coordinates!\n",
    "#now go through all the cables again and for each one add edges between all pairs of relevant coordinates with weight equal to the cable's capacity\n",
    "\n",
    "G = nx.Graph()\n",
    "cableCapacities = pd.read_csv(\"withCapacity.csv\")\n",
    "\n",
    "oneCount = 0#how often was there a cable that wasn't added because only 1 of its coordinates was important?\n",
    "zeroCount = 0#how often was there a cable that had no relevant coordinate at all???\n",
    "\n",
    "# Loop through all files in the directory\n",
    "for filename in os.listdir(input_dir):\n",
    "    if filename.endswith(\".geojson\"):\n",
    "        filepath = os.path.join(input_dir, filename)\n",
    "\n",
    "        # Load geojson file\n",
    "        with open(filepath, \"r\", encoding=\"utf-8\") as f:\n",
    "            data = json.load(f)\n",
    "        \n",
    "        # Extract cable info\n",
    "        for feature in data[\"features\"]:\n",
    "            name = feature[\"properties\"].get(\"Name\", \"Unknown\")\n",
    "            coords = feature[\"geometry\"].get(\"coordinates\", [])\n",
    "            if not coords:\n",
    "                raise ValueError#shouldn't happen\n",
    "            coords = [normCoord(c[0], c[1]) for c in coords]#get a list of tuples of coordinates of this cable segment\n",
    "            relevantCs = [c for c in coords if c in relevantCoords]#get only the relevant coordinates from this cable segment\n",
    "            for i in range(len(relevantCs)):\n",
    "                if abs(relevantCs[i][0])==180000000:\n",
    "                    relevantCs[i] = (abs(relevantCs[i][0]), relevantCs[i][1])\n",
    "            if len(relevantCs) == 0:#add the edge anyways, both endpoints will be marked as \"undersea\"\n",
    "                G.add_edge(coords[0], coords[-1], name=name, capacity=cableCapacities[cableCapacities[\"name\"] == name][\"capacity\"].values[0])#add the edge with the cable capacity & name\n",
    "                zeroCount+=1\n",
    "            if len(relevantCs) == 1:\n",
    "                G.add_node(relevantCs[0], description=\"singleton\")#WARNING: this name will actually be overwritten by <cityname> if this is a city!\n",
    "                oneCount+=1\n",
    "            for i in range(len(relevantCs)-1):#add edge between adjacent important points (adjacent on the cable)\n",
    "                G.add_edge(relevantCs[i], relevantCs[i+1], name=name, capacity=cableCapacities[cableCapacities[\"name\"] == name][\"capacity\"].values[0])#add the edge with the cable capacity & name\n",
    "\n",
    "\n",
    "print(oneCount)\n",
    "print(zeroCount)                 \n",
    "print(G)"
   ]
  },
  {
   "cell_type": "code",
   "execution_count": 33,
   "id": "e9475826",
   "metadata": {},
   "outputs": [
    {
     "name": "stdout",
     "output_type": "stream",
     "text": [
      "652\n",
      "{'Hawaii (USA)', 'Broadstairs (United Kingdom)', 'Ras Sudar (Egypt)', 'Massawa (Eritrea)', 'Sangano Village (Cable Station) (Angola)', 'Berbera (Somalialand)', 'South La (Ghana)', 'Vale (Guernsey)', 'Reykjav�k (Iceland)', 'Izmir (Turkey)', 'Gambell BMH (USA)', 'Puerto Viejo (Venezuela)', 'Wrangell (USA)', 'Cairo (Egypt)', 'Skewjack (UK)', 'Punta Gorda (Venezuela)', 'Castricum (Netherlands)', 'Port Hedland (Australia)', \"Cape D'Aguilar (Hong Kong)\", 'Veules-les-Roses (France)', 'Portimao (Portugal)', 'Los Angeles (USA)', 'Grover Beach (USA)', 'Boma (Democratic Republic of Congo)', 'Seaford (United Kingdom)'}\n"
     ]
    }
   ],
   "source": [
    "#now rename the stuff\n",
    "\n",
    "# Build a mapping old_node -> new_node_id\n",
    "mapping = {}\n",
    "new_attrs = {}\n",
    "for idx, node in enumerate(G.nodes()):\n",
    "    lon, lat = node\n",
    "    city_name = None\n",
    "    #now try to match to a city\n",
    "    if (lon, lat) in cityLookup:\n",
    "        city_name = cityLookup.get((lon, lat))\n",
    "    else:\n",
    "        city_name = \"undersea\"\n",
    "    \n",
    "    mapping[node] = idx  # old coordinate node -> new integer id\n",
    "    realCoords = coordBack((lon, lat))\n",
    "    new_attrs[idx] = {\n",
    "        \"lon\": realCoords[0],#assign the proper coordinate!\n",
    "        \"lat\": realCoords[1],\n",
    "        \"description\": city_name\n",
    "    }\n",
    "\n",
    "# Relabel nodes\n",
    "G = nx.relabel_nodes(G, mapping)\n",
    "\n",
    "# Add the attributes\n",
    "nx.set_node_attributes(G, new_attrs)\n",
    "\n",
    "#test which cities are not matched:\n",
    "citiesMatched = []\n",
    "for n, d in list(G.nodes(data=True)):\n",
    "    #print(n, d)\n",
    "    citiesMatched.append(d[\"description\"])\n",
    "print(len(set(citiesMatched)))\n",
    "\n",
    "cities = set(list(cityLookup.values()))\n",
    "print(cities.difference(citiesMatched))"
   ]
  },
  {
   "cell_type": "code",
   "execution_count": 34,
   "id": "a5e7f412",
   "metadata": {},
   "outputs": [
    {
     "name": "stdout",
     "output_type": "stream",
     "text": [
      "(0, 1, {'name': 'AAE-1 (Asia Africa Europe)', 'capacity': np.float64(0.0)})\n",
      "(0, 2, {'name': 'AAE-1 (Asia Africa Europe)', 'capacity': np.float64(0.0)})\n",
      "(0, 3, {'name': 'AAE-1 (Asia Africa Europe)', 'capacity': np.float64(0.0)})\n",
      "(1, 465, {'name': 'SEA-ME-WE-5', 'capacity': np.float64(0.0)})\n",
      "(1, 377, {'name': 'SEA-ME-WE-5', 'capacity': np.float64(0.0)})\n"
     ]
    }
   ],
   "source": [
    "for e in list(G.edges(data=True))[:5]:\n",
    "    print(e)"
   ]
  },
  {
   "cell_type": "code",
   "execution_count": 35,
   "id": "6347185e",
   "metadata": {},
   "outputs": [
    {
     "name": "stdout",
     "output_type": "stream",
     "text": [
      "Graph with 1031 nodes and 1279 edges\n"
     ]
    }
   ],
   "source": [
    "#remove redundant nodes: (the ones on the seafloor that connect to the same cable twice)\n",
    "for n, d in list(G.nodes(data=True)):\n",
    "    if d[\"description\"] == \"undersea\":\n",
    "        if G.degree[n] == 2:\n",
    "            edges = list(G.edges(n, data=True))\n",
    "            if edges[0][2][\"name\"] == edges[1][2][\"name\"]:\n",
    "                neighbors = list(G.neighbors(n))#there will be 2 neighbors\n",
    "                G.add_edge(neighbors[0], neighbors[1], name=edges[0][2][\"name\"], capacity=edges[0][2][\"capacity\"])#add an edge between the two neighbors with the same cable name & capacity\n",
    "                G.remove_node(n)\n",
    "                \n",
    "print(G)"
   ]
  },
  {
   "cell_type": "code",
   "execution_count": 36,
   "id": "1db175d0",
   "metadata": {},
   "outputs": [],
   "source": [
    "# #visualize the graph with folium\n",
    "# import folium\n",
    "\n",
    "# def plot_graph_folium(G, output_file=\"graph_map.html\", overlayGeojson = False):\n",
    "#     # Extract coordinates from node attributes\n",
    "#     coords = [coordBack((d[\"lon\"], d[\"lat\"])) for _, d in G.nodes(data=True)]\n",
    "#     #coords = [coordBack(d[\"coord\"]) for _, d in G.nodes(data=True)]\n",
    "#     lons, lats = zip(*coords)\n",
    "    \n",
    "#     # Center map on average position\n",
    "#     center_lat = sum(lats) / len(lats)\n",
    "#     center_lon = sum(lons) / len(lons)\n",
    "#     m = folium.Map(location=[center_lat, center_lon], zoom_start=3, tiles=\"CartoDB positron\")\n",
    "\n",
    "#     # Add nodes\n",
    "#     for n, d in G.nodes(data=True):\n",
    "#         lon, lat = coordBack((d[\"lon\"], d[\"lat\"]))\n",
    "#         desc = d.get(\"description\", \"\")\n",
    "#         location = f\"lon: {lon} lat: {lat}\"\n",
    "#         folium.CircleMarker(\n",
    "#             location=[lat, lon],\n",
    "#             radius=5,\n",
    "#             popup=f\"Node {n}<br>{desc}<br>{location}\",\n",
    "#             color=\"blue\",\n",
    "#             fill=True,\n",
    "#             fill_color=\"blue\",\n",
    "#             fill_opacity=0.7\n",
    "#         ).add_to(m)\n",
    "\n",
    "#     # Add edges\n",
    "#     for u, v in G.edges():\n",
    "#         lon1, lat1 = coordBack((G.nodes[u][\"lon\"], G.nodes[u][\"lat\"]))\n",
    "#         lon2, lat2 = coordBack((G.nodes[v][\"lon\"], G.nodes[v][\"lat\"]))\n",
    "#         folium.PolyLine(\n",
    "#             locations=[(lat1, lon1), (lat2, lon2)],\n",
    "#             color=\"red\",\n",
    "#             weight=2,\n",
    "#             opacity=0.6\n",
    "#         ).add_to(m)\n",
    "    \n",
    "#     #overlay the \"real network\"\n",
    "#     if overlayGeojson:\n",
    "#         # Loop through all files in the directory\n",
    "#         for filename in os.listdir(input_dir):\n",
    "#             if filename.endswith(\".geojson\"):\n",
    "#                 filepath = os.path.join(input_dir, filename)\n",
    "#                 folium.GeoJson(filepath).add_to(m)\n",
    "\n",
    "#     # Save map as HTML\n",
    "#     m.save(output_file)\n",
    "#     print(f\"Map saved to {output_file}\")\n",
    "    \n",
    "# plot_graph_folium(G, output_file=\"graph_map_overlayed_fixed.html\", overlayGeojson=True)\n",
    "# plot_graph_folium(G, output_file=\"graph_map_fixed.html\", overlayGeojson=False)"
   ]
  },
  {
   "cell_type": "code",
   "execution_count": 37,
   "id": "8d39e44e",
   "metadata": {},
   "outputs": [],
   "source": [
    "#saving the graph to a file:\n",
    "\n",
    "nx.write_graphml(G, \"THE_GRAPH.graphml\")"
   ]
  },
  {
   "cell_type": "code",
   "execution_count": null,
   "id": "2a183a09",
   "metadata": {},
   "outputs": [],
   "source": [
    "\n",
    "#Persisting issues:\n",
    "\n",
    "#   disconnected components ->  assume in-country terrestrial cables?\n",
    "\n",
    "#   some cities are singletons! Now I added them, but they don't have any edges! -> fix it by getting getting the coordinate at the other end of the cable (even though we know it's not a relevant coordinate) and adding it\n",
    "#   like for example the cable from lon: 34.934425999999995 lat: 70.038511 that goes into nothingness above russia\n",
    "#   why is the US west coast not connected to China's east coast?\n",
    "\n",
    "#   some undersea-nodes are just dead ends (but they shouldn't be!) -> like the one below Cape Coast that should really be connected to Abidjan\n",
    "\n",
    "\n",
    "#Sitka USA is a singleton! (somehow the cable from Angloon just doesn't get picked up???)"
   ]
  }
 ],
 "metadata": {
  "kernelspec": {
   "display_name": "base",
   "language": "python",
   "name": "python3"
  },
  "language_info": {
   "codemirror_mode": {
    "name": "ipython",
    "version": 3
   },
   "file_extension": ".py",
   "mimetype": "text/x-python",
   "name": "python",
   "nbconvert_exporter": "python",
   "pygments_lexer": "ipython3",
   "version": "3.13.5"
  }
 },
 "nbformat": 4,
 "nbformat_minor": 5
}
