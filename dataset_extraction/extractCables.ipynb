{
 "cells": [
  {
   "cell_type": "markdown",
   "id": "34abfa17",
   "metadata": {},
   "source": [
    "### This extracts the names of all cables so that we can match them with capacities!"
   ]
  },
  {
   "cell_type": "code",
   "execution_count": 10,
   "id": "5b6f92e0",
   "metadata": {},
   "outputs": [],
   "source": [
    "import json\n",
    "import csv\n",
    "import pandas as pd\n",
    "import os"
   ]
  },
  {
   "cell_type": "code",
   "execution_count": null,
   "id": "b45b4ddd",
   "metadata": {},
   "outputs": [],
   "source": [
    "# Directory with .geojson files\n",
    "input_dir = \"cablesGeojson\"\n",
    "output_file = \"all_cables.csv\"\n",
    "\n",
    "nameSet = set()\n",
    "\n",
    "# Loop through all files in the directory\n",
    "for filename in os.listdir(input_dir):\n",
    "    if filename.endswith(\".geojson\"):\n",
    "        filepath = os.path.join(input_dir, filename)\n",
    "\n",
    "        # Load geojson file\n",
    "        with open(filepath, \"r\", encoding=\"utf-8\") as f:\n",
    "            data = json.load(f)\n",
    "\n",
    "        # Extract cable name\n",
    "        for feature in data[\"features\"]:\n",
    "            name = feature[\"properties\"].get(\"Name\", \"Unknown\")\n",
    "\n",
    "            nameSet.add(name)"
   ]
  },
  {
   "cell_type": "code",
   "execution_count": 12,
   "id": "4c08c2e5",
   "metadata": {},
   "outputs": [
    {
     "name": "stdout",
     "output_type": "stream",
     "text": [
      "(265, 1)\n"
     ]
    },
    {
     "data": {
      "application/vnd.microsoft.datawrangler.viewer.v0+json": {
       "columns": [
        {
         "name": "index",
         "rawType": "int64",
         "type": "integer"
        },
        {
         "name": "name",
         "rawType": "object",
         "type": "string"
        }
       ],
       "ref": "d469ce14-e298-4dab-8197-64747ca18351",
       "rows": [
        [
         "0",
         "C-Lion"
        ],
        [
         "1",
         "BALTICA"
        ],
        [
         "2",
         "Hibernia Atlantic"
        ],
        [
         "3",
         "PAN AM"
        ],
        [
         "4",
         "RNAL"
        ]
       ],
       "shape": {
        "columns": 1,
        "rows": 5
       }
      },
      "text/html": [
       "<div>\n",
       "<style scoped>\n",
       "    .dataframe tbody tr th:only-of-type {\n",
       "        vertical-align: middle;\n",
       "    }\n",
       "\n",
       "    .dataframe tbody tr th {\n",
       "        vertical-align: top;\n",
       "    }\n",
       "\n",
       "    .dataframe thead th {\n",
       "        text-align: right;\n",
       "    }\n",
       "</style>\n",
       "<table border=\"1\" class=\"dataframe\">\n",
       "  <thead>\n",
       "    <tr style=\"text-align: right;\">\n",
       "      <th></th>\n",
       "      <th>name</th>\n",
       "    </tr>\n",
       "  </thead>\n",
       "  <tbody>\n",
       "    <tr>\n",
       "      <th>0</th>\n",
       "      <td>C-Lion</td>\n",
       "    </tr>\n",
       "    <tr>\n",
       "      <th>1</th>\n",
       "      <td>BALTICA</td>\n",
       "    </tr>\n",
       "    <tr>\n",
       "      <th>2</th>\n",
       "      <td>Hibernia Atlantic</td>\n",
       "    </tr>\n",
       "    <tr>\n",
       "      <th>3</th>\n",
       "      <td>PAN AM</td>\n",
       "    </tr>\n",
       "    <tr>\n",
       "      <th>4</th>\n",
       "      <td>RNAL</td>\n",
       "    </tr>\n",
       "  </tbody>\n",
       "</table>\n",
       "</div>"
      ],
      "text/plain": [
       "                name\n",
       "0             C-Lion\n",
       "1            BALTICA\n",
       "2  Hibernia Atlantic\n",
       "3             PAN AM\n",
       "4               RNAL"
      ]
     },
     "execution_count": 12,
     "metadata": {},
     "output_type": "execute_result"
    }
   ],
   "source": [
    "#read in the csv file\n",
    "\n",
    "df = pd.DataFrame(nameSet, columns=[\"name\"])\n",
    "df.to_csv(\"all_cables.csv\", index=False)\n",
    "\n",
    "print(df.shape)\n",
    "df.head()"
   ]
  }
 ],
 "metadata": {
  "kernelspec": {
   "display_name": "base",
   "language": "python",
   "name": "python3"
  },
  "language_info": {
   "codemirror_mode": {
    "name": "ipython",
    "version": 3
   },
   "file_extension": ".py",
   "mimetype": "text/x-python",
   "name": "python",
   "nbconvert_exporter": "python",
   "pygments_lexer": "ipython3",
   "version": "3.13.5"
  }
 },
 "nbformat": 4,
 "nbformat_minor": 5
}
