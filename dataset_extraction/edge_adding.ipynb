{
 "cells": [
  {
   "cell_type": "code",
   "execution_count": 153,
   "id": "46d752d8",
   "metadata": {},
   "outputs": [],
   "source": [
    "import pandas as pd\n",
    "import networkx as nx\n",
    "import os\n",
    "import json\n",
    "import powerlaw as pl\n",
    "import matplotlib.pyplot as plt\n",
    "from scipy.stats import pearsonr\n",
    "import numpy as np"
   ]
  },
  {
   "cell_type": "code",
   "execution_count": 154,
   "id": "99f49b56",
   "metadata": {},
   "outputs": [],
   "source": [
    "#first, get the landpoint coordinates:\n",
    "landPointDf = pd.read_csv(\"landpoints.csv\")\n",
    "\n",
    "cityLookup = {}\n",
    "for l in landPointDf.itertuples():\n",
    "    #add the city name for all 4 possible coordinates\n",
    "    longitude = int(l.longitude)\n",
    "    latitude = int(l.latitude)\n",
    "    cityLookup[(longitude, latitude)] = l.description\n",
    "    cityLookup[(-longitude, latitude)] = l.description\n",
    "    cityLookup[(longitude, -latitude)] = l.description\n",
    "    cityLookup[(-longitude, -latitude)] = l.description\n",
    "    \n",
    "#make a set with all the landing point coordinates\n",
    "landPointCoords = set(cityLookup.keys())"
   ]
  },
  {
   "cell_type": "code",
   "execution_count": 155,
   "id": "a9506b1c",
   "metadata": {},
   "outputs": [],
   "source": [
    "#now extract a big set that contains all the coorinates that appear multiple times (important coordinates!)\n",
    "# Directory with .geojson files\n",
    "input_dir = \"cablesGeojson\"\n",
    "output_file = \"all_cables.csv\"\n",
    "\n",
    "def normCoord(long, lat):\n",
    "    \"\"\"Converts floating point coordinates to integers for easier comparisons!\"\"\"\n",
    "    return (int(round(long * 1e6)), int(round(lat * 1e6)))\n",
    "\n",
    "def coordBack(normedCoord):\n",
    "    \"\"\"Get the coord back from int to float\"\"\"\n",
    "    return (float(normedCoord[0]) * 1e-6, float(normedCoord[1] * 1e-6))\n",
    "\n",
    "# Loop through all files in the directory\n",
    "\n",
    "cableCoords = []\n",
    "for filename in os.listdir(input_dir):#iterate over all .geojson files\n",
    "    if filename.endswith(\".geojson\"):\n",
    "        filepath = os.path.join(input_dir, filename)\n",
    "        #print(f\"Processing {filepath} ...\")\n",
    "\n",
    "        # Load geojson file\n",
    "        with open(filepath, \"r\", encoding=\"utf-8\") as f:\n",
    "            data = json.load(f)\n",
    "\n",
    "        # Extract cable info\n",
    "        for feature in data[\"features\"]:\n",
    "            coords = feature[\"geometry\"].get(\"coordinates\", [])\n",
    "            if not coords:\n",
    "                raise ValueError#this should never happen, cables should always have some coordinates!\n",
    "            coords = [normCoord(c[0], c[1]) for c in coords]#get a list of tuples of coordinates of this cable segment\n",
    "            cableCoords.extend(coords)#add the coordinates to the list\n",
    "            \n",
    "coordSet = set()\n",
    "duplicateCoordSet = set()#set that will contain all the cable coordinates that appear multiple times\n",
    "for c in cableCoords:\n",
    "    if abs(c[0]) == 180000000:#cables at the 180th longitude have to be marked as important always, otherwise connections accross this border won't appear\n",
    "        duplicateCoordSet.add(c)\n",
    "    elif c not in coordSet:\n",
    "        coordSet.add(c)\n",
    "    else:\n",
    "        duplicateCoordSet.add(c)#we found a duplicate"
   ]
  },
  {
   "cell_type": "code",
   "execution_count": 156,
   "id": "a46c7f75",
   "metadata": {},
   "outputs": [
    {
     "name": "stdout",
     "output_type": "stream",
     "text": [
      "58\n",
      "6\n",
      "Graph with 1283 nodes and 1531 edges\n"
     ]
    }
   ],
   "source": [
    "relevantCoords = duplicateCoordSet.union(landPointCoords)#these will be all the important coordinates!\n",
    "#now go through all the cables again and for each one add edges between all pairs of relevant coordinates with weight equal to the cable's capacity\n",
    "\n",
    "oG = nx.Graph()\n",
    "cableCapacities = pd.read_csv(\"withCapacity.csv\")\n",
    "\n",
    "oneCount = 0#how often was there a cable that wasn't added because only 1 of its coordinates was important?\n",
    "zeroCount = 0#how often was there a cable that had no relevant coordinate at all???\n",
    "\n",
    "# Loop through all files in the directory\n",
    "for filename in os.listdir(input_dir):\n",
    "    if filename.endswith(\".geojson\"):\n",
    "        filepath = os.path.join(input_dir, filename)\n",
    "\n",
    "        # Load geojson file\n",
    "        with open(filepath, \"r\", encoding=\"utf-8\") as f:\n",
    "            data = json.load(f)\n",
    "        \n",
    "        # Extract cable info\n",
    "        for feature in data[\"features\"]:\n",
    "            name = feature[\"properties\"].get(\"Name\", \"Unknown\")\n",
    "            coords = feature[\"geometry\"].get(\"coordinates\", [])\n",
    "            if not coords:\n",
    "                raise ValueError#shouldn't happen\n",
    "            coords = [normCoord(c[0], c[1]) for c in coords]#get a list of tuples of coordinates of this cable segment\n",
    "            relevantCs = [c for c in coords if c in relevantCoords]#get only the relevant coordinates from this cable segment\n",
    "            for i in range(len(relevantCs)):\n",
    "                if abs(relevantCs[i][0])==180000000:\n",
    "                    relevantCs[i] = (abs(relevantCs[i][0]), relevantCs[i][1])\n",
    "            if len(relevantCs) == 0:#add the edge anyways, both endpoints will be marked as \"undersea\"\n",
    "                oG.add_edge(coords[0], coords[-1], name=name, capacity=cableCapacities[cableCapacities[\"name\"] == name][\"capacity\"].values[0])#add the edge with the cable capacity & name\n",
    "                zeroCount+=1\n",
    "            if len(relevantCs) == 1:\n",
    "                oG.add_node(relevantCs[0], description=\"singleton\")#WARNING: this name will actually be overwritten by <cityname> if this is a city!\n",
    "                oneCount+=1\n",
    "            for i in range(len(relevantCs)-1):#add edge between adjacent important points (adjacent on the cable)\n",
    "                oG.add_edge(relevantCs[i], relevantCs[i+1], name=name, capacity=cableCapacities[cableCapacities[\"name\"] == name][\"capacity\"].values[0])#add the edge with the cable capacity & name\n",
    "\n",
    "\n",
    "print(oneCount)\n",
    "print(zeroCount)                 \n",
    "print(oG)"
   ]
  },
  {
   "cell_type": "code",
   "execution_count": 157,
   "id": "9f503ffe",
   "metadata": {},
   "outputs": [],
   "source": [
    "#now rename the stuff\n",
    "\n",
    "# Build a mapping old_node -> new_node_id\n",
    "mapping = {}\n",
    "new_attrs = {}\n",
    "unique_countries = set()\n",
    "for idx, node in enumerate(oG.nodes()):\n",
    "    lon, lat = node\n",
    "    city_name = None\n",
    "    #now try to match to a city - country\n",
    "    if (lon, lat) in cityLookup:\n",
    "        city_country_name = cityLookup.get((lon, lat)).strip(')').split(' (')\n",
    "        #print(city_country_name)\n",
    "        city_name = city_country_name[0]\n",
    "        country_name = city_country_name[-1]\n",
    "        #print(city_name)\n",
    "        #print(country_name)\n",
    "    else:\n",
    "        city_name = \"undersea\"\n",
    "        country_name = \"undersea\"\n",
    "    \n",
    "    unique_countries.add(country_name)\n",
    "    mapping[node] = idx  # old coordinate node -> new integer id\n",
    "    realCoords = coordBack((lon, lat))\n",
    "    new_attrs[idx] = {\n",
    "        \"lon\": realCoords[0],#assign the proper coordinate!\n",
    "        \"lat\": realCoords[1],\n",
    "        \"city\": city_name,\n",
    "        \"country\" : country_name\n",
    "    }\n",
    "\n",
    "# Relabel nodes\n",
    "oG = nx.relabel_nodes(oG, mapping)\n",
    "\n",
    "# Add the attributes\n",
    "nx.set_node_attributes(oG, new_attrs)"
   ]
  },
  {
   "cell_type": "code",
   "execution_count": 158,
   "id": "59e80958",
   "metadata": {},
   "outputs": [
    {
     "name": "stdout",
     "output_type": "stream",
     "text": [
      "Graph with 1031 nodes and 1279 edges\n"
     ]
    }
   ],
   "source": [
    "#remove redundant nodes: (the ones on the seafloor that connect to the same cable twice)\n",
    "for n, d in list(oG.nodes(data=True)):\n",
    "    if d[\"city\"] == \"undersea\":\n",
    "        if oG.degree[n] == 2:\n",
    "            edges = list(oG.edges(n, data=True))\n",
    "            if edges[0][2][\"name\"] == edges[1][2][\"name\"]:\n",
    "                neighbors = list(oG.neighbors(n))#there will be 2 neighbors\n",
    "                oG.add_edge(neighbors[0], neighbors[1], name=edges[0][2][\"name\"], capacity=edges[0][2][\"capacity\"])#add an edge between the two neighbors with the same cable name & capacity\n",
    "                oG.remove_node(n)\n",
    "                \n",
    "print(oG)"
   ]
  },
  {
   "cell_type": "code",
   "execution_count": 159,
   "id": "9904790c",
   "metadata": {},
   "outputs": [],
   "source": [
    "G = oG.copy()\n",
    "unique_countries.remove(\"undersea\")\n",
    "unique_countries.remove(\"\")"
   ]
  },
  {
   "cell_type": "code",
   "execution_count": 160,
   "id": "5092d377",
   "metadata": {},
   "outputs": [],
   "source": [
    "for c in unique_countries:\n",
    "    nodes = []\n",
    "    for n, d in G.nodes(data= True):\n",
    "        if d['country'] == c:\n",
    "            nodes.append(n)\n",
    "    \n",
    "    #G.add_edge(nodes[0], nodes[-1])\n",
    "    for i in range(len(nodes)-1):\n",
    "        G.add_edge(nodes[i], nodes[i+1])\n"
   ]
  },
  {
   "cell_type": "code",
   "execution_count": 161,
   "id": "950b7501",
   "metadata": {},
   "outputs": [],
   "source": [
    "# FOR RANDOM GRAPH\n",
    "\n",
    "# obtain degree frequencies\n",
    "deg_freq_oG = {}\n",
    "for n, d in oG.degree:\n",
    "    deg_freq_oG.setdefault(d, 0)\n",
    "    deg_freq_oG[d] += 1\n",
    "\n",
    "# sort it bc why not\n",
    "deg_freq_oG = dict(sorted(deg_freq_oG.items(), key= lambda x:x[0]))\n",
    "\n",
    "# compute CCDF ~ inverse CDF: cumulative sum from last to first\n",
    "ccdf_oG = list(np.cumsum(list(deg_freq_oG.values())[::-1]))[::-1]\n",
    "ccdf_oG = np.array(ccdf_oG) / ccdf_oG[0]  # normalize it"
   ]
  },
  {
   "cell_type": "code",
   "execution_count": 162,
   "id": "b7704f53",
   "metadata": {},
   "outputs": [],
   "source": [
    "# FOR RANDOM GRAPH\n",
    "\n",
    "# obtain degree frequencies\n",
    "deg_freq_G = {}\n",
    "for n, d in G.degree:\n",
    "    deg_freq_G.setdefault(d, 0)\n",
    "    deg_freq_G[d] += 1\n",
    "\n",
    "# sort it bc why not\n",
    "deg_freq_G = dict(sorted(deg_freq_G.items(), key= lambda x:x[0]))\n",
    "\n",
    "# compute CCDF ~ inverse CDF: cumulative sum from last to first\n",
    "ccdf_G = list(np.cumsum(list(deg_freq_G.values())[::-1]))[::-1]\n",
    "ccdf_G = np.array(ccdf_G) / ccdf_G[0]  # normalize it"
   ]
  },
  {
   "cell_type": "code",
   "execution_count": 163,
   "id": "b17cc418",
   "metadata": {},
   "outputs": [
    {
     "name": "stdout",
     "output_type": "stream",
     "text": [
      "0.8764187925372399\n"
     ]
    },
    {
     "name": "stderr",
     "output_type": "stream",
     "text": [
      "C:\\Users\\piras\\AppData\\Local\\Temp\\ipykernel_35344\\1328707865.py:26: UserWarning: Attempt to set non-positive xlim on a log-scaled axis will be ignored.\n",
      "  ax1.set_xlim(xmin, xmax)\n",
      "C:\\Users\\piras\\AppData\\Local\\Temp\\ipykernel_35344\\1328707865.py:29: UserWarning: FigureCanvasAgg is non-interactive, and thus cannot be shown\n",
      "  fig.show()\n"
     ]
    },
    {
     "data": {
      "image/png": "[encoded data removed]",
      "text/plain": [
       "<Figure size 1200x600 with 1 Axes>"
      ]
     },
     "metadata": {},
     "output_type": "display_data"
    }
   ],
   "source": [
    "# plot results\n",
    "\n",
    "fig = plt.figure(figsize=(12, 6))\n",
    "fig.suptitle(\"CCDF Comparison: Old vs New Graph\", fontsize=16)\n",
    "\n",
    "# plot for real graph ccdf\n",
    "ax1 = fig.add_subplot(1, 1, 1)\n",
    "ax1.loglog(list(deg_freq_G.keys()), ccdf_G, color= 'darkred', label= \"New Graph\")\n",
    "\n",
    "ax1.set_xlabel('k')\n",
    "ax1.set_ylabel('p(k)')\n",
    "\n",
    "# plot for random graph ccdf\n",
    "ax1.loglog(list(deg_freq_oG.keys()), ccdf_oG, color= 'darkblue', label= 'Old Graph')\n",
    "\n",
    "ax1.grid(alpha= 0.3)\n",
    "ax1.legend()\n",
    "ax1.set_xlabel('k')\n",
    "ax1.set_ylabel('p(k)')\n",
    "\n",
    "# make sure the axis have the same bounds\n",
    "\n",
    "xmin = min(min(deg_freq_G.keys()), min(deg_freq_oG.keys()))\n",
    "xmax = max(max(deg_freq_G.keys()), max(deg_freq_oG.keys()))\n",
    "\n",
    "ax1.set_xlim(xmin, xmax)\n",
    "\n",
    "\n",
    "fig.show()\n",
    "# plt.savefig('CCDF_comparison.pdf')\n",
    "\n",
    "\n",
    "# CONSIDERATIONS\n",
    "# Random graph: much more 'condensed' degree distribution and less outliers,\n",
    "#               so no nodes with very low or very high degree.\n",
    "# Real graph:   expected ccdf, having many low degree nodes and a few nodes\n",
    "#               with a remarkably high degree\n",
    "corr, _ = pearsonr([n[1] for n in oG.degree], [n[1] for n in G.degree])\n",
    "print(corr)\n"
   ]
  },
  {
   "cell_type": "code",
   "execution_count": 164,
   "id": "9ed49ec2",
   "metadata": {},
   "outputs": [
    {
     "name": "stdout",
     "output_type": "stream",
     "text": [
      "Map saved to new_graph_map_overlayed_fixed.html\n",
      "Map saved to new_graph_map_fixed.html\n"
     ]
    }
   ],
   "source": [
    "#visualize the graph with folium\n",
    "import folium\n",
    "import os\n",
    "\n",
    "def plot_graph_folium(G, output_file=\"new_graph_map.html\", cablesDir = None):\n",
    "    # Extract coordinates from node attributes\n",
    "    coords = [(d[\"lon\"], d[\"lat\"]) for _, d in G.nodes(data=True)]\n",
    "    lons, lats = zip(*coords)\n",
    "    \n",
    "    # Center map on average position\n",
    "    center_lat = sum(lats) / len(lats)\n",
    "    center_lon = sum(lons) / len(lons)\n",
    "    m = folium.Map(location=[center_lat, center_lon], zoom_start=3, tiles=\"CartoDB positron\")\n",
    "\n",
    "    # Add nodes\n",
    "    for n, d in G.nodes(data=True):\n",
    "        lon, lat = d[\"lon\"], d[\"lat\"]\n",
    "        city, country = d['city'], d['country']\n",
    "        location = f\"lon: {lon} lat: {lat}\"\n",
    "        folium.CircleMarker(\n",
    "            location=[lat, lon],\n",
    "            radius=5,\n",
    "            popup=f\"Node {n}<br>{city}<br>{country}<br>{location}\",\n",
    "            color=\"blue\",\n",
    "            fill=True,\n",
    "            fill_color=\"blue\",\n",
    "            fill_opacity=0.7\n",
    "        ).add_to(m)\n",
    "\n",
    "    # Add edges\n",
    "    for u, v in G.edges():\n",
    "        lon1, lat1 = G.nodes[u][\"lon\"], G.nodes[u][\"lat\"]\n",
    "        lon2, lat2 = G.nodes[v][\"lon\"], G.nodes[v][\"lat\"]\n",
    "        folium.PolyLine(\n",
    "            locations=[(lat1, lon1), (lat2, lon2)],\n",
    "            color=\"red\",\n",
    "            weight=2,\n",
    "            opacity=0.6\n",
    "        ).add_to(m)\n",
    "    \n",
    "    #overlay the \"real network\"\n",
    "    if cablesDir is not None:\n",
    "        # Loop through all files in the directory\n",
    "        for filename in os.listdir(cablesDir):\n",
    "            if filename.endswith(\".geojson\"):\n",
    "                filepath = os.path.join(cablesDir, filename)\n",
    "                folium.GeoJson(filepath).add_to(m)\n",
    "\n",
    "    # Save map as HTML\n",
    "    m.save(output_file)\n",
    "    print(f\"Map saved to {output_file}\")\n",
    "    \n",
    "plot_graph_folium(G, output_file=\"new_graph_map_overlayed_fixed.html\", cablesDir=\"cablesGeojson/\")\n",
    "plot_graph_folium(G, output_file=\"new_graph_map_fixed.html\")"
   ]
  }
 ],
 "metadata": {
  "kernelspec": {
   "display_name": "Envino",
   "language": "python",
   "name": "python3"
  },
  "language_info": {
   "codemirror_mode": {
    "name": "ipython",
    "version": 3
   },
   "file_extension": ".py",
   "mimetype": "text/x-python",
   "name": "python",
   "nbconvert_exporter": "python",
   "pygments_lexer": "ipython3",
   "version": "3.11.13"
  }
 },
 "nbformat": 4,
 "nbformat_minor": 5
}
