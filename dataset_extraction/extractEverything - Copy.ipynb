{
 "cells": [
  {
   "cell_type": "code",
   "execution_count": 1,
   "id": "79e73a1a",
   "metadata": {},
   "outputs": [],
   "source": [
    "import pandas\n",
    "import networkx\n",
    "import os\n",
    "import json\n",
    "import pandas as pd"
   ]
  },
  {
   "cell_type": "code",
   "execution_count": 2,
   "id": "5e548511",
   "metadata": {},
   "outputs": [],
   "source": [
    "#first, get the landpoint coordinates:\n",
    "landPointDf = pd.read_csv(\"landpoints.csv\")\n",
    "\n",
    "cityLookup = {}\n",
    "for l in landPointDf.itertuples():\n",
    "    #add the city name for all 4 possible coordinates\n",
    "    longitude = int(l.longitude)\n",
    "    latitude = int(l.latitude)\n",
    "    cityLookup[(longitude, latitude)] = l.description\n",
    "    cityLookup[(-longitude, latitude)] = l.description\n",
    "    cityLookup[(longitude, -latitude)] = l.description\n",
    "    cityLookup[(-longitude, -latitude)] = l.description\n",
    "    \n",
    "#make a set with all the landing point coordinates\n",
    "landPointCoords = set(cityLookup.keys())"
   ]
  },
  {
   "cell_type": "code",
   "execution_count": 3,
   "id": "d50c9c4b",
   "metadata": {},
   "outputs": [],
   "source": [
    "#now extract a big set that contains all the coorinates that appear multiple times (important coordinates!)\n",
    "# Directory with .geojson files\n",
    "input_dir = \"cablesGeojson\"\n",
    "output_file = \"all_cables.csv\"\n",
    "\n",
    "def normCoord(long, lat):\n",
    "    \"\"\"Converts floating point coordinates to integers for easier comparisons!\"\"\"\n",
    "    return (int(round(long * 1e6)), int(round(lat * 1e6)))\n",
    "\n",
    "def coordBack(normedCoord):\n",
    "    \"\"\"Get the coord back from int to float\"\"\"\n",
    "    return (float(normedCoord[0]) * 1e-6, float(normedCoord[1] * 1e-6))\n",
    "\n",
    "# Loop through all files in the directory\n",
    "\n",
    "cableCoords = []\n",
    "for filename in os.listdir(input_dir):#iterate over all .geojson files\n",
    "    if filename.endswith(\".geojson\"):\n",
    "        filepath = os.path.join(input_dir, filename)\n",
    "        #print(f\"Processing {filepath} ...\")\n",
    "\n",
    "        # Load geojson file\n",
    "        with open(filepath, \"r\", encoding=\"utf-8\") as f:\n",
    "            data = json.load(f)\n",
    "\n",
    "        # Extract cable info\n",
    "        for feature in data[\"features\"]:\n",
    "            coords = feature[\"geometry\"].get(\"coordinates\", [])\n",
    "            if not coords:\n",
    "                raise ValueError#this should never happen, cables should always have some coordinates!\n",
    "            coords = [normCoord(c[0], c[1]) for c in coords]#get a list of tuples of coordinates of this cable segment\n",
    "            cableCoords.extend(coords)#add the coordinates to the list\n",
    "            \n",
    "coordSet = set()\n",
    "duplicateCoordSet = set()#set that will contain all the cable coordinates that appear multiple times\n",
    "for c in cableCoords:\n",
    "    c1 = c\n",
    "    if abs(c[0]) == 180000000:\n",
    "        c1 = (c[0] * (-1), c[1])#add the negated coordinate because this will allow for connections that cross the 180th latitude\n",
    "    if c not in coordSet and c1 not in coordSet:#we only consider it \"not a duplicate\" if neither of the two appear in the current coordinate set\n",
    "        coordSet.add(c)\n",
    "    else:\n",
    "        duplicateCoordSet.add(c)#we found a duplicate\n",
    "        duplicateCoordSet.add(c1)#add both, if this was a special case at longitude 180"
   ]
  },
  {
   "cell_type": "code",
   "execution_count": 4,
   "id": "3ecc239a",
   "metadata": {},
   "outputs": [
    {
     "name": "stdout",
     "output_type": "stream",
     "text": [
      "58\n",
      "6\n",
      "Graph with 1307 nodes and 1531 edges\n"
     ]
    }
   ],
   "source": [
    "\n",
    "import networkx as nx\n",
    "import pandas as pd\n",
    "\n",
    "relevantCoords = duplicateCoordSet.union(landPointCoords)#these will be all the important coordinates!\n",
    "#now go through all the cables again and for each one add edges between all pairs of relevant coordinates with weight equal to the cable's capacity\n",
    "\n",
    "G = nx.Graph()\n",
    "cableCapacities = pd.read_csv(\"withCapacity.csv\")\n",
    "\n",
    "oneCount = 0#how often was there a cable that wasn't added because only 1 of its coordinates was important?\n",
    "zeroCount = 0#how often was there a cable that had no relevant coordinate at all???\n",
    "\n",
    "# Loop through all files in the directory\n",
    "for filename in os.listdir(input_dir):\n",
    "    if filename.endswith(\".geojson\"):\n",
    "        filepath = os.path.join(input_dir, filename)\n",
    "\n",
    "        # Load geojson file\n",
    "        with open(filepath, \"r\", encoding=\"utf-8\") as f:\n",
    "            data = json.load(f)\n",
    "        \n",
    "        # Extract cable info\n",
    "        for feature in data[\"features\"]:\n",
    "            name = feature[\"properties\"].get(\"Name\", \"Unknown\")\n",
    "            coords = feature[\"geometry\"].get(\"coordinates\", [])\n",
    "            if not coords:\n",
    "                raise ValueError#shouldn't happen\n",
    "            coords = [normCoord(c[0], c[1]) for c in coords]#get a list of tuples of coordinates of this cable segment\n",
    "            relevantCs = [c for c in coords if c in relevantCoords]#get only the relevant coordinates from this cable segment\n",
    "\n",
    "            if len(relevantCs) == 0:#add the edge anyways, both endpoints will be marked as \"undersea\"\n",
    "                G.add_edge(coords[0], coords[-1], name=name, capacity=cableCapacities[cableCapacities[\"name\"] == name][\"capacity\"].values[0])#add the edge with the cable capacity & name\n",
    "                zeroCount+=1\n",
    "            if len(relevantCs) == 1:\n",
    "                G.add_node(relevantCs[0], description=\"singleton\")#WARNING: this name will actually be overwritten by <cityname> if this is a city!\n",
    "                oneCount+=1\n",
    "            for i in range(len(relevantCs)-1):#add edge between adjacent important points (adjacent on the cable)\n",
    "                G.add_edge(relevantCs[i], relevantCs[i+1], name=name, capacity=cableCapacities[cableCapacities[\"name\"] == name][\"capacity\"].values[0])#add the edge with the cable capacity & name\n",
    "            # for i in range(len(relevantCs)):\n",
    "            #     for j in range(i+1, len(relevantCs)):\n",
    "            #         G.add_edge(relevantCs[i], relevantCs[j], name=name, capacity=cableCapacities[cableCapacities[\"name\"] == name][\"capacity\"].values[0])#add the edge with the cable capacity & name\n",
    "\n",
    "print(oneCount)\n",
    "print(zeroCount)                 \n",
    "print(G)"
   ]
  },
  {
   "cell_type": "code",
   "execution_count": 5,
   "id": "f59563c5",
   "metadata": {},
   "outputs": [],
   "source": [
    "#now merge the nodes at the 180/-180 longitude\n",
    "latitudesDone = set()#mark the latitudes that we have already worked on -> since twins are on the same latitudes, this ensures we only work on each pair once!\n",
    "toDelete = []\n",
    "for n, d in G.nodes(data=True):\n",
    "    if abs(n[0]) == 180000000:\n",
    "        if n[1] not in latitudesDone:#only work on this node if we haven't worked on it's twin already!\n",
    "            neighborSelf = list(G.neighbors(n))[0]\n",
    "            neighborTwin = list(G.neighbors((-n[0], n[1])))[0]\n",
    "            edgeData = list(G.edges(n, data=True))[0][2]#get the data from the only edge of self    ->  assumed to be equal with the data from the other side (they really should be!)\n",
    "            descr = edgeData[\"name\"]\n",
    "            cap = edgeData[\"capacity\"]\n",
    "            G.add_edge(neighborSelf, neighborTwin, name=descr, capacity=cap)#add the new edge\n",
    "            toDelete.append(n)#add self for deletion\n",
    "            toDelete.append((-n[0], n[1]))#add the twin for deletion\n",
    "\n",
    "G.remove_nodes_from(toDelete)\n",
    "\n",
    "#for some reason there is 1 edge that just get's lost -> add it manually!\n",
    "anaduir = normCoord(177.50788, 64.73339)\n",
    "undersea = normCoord(34.934425999999995, 70.038511)\n",
    "G.add_edge(anaduir, undersea, name=\"ROTACS\", capacity=0.0)"
   ]
  },
  {
   "cell_type": "code",
   "execution_count": 6,
   "id": "e9475826",
   "metadata": {},
   "outputs": [
    {
     "name": "stdout",
     "output_type": "stream",
     "text": [
      "652\n",
      "{'Boma (Democratic Republic of Congo)', 'Hawaii (USA)', 'Ras Sudar (Egypt)', 'Port Hedland (Australia)', 'Grover Beach (USA)', 'Broadstairs (United Kingdom)', \"Cape D'Aguilar (Hong Kong)\", 'Cairo (Egypt)', 'Portimao (Portugal)', 'Reykjav�k (Iceland)', 'Wrangell (USA)', 'Sangano Village (Cable Station) (Angola)', 'Castricum (Netherlands)', 'South La (Ghana)', 'Izmir (Turkey)', 'Gambell BMH (USA)', 'Los Angeles (USA)', 'Puerto Viejo (Venezuela)', 'Massawa (Eritrea)', 'Berbera (Somalialand)', 'Punta Gorda (Venezuela)', 'Veules-les-Roses (France)', 'Vale (Guernsey)', 'Skewjack (UK)', 'Seaford (United Kingdom)'}\n"
     ]
    }
   ],
   "source": [
    "#now rename the stuff\n",
    "\n",
    "# Build a mapping old_node -> new_node_id\n",
    "mapping = {}\n",
    "new_attrs = {}\n",
    "for idx, node in enumerate(G.nodes()):\n",
    "    lon, lat = node\n",
    "    city_name = None\n",
    "    #now try to match to a city\n",
    "    if (lon, lat) in cityLookup:\n",
    "        city_name = cityLookup.get((lon, lat))\n",
    "    else:\n",
    "        city_name = \"undersea\"\n",
    "    \n",
    "    mapping[node] = idx  # old coordinate node -> new integer id\n",
    "    new_attrs[idx] = {\n",
    "        \"coord\": (lon, lat),#assign the proper coordinate!\n",
    "        \"description\": city_name\n",
    "    }\n",
    "\n",
    "# Relabel nodes\n",
    "G = nx.relabel_nodes(G, mapping)\n",
    "\n",
    "# Add the attributes\n",
    "nx.set_node_attributes(G, new_attrs)\n",
    "\n",
    "#test which cities are not matched:\n",
    "citiesMatched = []\n",
    "for n, d in list(G.nodes(data=True)):\n",
    "    #print(n, d)\n",
    "    citiesMatched.append(d[\"description\"])\n",
    "print(len(set(citiesMatched)))\n",
    "\n",
    "cities = set(list(cityLookup.values()))\n",
    "print(cities.difference(citiesMatched))"
   ]
  },
  {
   "cell_type": "code",
   "execution_count": 7,
   "id": "a5e7f412",
   "metadata": {},
   "outputs": [
    {
     "name": "stdout",
     "output_type": "stream",
     "text": [
      "(0, 1, {'name': 'AAE-1 (Asia Africa Europe)', 'capacity': np.float64(0.0)})\n",
      "(0, 2, {'name': 'AAE-1 (Asia Africa Europe)', 'capacity': np.float64(0.0)})\n",
      "(0, 3, {'name': 'AAE-1 (Asia Africa Europe)', 'capacity': np.float64(0.0)})\n",
      "(1, 459, {'name': 'SEA-ME-WE-5', 'capacity': np.float64(0.0)})\n",
      "(1, 373, {'name': 'SEA-ME-WE-5', 'capacity': np.float64(0.0)})\n"
     ]
    }
   ],
   "source": [
    "for e in list(G.edges(data=True))[:5]:\n",
    "    print(e)"
   ]
  },
  {
   "cell_type": "code",
   "execution_count": 8,
   "id": "6347185e",
   "metadata": {},
   "outputs": [
    {
     "name": "stdout",
     "output_type": "stream",
     "text": [
      "Graph with 1031 nodes and 1279 edges\n"
     ]
    }
   ],
   "source": [
    "#remove redundant nodes: (the ones on the seafloor that connect to the same cable twice)\n",
    "for n, d in list(G.nodes(data=True)):\n",
    "    if d[\"description\"] == \"undersea\":\n",
    "        if G.degree[n] == 2:\n",
    "            edges = list(G.edges(n, data=True))\n",
    "            if edges[0][2][\"name\"] == edges[1][2][\"name\"]:\n",
    "                neighbors = list(G.neighbors(n))#there will be 2 neighbors\n",
    "                G.add_edge(neighbors[0], neighbors[1], name=edges[0][2][\"name\"], capacity=edges[0][2][\"capacity\"])#add an edge between the two neighbors with the same cable name & capacity\n",
    "                G.remove_node(n)\n",
    "                \n",
    "print(G)\n"
   ]
  },
  {
   "cell_type": "code",
   "execution_count": 9,
   "id": "1db175d0",
   "metadata": {},
   "outputs": [
    {
     "name": "stdout",
     "output_type": "stream",
     "text": [
      "Map saved to graph_map_overlayed.html\n",
      "Map saved to graph_map.html\n"
     ]
    }
   ],
   "source": [
    "#visualize the graph with folium\n",
    "import folium\n",
    "\n",
    "def plot_graph_folium(G, output_file=\"graph_map.html\", overlayGeojson = False):\n",
    "    # Extract coordinates from node attributes\n",
    "    coords = [coordBack(d[\"coord\"]) for _, d in G.nodes(data=True)]\n",
    "    lons, lats = zip(*coords)\n",
    "    \n",
    "    # Center map on average position\n",
    "    center_lat = sum(lats) / len(lats)\n",
    "    center_lon = sum(lons) / len(lons)\n",
    "    m = folium.Map(location=[center_lat, center_lon], zoom_start=3, tiles=\"CartoDB positron\")\n",
    "\n",
    "    # Add nodes\n",
    "    for n, d in G.nodes(data=True):\n",
    "        lon, lat = coordBack(d[\"coord\"])\n",
    "        desc = d.get(\"description\", \"\")\n",
    "        location = f\"lon: {lon} lat: {lat}\"\n",
    "        folium.CircleMarker(\n",
    "            location=[lat, lon],\n",
    "            radius=5,\n",
    "            popup=f\"Node {n}<br>{desc}<br>{location}\",\n",
    "            color=\"blue\",\n",
    "            fill=True,\n",
    "            fill_color=\"blue\",\n",
    "            fill_opacity=0.7\n",
    "        ).add_to(m)\n",
    "\n",
    "    # Add edges\n",
    "    for u, v in G.edges():\n",
    "        lon1, lat1 = coordBack(G.nodes[u][\"coord\"])\n",
    "        lon2, lat2 = coordBack(G.nodes[v][\"coord\"])\n",
    "        folium.PolyLine(\n",
    "            locations=[(lat1, lon1), (lat2, lon2)],\n",
    "            color=\"red\",\n",
    "            weight=2,\n",
    "            opacity=0.6\n",
    "        ).add_to(m)\n",
    "    \n",
    "    #overlay the \"real network\"\n",
    "    if overlayGeojson:\n",
    "        # Loop through all files in the directory\n",
    "        for filename in os.listdir(input_dir):\n",
    "            if filename.endswith(\".geojson\"):\n",
    "                filepath = os.path.join(input_dir, filename)\n",
    "                folium.GeoJson(filepath).add_to(m)\n",
    "\n",
    "    # Save map as HTML\n",
    "    m.save(output_file)\n",
    "    print(f\"Map saved to {output_file}\")\n",
    "    \n",
    "plot_graph_folium(G, output_file=\"graph_map_overlayed.html\", overlayGeojson=True)\n",
    "plot_graph_folium(G, output_file=\"graph_map.html\", overlayGeojson=False)"
   ]
  },
  {
   "cell_type": "code",
   "execution_count": 10,
   "id": "8d39e44e",
   "metadata": {},
   "outputs": [
    {
     "ename": "TypeError",
     "evalue": "GraphML does not support type <class 'tuple'> as data values.",
     "output_type": "error",
     "traceback": [
      "\u001b[1;31m---------------------------------------------------------------------------\u001b[0m",
      "\u001b[1;31mKeyError\u001b[0m                                  Traceback (most recent call last)",
      "File \u001b[1;32mc:\\ProgramData\\anaconda3\\Lib\\site-packages\\networkx\\readwrite\\graphml.py:456\u001b[0m, in \u001b[0;36mGraphML.get_xml_type\u001b[1;34m(self, key)\u001b[0m\n\u001b[0;32m    455\u001b[0m \u001b[38;5;28;01mtry\u001b[39;00m:\n\u001b[1;32m--> 456\u001b[0m     \u001b[38;5;28;01mreturn\u001b[39;00m \u001b[38;5;28mself\u001b[39m\u001b[38;5;241m.\u001b[39mxml_type[key]\n\u001b[0;32m    457\u001b[0m \u001b[38;5;28;01mexcept\u001b[39;00m \u001b[38;5;167;01mKeyError\u001b[39;00m \u001b[38;5;28;01mas\u001b[39;00m err:\n",
      "\u001b[1;31mKeyError\u001b[0m: <class 'tuple'>",
      "\nThe above exception was the direct cause of the following exception:\n",
      "\u001b[1;31mTypeError\u001b[0m                                 Traceback (most recent call last)",
      "Cell \u001b[1;32mIn[10], line 3\u001b[0m\n\u001b[0;32m      1\u001b[0m \u001b[38;5;66;03m#saving the graph to a file:\u001b[39;00m\n\u001b[1;32m----> 3\u001b[0m nx\u001b[38;5;241m.\u001b[39mwrite_graphml(G, \u001b[38;5;124m\"\u001b[39m\u001b[38;5;124msubsea_cables.graphml\u001b[39m\u001b[38;5;124m\"\u001b[39m)\n",
      "File \u001b[1;32mc:\\ProgramData\\anaconda3\\Lib\\site-packages\\networkx\\utils\\decorators.py:788\u001b[0m, in \u001b[0;36margmap.__call__.<locals>.func\u001b[1;34m(_argmap__wrapper, *args, **kwargs)\u001b[0m\n\u001b[0;32m    787\u001b[0m \u001b[38;5;28;01mdef\u001b[39;00m\u001b[38;5;250m \u001b[39m\u001b[38;5;21mfunc\u001b[39m(\u001b[38;5;241m*\u001b[39margs, __wrapper\u001b[38;5;241m=\u001b[39m\u001b[38;5;28;01mNone\u001b[39;00m, \u001b[38;5;241m*\u001b[39m\u001b[38;5;241m*\u001b[39mkwargs):\n\u001b[1;32m--> 788\u001b[0m     \u001b[38;5;28;01mreturn\u001b[39;00m argmap\u001b[38;5;241m.\u001b[39m_lazy_compile(__wrapper)(\u001b[38;5;241m*\u001b[39margs, \u001b[38;5;241m*\u001b[39m\u001b[38;5;241m*\u001b[39mkwargs)\n",
      "File \u001b[1;32m<class 'networkx.utils.decorators.argmap'> compilation 9:5\u001b[0m, in \u001b[0;36margmap_write_graphml_lxml_5\u001b[1;34m(G, path, encoding, prettyprint, infer_numeric_types, named_key_ids, edge_id_from_attribute)\u001b[0m\n\u001b[0;32m      3\u001b[0m \u001b[38;5;28;01mimport\u001b[39;00m\u001b[38;5;250m \u001b[39m\u001b[38;5;21;01mgzip\u001b[39;00m\n\u001b[0;32m      4\u001b[0m \u001b[38;5;28;01mimport\u001b[39;00m\u001b[38;5;250m \u001b[39m\u001b[38;5;21;01minspect\u001b[39;00m\n\u001b[1;32m----> 5\u001b[0m \u001b[38;5;28;01mimport\u001b[39;00m\u001b[38;5;250m \u001b[39m\u001b[38;5;21;01mitertools\u001b[39;00m\n\u001b[0;32m      6\u001b[0m \u001b[38;5;28;01mimport\u001b[39;00m\u001b[38;5;250m \u001b[39m\u001b[38;5;21;01mre\u001b[39;00m\n\u001b[0;32m      7\u001b[0m \u001b[38;5;28;01mimport\u001b[39;00m\u001b[38;5;250m \u001b[39m\u001b[38;5;21;01mwarnings\u001b[39;00m\n",
      "File \u001b[1;32mc:\\ProgramData\\anaconda3\\Lib\\site-packages\\networkx\\readwrite\\graphml.py:177\u001b[0m, in \u001b[0;36mwrite_graphml_lxml\u001b[1;34m(G, path, encoding, prettyprint, infer_numeric_types, named_key_ids, edge_id_from_attribute)\u001b[0m\n\u001b[0;32m    166\u001b[0m \u001b[38;5;28;01mexcept\u001b[39;00m \u001b[38;5;167;01mImportError\u001b[39;00m:\n\u001b[0;32m    167\u001b[0m     \u001b[38;5;28;01mreturn\u001b[39;00m write_graphml_xml(\n\u001b[0;32m    168\u001b[0m         G,\n\u001b[0;32m    169\u001b[0m         path,\n\u001b[1;32m   (...)\u001b[0m\n\u001b[0;32m    174\u001b[0m         edge_id_from_attribute,\n\u001b[0;32m    175\u001b[0m     )\n\u001b[1;32m--> 177\u001b[0m writer \u001b[38;5;241m=\u001b[39m GraphMLWriterLxml(\n\u001b[0;32m    178\u001b[0m     path,\n\u001b[0;32m    179\u001b[0m     graph\u001b[38;5;241m=\u001b[39mG,\n\u001b[0;32m    180\u001b[0m     encoding\u001b[38;5;241m=\u001b[39mencoding,\n\u001b[0;32m    181\u001b[0m     prettyprint\u001b[38;5;241m=\u001b[39mprettyprint,\n\u001b[0;32m    182\u001b[0m     infer_numeric_types\u001b[38;5;241m=\u001b[39minfer_numeric_types,\n\u001b[0;32m    183\u001b[0m     named_key_ids\u001b[38;5;241m=\u001b[39mnamed_key_ids,\n\u001b[0;32m    184\u001b[0m     edge_id_from_attribute\u001b[38;5;241m=\u001b[39medge_id_from_attribute,\n\u001b[0;32m    185\u001b[0m )\n\u001b[0;32m    186\u001b[0m writer\u001b[38;5;241m.\u001b[39mdump()\n",
      "File \u001b[1;32mc:\\ProgramData\\anaconda3\\Lib\\site-packages\\networkx\\readwrite\\graphml.py:747\u001b[0m, in \u001b[0;36mGraphMLWriterLxml.__init__\u001b[1;34m(self, path, graph, encoding, prettyprint, infer_numeric_types, named_key_ids, edge_id_from_attribute)\u001b[0m\n\u001b[0;32m    744\u001b[0m \u001b[38;5;28mself\u001b[39m\u001b[38;5;241m.\u001b[39mattribute_types \u001b[38;5;241m=\u001b[39m defaultdict(\u001b[38;5;28mset\u001b[39m)\n\u001b[0;32m    746\u001b[0m \u001b[38;5;28;01mif\u001b[39;00m graph \u001b[38;5;129;01mis\u001b[39;00m \u001b[38;5;129;01mnot\u001b[39;00m \u001b[38;5;28;01mNone\u001b[39;00m:\n\u001b[1;32m--> 747\u001b[0m     \u001b[38;5;28mself\u001b[39m\u001b[38;5;241m.\u001b[39madd_graph_element(graph)\n",
      "File \u001b[1;32mc:\\ProgramData\\anaconda3\\Lib\\site-packages\\networkx\\readwrite\\graphml.py:788\u001b[0m, in \u001b[0;36mGraphMLWriterLxml.add_graph_element\u001b[1;34m(self, G)\u001b[0m\n\u001b[0;32m    786\u001b[0m \u001b[38;5;28;01mfor\u001b[39;00m node, d \u001b[38;5;129;01min\u001b[39;00m G\u001b[38;5;241m.\u001b[39mnodes(data\u001b[38;5;241m=\u001b[39m\u001b[38;5;28;01mTrue\u001b[39;00m):\n\u001b[0;32m    787\u001b[0m     \u001b[38;5;28;01mfor\u001b[39;00m k, v \u001b[38;5;129;01min\u001b[39;00m d\u001b[38;5;241m.\u001b[39mitems():\n\u001b[1;32m--> 788\u001b[0m         T \u001b[38;5;241m=\u001b[39m \u001b[38;5;28mself\u001b[39m\u001b[38;5;241m.\u001b[39mget_xml_type(\u001b[38;5;28mself\u001b[39m\u001b[38;5;241m.\u001b[39mattr_type(k, \u001b[38;5;124m\"\u001b[39m\u001b[38;5;124mnode\u001b[39m\u001b[38;5;124m\"\u001b[39m, v))\n\u001b[0;32m    789\u001b[0m         \u001b[38;5;28mself\u001b[39m\u001b[38;5;241m.\u001b[39mget_key(\u001b[38;5;28mstr\u001b[39m(k), T, \u001b[38;5;124m\"\u001b[39m\u001b[38;5;124mnode\u001b[39m\u001b[38;5;124m\"\u001b[39m, node_default\u001b[38;5;241m.\u001b[39mget(k))\n\u001b[0;32m    790\u001b[0m \u001b[38;5;66;03m# Edges and data\u001b[39;00m\n",
      "File \u001b[1;32mc:\\ProgramData\\anaconda3\\Lib\\site-packages\\networkx\\readwrite\\graphml.py:458\u001b[0m, in \u001b[0;36mGraphML.get_xml_type\u001b[1;34m(self, key)\u001b[0m\n\u001b[0;32m    456\u001b[0m     \u001b[38;5;28;01mreturn\u001b[39;00m \u001b[38;5;28mself\u001b[39m\u001b[38;5;241m.\u001b[39mxml_type[key]\n\u001b[0;32m    457\u001b[0m \u001b[38;5;28;01mexcept\u001b[39;00m \u001b[38;5;167;01mKeyError\u001b[39;00m \u001b[38;5;28;01mas\u001b[39;00m err:\n\u001b[1;32m--> 458\u001b[0m     \u001b[38;5;28;01mraise\u001b[39;00m \u001b[38;5;167;01mTypeError\u001b[39;00m(\n\u001b[0;32m    459\u001b[0m         \u001b[38;5;124mf\u001b[39m\u001b[38;5;124m\"\u001b[39m\u001b[38;5;124mGraphML does not support type \u001b[39m\u001b[38;5;132;01m{\u001b[39;00mkey\u001b[38;5;132;01m}\u001b[39;00m\u001b[38;5;124m as data values.\u001b[39m\u001b[38;5;124m\"\u001b[39m\n\u001b[0;32m    460\u001b[0m     ) \u001b[38;5;28;01mfrom\u001b[39;00m\u001b[38;5;250m \u001b[39m\u001b[38;5;21;01merr\u001b[39;00m\n",
      "\u001b[1;31mTypeError\u001b[0m: GraphML does not support type <class 'tuple'> as data values."
     ]
    }
   ],
   "source": [
    "#saving the graph to a file:\n",
    "\n",
    "nx.write_graphml(G, \"subsea_cables.graphml\")#doesn't work because we have tuple attributes"
   ]
  },
  {
   "cell_type": "code",
   "execution_count": null,
   "id": "2a183a09",
   "metadata": {},
   "outputs": [],
   "source": [
    "\n",
    "#Persisting issues:\n",
    "\n",
    "#only like 289 out of the 703 landing stations are actually matched! -> that is wayyyy less than what I had yesterday, so something is funky!\n",
    "#(they should match up exactly even with floats)\n",
    "\n",
    "#disconnected components are present    ->  this doesn't make sense for the web\n",
    "#e.g. Copenhagen is only connected to Malmö. Why???\n",
    "\n",
    "#some cities are straight up missing: Banjul is a good example: the coordinates match up exactly, but it is marked as \"undersea\" (also Beirut & Tartus)\n",
    "\n",
    "#a lot of redundant nodes on the sea floor -> they are just intermediate nodes of a single cable (degree 2) -> we can get rid of them,\n",
    "#perhaps just by filtering for \"undersea\" nodes with degree 2 and then deleting them (connecting their two neighbors directly while making sure\n",
    "# that actually both edges belong to the same cable with the same capacity!)\n",
    "#   -> I fixed it, got rid of about 100 nodes and 100 edges!\n",
    "\n",
    "#some cables seem to be passing over the land   ->  check if they actually are correct (or if there should be intermediate undersea nodes at\n",
    "# intersections)\n",
    "\n",
    "#some nodes have insanely high degree, like New York -> do they actually have that many edges???\n",
    "#like what the hell is going on between NY and \"Sennen Cove\" in the UK???\n",
    "\n",
    "#what the hell is going on with the giant hairball in the carribean sea? and in front of china's coast?\n",
    "\n",
    "\n",
    "\n",
    "#   some cities are singletons! Now I added them, but they don't have any edges! -> fix it by getting getting the coordinate at the other end of the cable (even though we know it's not a relevant coordinate) and adding it\n",
    "#   like for example the cable from lon: 34.934425999999995 lat: 70.038511 that goes into nothingness above russia\n",
    "#   why is the US west coast not connected to China's east coast?\n",
    "\n",
    "\n",
    "#Sitka USA is a singleton! (somehow the cable from Angloon just doesn't get picked up???)"
   ]
  }
 ],
 "metadata": {
  "kernelspec": {
   "display_name": "base",
   "language": "python",
   "name": "python3"
  },
  "language_info": {
   "codemirror_mode": {
    "name": "ipython",
    "version": 3
   },
   "file_extension": ".py",
   "mimetype": "text/x-python",
   "name": "python",
   "nbconvert_exporter": "python",
   "pygments_lexer": "ipython3",
   "version": "3.13.5"
  }
 },
 "nbformat": 4,
 "nbformat_minor": 5
}
