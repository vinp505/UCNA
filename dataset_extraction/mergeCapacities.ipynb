{
 "cells": [
  {
   "cell_type": "code",
   "execution_count": 29,
   "id": "b0ef4a78",
   "metadata": {},
   "outputs": [
    {
     "name": "stdout",
     "output_type": "stream",
     "text": [
      "Number of unique cables edges: 265\n",
      "Number of capacity entries: 193\n"
     ]
    }
   ],
   "source": [
    "import pandas as pd\n",
    "\n",
    "#load the cable capacities\n",
    "capacitiesDf = pd.read_csv(\"cableCapacities.csv\")\n",
    "cablesDf = pd.read_csv(\"all_cables.csv\")\n",
    "\n",
    "print(f\"Number of unique cables edges: {cablesDf.shape[0]}\")\n",
    "filteredCapacities = capacitiesDf[capacitiesDf[\"capacity\"] != 0]\n",
    "print(f\"Number of capacity entries: {filteredCapacities.shape[0]}\")\n",
    "capacityNames = set(filteredCapacities[\"name\"].unique())\n",
    "capacityShortNames = set(filteredCapacities[\"shortName\"].unique())"
   ]
  },
  {
   "cell_type": "code",
   "execution_count": 30,
   "id": "03f64708",
   "metadata": {},
   "outputs": [
    {
     "name": "stdout",
     "output_type": "stream",
     "text": [
      "49\n",
      "96\n",
      "109\n"
     ]
    }
   ],
   "source": [
    "cableNames = set(cablesDf[\"name\"])\n",
    "\n",
    "commonsName = capacityNames.intersection(cableNames)\n",
    "print(len(commonsName))\n",
    "\n",
    "commonsShortName = capacityShortNames.intersection(cableNames)\n",
    "print(len(commonsShortName))\n",
    "\n",
    "print(len(commonsName.union(commonsShortName)))"
   ]
  },
  {
   "cell_type": "code",
   "execution_count": 31,
   "id": "a74c6c1f",
   "metadata": {},
   "outputs": [
    {
     "data": {
      "application/vnd.microsoft.datawrangler.viewer.v0+json": {
       "columns": [
        {
         "name": "index",
         "rawType": "int64",
         "type": "integer"
        },
        {
         "name": "name",
         "rawType": "object",
         "type": "string"
        },
        {
         "name": "shortName",
         "rawType": "object",
         "type": "unknown"
        },
        {
         "name": "capacity",
         "rawType": "int64",
         "type": "integer"
        }
       ],
       "ref": "34a7fd9c-9a35-4bee-970d-4f7446f1c27d",
       "rows": [
        [
         "0",
         "ACS Alaska-Oregon Network",
         "AKRON",
         "2621"
        ],
        [
         "1",
         "Aden-Djibouti",
         null,
         "0"
        ],
        [
         "2",
         "ADRIA-1",
         null,
         "0"
        ],
        [
         "3",
         "Africa Coast to Europe Cable System",
         "ACE",
         "5120"
        ],
        [
         "4",
         "Alaska United East",
         "AU-East",
         "50"
        ]
       ],
       "shape": {
        "columns": 3,
        "rows": 5
       }
      },
      "text/html": [
       "<div>\n",
       "<style scoped>\n",
       "    .dataframe tbody tr th:only-of-type {\n",
       "        vertical-align: middle;\n",
       "    }\n",
       "\n",
       "    .dataframe tbody tr th {\n",
       "        vertical-align: top;\n",
       "    }\n",
       "\n",
       "    .dataframe thead th {\n",
       "        text-align: right;\n",
       "    }\n",
       "</style>\n",
       "<table border=\"1\" class=\"dataframe\">\n",
       "  <thead>\n",
       "    <tr style=\"text-align: right;\">\n",
       "      <th></th>\n",
       "      <th>name</th>\n",
       "      <th>shortName</th>\n",
       "      <th>capacity</th>\n",
       "    </tr>\n",
       "  </thead>\n",
       "  <tbody>\n",
       "    <tr>\n",
       "      <th>0</th>\n",
       "      <td>ACS Alaska-Oregon Network</td>\n",
       "      <td>AKRON</td>\n",
       "      <td>2621</td>\n",
       "    </tr>\n",
       "    <tr>\n",
       "      <th>1</th>\n",
       "      <td>Aden-Djibouti</td>\n",
       "      <td>NaN</td>\n",
       "      <td>0</td>\n",
       "    </tr>\n",
       "    <tr>\n",
       "      <th>2</th>\n",
       "      <td>ADRIA-1</td>\n",
       "      <td>NaN</td>\n",
       "      <td>0</td>\n",
       "    </tr>\n",
       "    <tr>\n",
       "      <th>3</th>\n",
       "      <td>Africa Coast to Europe Cable System</td>\n",
       "      <td>ACE</td>\n",
       "      <td>5120</td>\n",
       "    </tr>\n",
       "    <tr>\n",
       "      <th>4</th>\n",
       "      <td>Alaska United East</td>\n",
       "      <td>AU-East</td>\n",
       "      <td>50</td>\n",
       "    </tr>\n",
       "  </tbody>\n",
       "</table>\n",
       "</div>"
      ],
      "text/plain": [
       "                                  name shortName  capacity\n",
       "0            ACS Alaska-Oregon Network     AKRON      2621\n",
       "1                        Aden-Djibouti       NaN         0\n",
       "2                              ADRIA-1       NaN         0\n",
       "3  Africa Coast to Europe Cable System       ACE      5120\n",
       "4                   Alaska United East   AU-East        50"
      ]
     },
     "execution_count": 31,
     "metadata": {},
     "output_type": "execute_result"
    }
   ],
   "source": [
    "capacitiesDf.head()"
   ]
  },
  {
   "cell_type": "code",
   "execution_count": 32,
   "id": "4fef12a6",
   "metadata": {},
   "outputs": [],
   "source": [
    "#summary:\n",
    "#   from the submatrix dataset we have 265 unique cables\n",
    "#   we have 193 cables for which the capacity is known (not 0) (in the capacity dataset)\n",
    "#   we can match the capacity for 109 out of the 265 cables (automatically, manually we might get more because maybe they are just named differently)\n"
   ]
  },
  {
   "cell_type": "code",
   "execution_count": null,
   "id": "6ccc4af6",
   "metadata": {},
   "outputs": [
    {
     "name": "stdout",
     "output_type": "stream",
     "text": [
      "109\n"
     ]
    }
   ],
   "source": [
    "#   now let's try to merge on name and short name:\n",
    "import numpy as np\n",
    "\n",
    "# First join on Name\n",
    "merged1 = cablesDf.merge(filteredCapacities[[\"name\", \"capacity\"]], \n",
    "                       on=\"name\", how=\"left\")\n",
    "\n",
    "# Then join on Short Name (only fill NaN values from first merge)\n",
    "finalDf = merged1.merge(filteredCapacities[[\"shortName\", \"capacity\"]], \n",
    "                        left_on=\"name\", right_on=\"shortName\", \n",
    "                        how=\"left\", suffixes=(\"\", \"_short\"))\n",
    "\n",
    "# If Capacity from Name match is missing, take Capacity from Short Name match\n",
    "finalDf[\"capacity\"] = finalDf[\"capacity\"].fillna(finalDf[\"capacity_short\"])\n",
    "\n",
    "# Drop helper column\n",
    "finalDf = finalDf.drop(columns=[\"shortName\", \"capacity_short\"])\n",
    "finalDf[\"capacity\"] = finalDf[\"capacity\"].fillna(0)\n",
    "\n",
    "finalDf.to_csv(\"withCapacity.csv\", index=False)\n",
    "\n",
    "finalDf.head()\n",
    "print(np.sum(finalDf[\"capacity\"] != 0.0))#we have the capacities for 109 out of the 245 cables"
   ]
  }
 ],
 "metadata": {
  "kernelspec": {
   "display_name": "base",
   "language": "python",
   "name": "python3"
  },
  "language_info": {
   "codemirror_mode": {
    "name": "ipython",
    "version": 3
   },
   "file_extension": ".py",
   "mimetype": "text/x-python",
   "name": "python",
   "nbconvert_exporter": "python",
   "pygments_lexer": "ipython3",
   "version": "3.13.5"
  }
 },
 "nbformat": 4,
 "nbformat_minor": 5
}
