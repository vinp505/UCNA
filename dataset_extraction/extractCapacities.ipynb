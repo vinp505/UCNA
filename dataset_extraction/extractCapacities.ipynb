{
 "cells": [
  {
   "cell_type": "code",
   "execution_count": 13,
   "id": "e41d3827",
   "metadata": {},
   "outputs": [
    {
     "name": "stdout",
     "output_type": "stream",
     "text": [
      "(352, 3)\n"
     ]
    },
    {
     "data": {
      "application/vnd.microsoft.datawrangler.viewer.v0+json": {
       "columns": [
        {
         "name": "index",
         "rawType": "int64",
         "type": "integer"
        },
        {
         "name": "name",
         "rawType": "object",
         "type": "string"
        },
        {
         "name": "shortName",
         "rawType": "object",
         "type": "unknown"
        },
        {
         "name": "capacity",
         "rawType": "int64",
         "type": "integer"
        }
       ],
       "ref": "faf79b5c-ccaf-4c92-b8ad-d7ebb5167dda",
       "rows": [
        [
         "0",
         "ACS Alaska-Oregon Network",
         "AKRON",
         "2621"
        ],
        [
         "1",
         "Aden-Djibouti",
         null,
         "0"
        ],
        [
         "2",
         "ADRIA-1",
         null,
         "0"
        ],
        [
         "4",
         "Africa Coast to Europe Cable System",
         "ACE",
         "5120"
        ],
        [
         "6",
         "Alaska United East",
         "AU-East",
         "50"
        ]
       ],
       "shape": {
        "columns": 3,
        "rows": 5
       }
      },
      "text/html": [
       "<div>\n",
       "<style scoped>\n",
       "    .dataframe tbody tr th:only-of-type {\n",
       "        vertical-align: middle;\n",
       "    }\n",
       "\n",
       "    .dataframe tbody tr th {\n",
       "        vertical-align: top;\n",
       "    }\n",
       "\n",
       "    .dataframe thead th {\n",
       "        text-align: right;\n",
       "    }\n",
       "</style>\n",
       "<table border=\"1\" class=\"dataframe\">\n",
       "  <thead>\n",
       "    <tr style=\"text-align: right;\">\n",
       "      <th></th>\n",
       "      <th>name</th>\n",
       "      <th>shortName</th>\n",
       "      <th>capacity</th>\n",
       "    </tr>\n",
       "  </thead>\n",
       "  <tbody>\n",
       "    <tr>\n",
       "      <th>0</th>\n",
       "      <td>ACS Alaska-Oregon Network</td>\n",
       "      <td>AKRON</td>\n",
       "      <td>2621</td>\n",
       "    </tr>\n",
       "    <tr>\n",
       "      <th>1</th>\n",
       "      <td>Aden-Djibouti</td>\n",
       "      <td>NaN</td>\n",
       "      <td>0</td>\n",
       "    </tr>\n",
       "    <tr>\n",
       "      <th>2</th>\n",
       "      <td>ADRIA-1</td>\n",
       "      <td>NaN</td>\n",
       "      <td>0</td>\n",
       "    </tr>\n",
       "    <tr>\n",
       "      <th>4</th>\n",
       "      <td>Africa Coast to Europe Cable System</td>\n",
       "      <td>ACE</td>\n",
       "      <td>5120</td>\n",
       "    </tr>\n",
       "    <tr>\n",
       "      <th>6</th>\n",
       "      <td>Alaska United East</td>\n",
       "      <td>AU-East</td>\n",
       "      <td>50</td>\n",
       "    </tr>\n",
       "  </tbody>\n",
       "</table>\n",
       "</div>"
      ],
      "text/plain": [
       "                                  name shortName  capacity\n",
       "0            ACS Alaska-Oregon Network     AKRON      2621\n",
       "1                        Aden-Djibouti       NaN         0\n",
       "2                              ADRIA-1       NaN         0\n",
       "4  Africa Coast to Europe Cable System       ACE      5120\n",
       "6                   Alaska United East   AU-East        50"
      ]
     },
     "execution_count": 13,
     "metadata": {},
     "output_type": "execute_result"
    }
   ],
   "source": [
    "import pandas as pd\n",
    "\n",
    "#load the html file:\n",
    "tables = pd.read_html(\"capacityTable.html\")\n",
    "df = tables[0]#get the first table\n",
    "df = df[df[\"Status\"] == \"Active\"]#only get the active cables\n",
    "df = df[[\"Name\", \"Short Name\", \"Capacity(in Gbps)\"]]\n",
    "df.columns = [\"name\", \"shortName\", \"capacity\"]\n",
    "\n",
    "print(df.shape)\n",
    "df.head()"
   ]
  },
  {
   "cell_type": "code",
   "execution_count": 14,
   "id": "a1afc49b",
   "metadata": {},
   "outputs": [],
   "source": [
    "df.to_csv(\"cableCapacities.csv\", index=False)"
   ]
  },
  {
   "cell_type": "code",
   "execution_count": 15,
   "id": "93e08440",
   "metadata": {},
   "outputs": [
    {
     "data": {
      "application/vnd.microsoft.datawrangler.viewer.v0+json": {
       "columns": [
        {
         "name": "index",
         "rawType": "int64",
         "type": "integer"
        },
        {
         "name": "name",
         "rawType": "object",
         "type": "string"
        },
        {
         "name": "shortName",
         "rawType": "object",
         "type": "unknown"
        },
        {
         "name": "capacity",
         "rawType": "int64",
         "type": "integer"
        }
       ],
       "ref": "3b23fb15-dc33-4540-b9b4-d6ec59606ced",
       "rows": [
        [
         "0",
         "ACS Alaska-Oregon Network",
         "AKRON",
         "2621"
        ],
        [
         "1",
         "Aden-Djibouti",
         null,
         "0"
        ],
        [
         "2",
         "ADRIA-1",
         null,
         "0"
        ],
        [
         "3",
         "Africa Coast to Europe Cable System",
         "ACE",
         "5120"
        ],
        [
         "4",
         "Alaska United East",
         "AU-East",
         "50"
        ]
       ],
       "shape": {
        "columns": 3,
        "rows": 5
       }
      },
      "text/html": [
       "<div>\n",
       "<style scoped>\n",
       "    .dataframe tbody tr th:only-of-type {\n",
       "        vertical-align: middle;\n",
       "    }\n",
       "\n",
       "    .dataframe tbody tr th {\n",
       "        vertical-align: top;\n",
       "    }\n",
       "\n",
       "    .dataframe thead th {\n",
       "        text-align: right;\n",
       "    }\n",
       "</style>\n",
       "<table border=\"1\" class=\"dataframe\">\n",
       "  <thead>\n",
       "    <tr style=\"text-align: right;\">\n",
       "      <th></th>\n",
       "      <th>name</th>\n",
       "      <th>shortName</th>\n",
       "      <th>capacity</th>\n",
       "    </tr>\n",
       "  </thead>\n",
       "  <tbody>\n",
       "    <tr>\n",
       "      <th>0</th>\n",
       "      <td>ACS Alaska-Oregon Network</td>\n",
       "      <td>AKRON</td>\n",
       "      <td>2621</td>\n",
       "    </tr>\n",
       "    <tr>\n",
       "      <th>1</th>\n",
       "      <td>Aden-Djibouti</td>\n",
       "      <td>NaN</td>\n",
       "      <td>0</td>\n",
       "    </tr>\n",
       "    <tr>\n",
       "      <th>2</th>\n",
       "      <td>ADRIA-1</td>\n",
       "      <td>NaN</td>\n",
       "      <td>0</td>\n",
       "    </tr>\n",
       "    <tr>\n",
       "      <th>3</th>\n",
       "      <td>Africa Coast to Europe Cable System</td>\n",
       "      <td>ACE</td>\n",
       "      <td>5120</td>\n",
       "    </tr>\n",
       "    <tr>\n",
       "      <th>4</th>\n",
       "      <td>Alaska United East</td>\n",
       "      <td>AU-East</td>\n",
       "      <td>50</td>\n",
       "    </tr>\n",
       "  </tbody>\n",
       "</table>\n",
       "</div>"
      ],
      "text/plain": [
       "                                  name shortName  capacity\n",
       "0            ACS Alaska-Oregon Network     AKRON      2621\n",
       "1                        Aden-Djibouti       NaN         0\n",
       "2                              ADRIA-1       NaN         0\n",
       "3  Africa Coast to Europe Cable System       ACE      5120\n",
       "4                   Alaska United East   AU-East        50"
      ]
     },
     "execution_count": 15,
     "metadata": {},
     "output_type": "execute_result"
    }
   ],
   "source": [
    "dfCSV = pd.read_csv(\"cableCapacities.csv\")\n",
    "dfCSV.head()"
   ]
  }
 ],
 "metadata": {
  "kernelspec": {
   "display_name": "base",
   "language": "python",
   "name": "python3"
  },
  "language_info": {
   "codemirror_mode": {
    "name": "ipython",
    "version": 3
   },
   "file_extension": ".py",
   "mimetype": "text/x-python",
   "name": "python",
   "nbconvert_exporter": "python",
   "pygments_lexer": "ipython3",
   "version": "3.13.5"
  }
 },
 "nbformat": 4,
 "nbformat_minor": 5
}
