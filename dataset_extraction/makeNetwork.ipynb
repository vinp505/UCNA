{
 "cells": [
  {
   "cell_type": "code",
   "execution_count": 172,
   "id": "c07638a0",
   "metadata": {},
   "outputs": [],
   "source": [
    "import pandas as pd\n",
    "import networkx as nx\n",
    "import json\n",
    "\n",
    "# Load CSV\n",
    "df = pd.read_csv(\"withCapacity.csv\")"
   ]
  },
  {
   "cell_type": "code",
   "execution_count": 173,
   "id": "61cdd22c",
   "metadata": {},
   "outputs": [
    {
     "name": "stdout",
     "output_type": "stream",
     "text": [
      "703\n",
      "677\n",
      "Nodes: 1074\n",
      "Edges: 1119\n",
      "Length of city names in graph: 1074\n",
      "Number of unique city names in graph:546\n",
      "Occurences of \"undersea\": 508\n",
      "{'Oxford Falls, Sydney (Australia)', ' ()', 'Rankin Inlet (Canada)', 'Quagtaq (Canada)', 'Anaduir (Russia)', 'San Jose (USA)', 'Sochi (Russia)', 'Uturoa (French Polynesia)', 'Island Park (USA)', 'Helsing�r (Denmark)', 'Algiers (Algeria)', 'Puerto Cabezas (Nicaragua)', 'Auckland (New Zealand)', 'Ketchikan (USA)', 'Oahu (Hawaii)', 'Ninomiya (Japan)', 'Paddington, Sydney (Australia)', 'Boma (Democratic Republic of Congo)', 'Punta Gorda (Venezuela)', 'Puerto Lempira (Honduras)', 'La Union (Philippines)', 'Bunkeflostrand (Sweden)', 'Port Hedland (Australia)', 'Ustupo (Panama)', 'Koropi (Greece)', 'Basseterre (Saint Kitts and Nevis)', 'Sainte Marie (Reunion)', 'Cambridge Bay CLS (Canada)', 'Paljassaare (Estonia)', 'Okha (Sakhalin) ()', 'Ladyville (Belize)', 'Tahkuna (Estonia)', 'Santana (S�o Tom� and Pr�ncipe)', 'Caracas (Venezuela)', 'Taloyoak (Canada)', 'Kingstown (St. Vincent)', 'Halul (Qatar)', 'Hango (Finland)', 'Moorea (French Polynesia)', 'Cat Island (Bahamas)', 'Das (UAE)', 'Saint-Valery-en-Caux (France)', 'South La (Ghana)', 'Skewjack (UK)', 'Flores (Portugal)', 'Puerto San Jose (Guatemala)', 'Nairobi (Kenya)', 'Frankfurt (Germany)', 'Trojillo (Honduras)', 'Puerto Viejo (Venezuela)', 'Amsterdam (Netherlands)', 'Point Arena (USA)', 'Matara (Sri Lanka)', 'Prudhoe Bay (USA)', 'Hawaii (USA)', 'Lantau (Hong Kong)', 'Kampala (Uganda)', 'Veules-les-Roses (France)', 'Cairo (Egypt)', 'K�rdla (Estonia)', 'Katwijk (Netherlands)', 'Anguilla (Anguilla)', 'Haraldsholm (Finland)', 'Crooked Island (Bahamas)', 'Massawa (Eritrea)', 'Kangirsuk (Canada)', 'Vale (Guernsey)', 'Fangshan (Taiwan)', 'Capepisa (Philippines)', 'Freeport (Bahamas)', 'Makaha (Hawaii)', 'Khasab (Oman)', 'Riding Point (Bahamas)', 'Corvo (Portugal)', 'Martinique (Martinique)', 'Coral Harbour BMH (Canada)', 'Providenciales (Turks and Caicos Islands)', 'Seaford (United Kingdom)', 'Kitaibaraki (Japan)', 'Ajigaura (Japan)', 'Salluit (Canada)', 'Fakafo (Tokelau)', 'Seattle (USA)', 'Hulhumale (Maldives)', 'Tanshui (Taiwan)', \"Cape D'Aguilar (Hong Kong)\", 'Whitesand Bay (UK)', 'Harstad (Norway)', 'Siboney (Cuba)', 'Reykjav�k (Iceland)', 'Los Angeles (USA)', 'Berbera (Somalialand)', 'Taipa (Macau)', 'Katong (Singapore)', 'Chesterfield Inlet (Canada)', 'Mouli Island (New Caledonia)', 'Brookvale, Sydney (Australia)', 'Portimao (Portugal)', 'Nuuk (Greenland)', 'Qaqortoq (Greenland)', 'Bluefields (Nicaragua)', 'Kenai (USA)', 'Tulum (Mexico)', 'Broadstairs (United Kingdom)', 'Castricum (Netherlands)', 'Montserrat (Montserrat)', 'Maiquetia (Venezuela)', 'Ras Sudar (Egypt)', 'Riohacha (Colombia)', 'Sumaisma (Qatar)', 'Yanbu (Saudi Arabia)', 'Kotka (Finland)', 'St. Lucia (St. Lucia)', 'Reagan Test Site (Kwajalein)', 'Eight Mile Rock (Bahamas)', 'Port Salines (Grenada)', 'Valdemar (Oil Platform) (Denmark)', 'Hotellneset (Norway)', 'Bandon (USA)', 'Battery Pratt (Panama)', 'M�de (Denmark)', 'Marsh Harbour (Bahamas)', 'Gambell BMH (USA)', 'F�r�sund (Sweden)', 'Wrangell (USA)', 'Virginia Beach (USA)', 'Sangano Village (Cable Station) (Angola)', 'Punta Cana (Dominican Republic)', 'West Palm Beach ()', 'Goonhilly (United Kingdom)', 'Izmir (Turkey)'}\n",
      "131\n"
     ]
    }
   ],
   "source": [
    "\n",
    "# Initialize graph (undirected, since cables connect both ways)\n",
    "G = nx.Graph()\n",
    "\n",
    "# Iterate over rows and add nodes/edges\n",
    "for _, row in df.iterrows():\n",
    "    start = (row[\"Start_Lon\"], row[\"Start_Lat\"])\n",
    "    end = (row[\"End_Lon\"], row[\"End_Lat\"])\n",
    "    \n",
    "    # Add nodes with coordinate attributes\n",
    "    if start not in G:\n",
    "        G.add_node(start, lon=row[\"Start_Lon\"], lat=row[\"Start_Lat\"])\n",
    "    if end not in G:\n",
    "        G.add_node(end, lon=row[\"End_Lon\"], lat=row[\"End_Lat\"])\n",
    "    \n",
    "    # Add edge with cable attributes\n",
    "    G.add_edge(\n",
    "        start, end,\n",
    "        name=row[\"Name\"],\n",
    "        capacity=row.get(\"Capacity(in Gbps)\", None)\n",
    "    )\n",
    "    \n",
    "# Load geojson with landing stations\n",
    "with open(\"landpointsGeojson/Landing_Points.geojson\", \"r\", encoding=\"utf-8\") as f:\n",
    "    geojson = json.load(f)\n",
    "\n",
    "#Build lookup: (lon, lat) -> city name\n",
    "city_lookup = {}\n",
    "cityNames = []\n",
    "for feature in geojson[\"features\"]:\n",
    "    coords = feature[\"geometry\"][\"coordinates\"]\n",
    "    lon, lat = round(coords[0], 6), round(coords[1], 6)\n",
    "    city_name = feature[\"properties\"].get(\"description\", \"unknown\")\n",
    "    cityNames.append(city_name)\n",
    "    city_lookup[(lon, lat)] = city_name\n",
    "    city_lookup[(lon, -lat)] = city_name#add the city with flipped lattitude\n",
    "    city_lookup[(-lon, lat)] = city_name\n",
    "    city_lookup[(-lon, -lat)] = city_name\n",
    "print(len(cityNames))\n",
    "print(len(set(cityNames)))\n",
    "\n",
    "# Assign name attribute to all nodes\n",
    "for node, data in G.nodes(data=True):\n",
    "    lon, lat = round(data[\"lon\"], 6), round(data[\"lat\"], 6)\n",
    "    \n",
    "    if (lon, lat) in city_lookup:\n",
    "        G.nodes[node][\"name\"] = city_lookup[(lon, lat)]\n",
    "    else:\n",
    "        G.nodes[node][\"name\"] = \"undersea\"\n",
    "\n",
    "# from math import radians, sin, cos, sqrt, atan2\n",
    "\n",
    "# # # Haversine distance (km) between two lon/lat points\n",
    "# def haversine(lon1, lat1, lon2, lat2):\n",
    "#     R = 6371.0  # Earth radius in km\n",
    "#     dlon = radians(lon2 - lon1)\n",
    "#     dlat = radians(lat2 - lat1)\n",
    "#     a = sin(dlat/2)**2 + cos(radians(lat1)) * cos(radians(lat2)) * sin(dlon/2)**2\n",
    "#     c = 2 * atan2(sqrt(a), sqrt(1-a))\n",
    "#     return R * c\n",
    "\n",
    "# # # Assign city names by nearest match (within threshold)\n",
    "# max_distance_km = 1\n",
    "\n",
    "# for node, data in G.nodes(data=True):\n",
    "#     lon, lat = data[\"lon\"], data[\"lat\"]\n",
    "#     assigned = False\n",
    "#     for city_lon, city_lat in city_lookup:\n",
    "#         dist = haversine(lon, lat, city_lon, city_lat)\n",
    "#         if dist <= max_distance_km:  # within threshold\n",
    "#             G.nodes[node][\"name\"] = city_lookup[(city_lon, city_lat)]\n",
    "#             assigned = True\n",
    "#             break\n",
    "#     if not assigned:\n",
    "#         G.nodes[node][\"name\"] = \"undersea\"\n",
    "\n",
    "# Example: show number of nodes and edges\n",
    "print(\"Nodes:\", len(G.nodes))\n",
    "print(\"Edges:\", len(G.edges))\n",
    "\n",
    "#get the entries for some of the cities to see if it worked:\n",
    "cityNamesGraph = []\n",
    "for _, d in list(G.nodes(data=True)):\n",
    "    cityNamesGraph.append(d[\"name\"])\n",
    "print(f\"Length of city names in graph: {len(cityNamesGraph)}\")\n",
    "print(f\"Number of unique city names in graph:{len(set(cityNamesGraph))-1}\")#-1 because \"undersea\" will be one of the values\n",
    "print(f\"Occurences of \\\"undersea\\\": {cityNamesGraph.count(\"undersea\")}\")\n",
    "difference = set(cityNames).difference(cityNamesGraph)\n",
    "print(difference)\n",
    "print(len(difference))\n",
    "\n",
    "# Save graph to file (GraphML for readability, or GEXF for Gephi)\n",
    "nx.write_graphml(G, \"subsea_cables.graphml\")"
   ]
  },
  {
   "cell_type": "code",
   "execution_count": 174,
   "id": "17805b6b",
   "metadata": {},
   "outputs": [
    {
     "name": "stdout",
     "output_type": "stream",
     "text": [
      "155\n"
     ]
    }
   ],
   "source": [
    "#okay, first let's see how many intersections there actually are:\n",
    "cableCoordinates = set()\n",
    "for _, row in df.iterrows():\n",
    "    start = (row[\"Start_Lon\"], row[\"Start_Lat\"])\n",
    "    end = (row[\"End_Lon\"], row[\"End_Lat\"])\n",
    "    cableCoordinates.add(start)\n",
    "    cableCoordinates.add(end)\n",
    "    \n",
    "landingCoordinates = set()\n",
    "landingCoordinatesFlipLat = set()\n",
    "for feature in geojson[\"features\"]:\n",
    "        city_name = feature[\"properties\"].get(\"Name\", \"unknown\")\n",
    "        city_lon, city_lat = feature[\"geometry\"][\"coordinates\"]\n",
    "        landingCoordinates.add((city_lon, city_lat))\n",
    "        landingCoordinatesFlipLat.add((city_lon, -city_lat))\n",
    "        #print(f\"City: {city_name} Coords: {city_lon}, {city_lat}\")\n",
    "\n",
    "print(len(cableCoordinates.intersection(landingCoordinates.union(landingCoordinatesFlipLat))))\n",
    "#seems like 155 cable coordinates match city coordinates exactly "
   ]
  },
  {
   "cell_type": "code",
   "execution_count": 175,
   "id": "442be66e",
   "metadata": {},
   "outputs": [
    {
     "data": {
      "application/vnd.microsoft.datawrangler.viewer.v0+json": {
       "columns": [
        {
         "name": "index",
         "rawType": "int64",
         "type": "integer"
        },
        {
         "name": "index",
         "rawType": "int64",
         "type": "integer"
        },
        {
         "name": "longitude",
         "rawType": "float64",
         "type": "float"
        },
        {
         "name": "latitude",
         "rawType": "float64",
         "type": "float"
        },
        {
         "name": "name",
         "rawType": "object",
         "type": "string"
        },
        {
         "name": "description",
         "rawType": "object",
         "type": "string"
        }
       ],
       "ref": "08a95234-f7e9-4d82-a2bf-b0f71fbf2560",
       "rows": [
        [
         "0",
         "0",
         "88.49406667",
         "30.33285",
         "Pascagoula",
         "Pascagoula (USA)"
        ],
        [
         "1",
         "1",
         "95.34206667",
         "28.91323333",
         "Freeport",
         "Freeport (USA)"
        ],
        [
         "2",
         "2",
         "32.59493428",
         "25.97461783",
         "Maputo",
         "Maputo (Mozambique)"
        ],
        [
         "3",
         "3",
         "31.76831667",
         "28.96246667",
         "Mtunzini",
         "Mtunzini (South Africa)"
        ],
        [
         "4",
         "4",
         "43.69802068",
         "23.40926309",
         "Toliara",
         "Toliara (Madagascar)"
        ]
       ],
       "shape": {
        "columns": 5,
        "rows": 5
       }
      },
      "text/html": [
       "<div>\n",
       "<style scoped>\n",
       "    .dataframe tbody tr th:only-of-type {\n",
       "        vertical-align: middle;\n",
       "    }\n",
       "\n",
       "    .dataframe tbody tr th {\n",
       "        vertical-align: top;\n",
       "    }\n",
       "\n",
       "    .dataframe thead th {\n",
       "        text-align: right;\n",
       "    }\n",
       "</style>\n",
       "<table border=\"1\" class=\"dataframe\">\n",
       "  <thead>\n",
       "    <tr style=\"text-align: right;\">\n",
       "      <th></th>\n",
       "      <th>index</th>\n",
       "      <th>longitude</th>\n",
       "      <th>latitude</th>\n",
       "      <th>name</th>\n",
       "      <th>description</th>\n",
       "    </tr>\n",
       "  </thead>\n",
       "  <tbody>\n",
       "    <tr>\n",
       "      <th>0</th>\n",
       "      <td>0</td>\n",
       "      <td>88.494067</td>\n",
       "      <td>30.332850</td>\n",
       "      <td>Pascagoula</td>\n",
       "      <td>Pascagoula (USA)</td>\n",
       "    </tr>\n",
       "    <tr>\n",
       "      <th>1</th>\n",
       "      <td>1</td>\n",
       "      <td>95.342067</td>\n",
       "      <td>28.913233</td>\n",
       "      <td>Freeport</td>\n",
       "      <td>Freeport (USA)</td>\n",
       "    </tr>\n",
       "    <tr>\n",
       "      <th>2</th>\n",
       "      <td>2</td>\n",
       "      <td>32.594934</td>\n",
       "      <td>25.974618</td>\n",
       "      <td>Maputo</td>\n",
       "      <td>Maputo (Mozambique)</td>\n",
       "    </tr>\n",
       "    <tr>\n",
       "      <th>3</th>\n",
       "      <td>3</td>\n",
       "      <td>31.768317</td>\n",
       "      <td>28.962467</td>\n",
       "      <td>Mtunzini</td>\n",
       "      <td>Mtunzini (South Africa)</td>\n",
       "    </tr>\n",
       "    <tr>\n",
       "      <th>4</th>\n",
       "      <td>4</td>\n",
       "      <td>43.698021</td>\n",
       "      <td>23.409263</td>\n",
       "      <td>Toliara</td>\n",
       "      <td>Toliara (Madagascar)</td>\n",
       "    </tr>\n",
       "  </tbody>\n",
       "</table>\n",
       "</div>"
      ],
      "text/plain": [
       "   index  longitude   latitude        name              description\n",
       "0      0  88.494067  30.332850  Pascagoula         Pascagoula (USA)\n",
       "1      1  95.342067  28.913233    Freeport           Freeport (USA)\n",
       "2      2  32.594934  25.974618      Maputo      Maputo (Mozambique)\n",
       "3      3  31.768317  28.962467    Mtunzini  Mtunzini (South Africa)\n",
       "4      4  43.698021  23.409263     Toliara     Toliara (Madagascar)"
      ]
     },
     "execution_count": 175,
     "metadata": {},
     "output_type": "execute_result"
    }
   ],
   "source": [
    "landpointsDf = pd.read_csv(\"landpoints.csv\")\n",
    "landpointsDf.head()"
   ]
  },
  {
   "cell_type": "code",
   "execution_count": 176,
   "id": "be22fc73",
   "metadata": {},
   "outputs": [
    {
     "name": "stdout",
     "output_type": "stream",
     "text": [
      "['Angoon', 'Ayre of Cara', 'Baie du Jacotet', 'Bruges', 'Dublin', 'Dublin', 'Dublin', 'Freeport', 'Gedebak Odde', 'Hawaiki Landing', 'Kilmore Quay', 'Kochi', 'Lagos', 'Manasquan', 'Marmaris', 'Miami', 'Pacific City', 'Saint-Paul', 'Sandy Point', 'Shantou', 'Southport', 'Southport', 'Tripoli', 'Tuas', 'Tuckerton', 'Varna', 'Zandvoort', 'Zandvoort']\n",
      "28\n"
     ]
    }
   ],
   "source": [
    "uniqueNames = list(landpointsDf[\"name\"].unique())\n",
    "names = list(landpointsDf[\"name\"])\n",
    "for n in uniqueNames:\n",
    "    names.remove(n)#remove 1 occurence of this unique name\n",
    "\n",
    "names.sort()\n",
    "print(names)\n",
    "print(len(names))"
   ]
  },
  {
   "cell_type": "code",
   "execution_count": 177,
   "id": "bb0713bf",
   "metadata": {},
   "outputs": [
    {
     "name": "stdout",
     "output_type": "stream",
     "text": [
      "['Angoon', 'Ayre of Cara', 'Baie du Jacotet', 'Bruges', 'Dublin', 'Dublin', 'Dublin', 'Gedebak Odde', 'Kilmore Quay', 'Kochi', 'Lagos', 'Manasquan', 'Marmaris', 'Miami', 'Pacific City', 'Saint-Paul', 'Shantou', 'Southport', 'Southport', 'Tuas', 'Tuckerton', 'Varna', 'Zandvoort', 'Zandvoort']\n",
      "24\n"
     ]
    }
   ],
   "source": [
    "#same for description:\n",
    "uniqueDescr = list(landpointsDf[\"description\"].unique())\n",
    "descr = list(landpointsDf[\"description\"])\n",
    "for d in uniqueDescr:\n",
    "    descr.remove(d)#remove 1 occurence of this unique description\n",
    "\n",
    "# descr.sort()\n",
    "# print(descr)\n",
    "# print(len(descr))\n",
    "\n",
    "descriptionCities = [x.split(\" (\")[0] for x in descr]\n",
    "descriptionCities.sort()\n",
    "print(descriptionCities)\n",
    "print(len(descriptionCities))\n",
    "\n",
    "#for instance \"Freeport\" actually only appears in the top list because there is Freeport in the USA and Freeport on the Bahamas\n",
    "#   -> we should keep using the description instead of the name"
   ]
  },
  {
   "cell_type": "code",
   "execution_count": 178,
   "id": "a329b138",
   "metadata": {},
   "outputs": [],
   "source": [
    "### Realizations & ToDos:\n",
    "#   some  cities appear multiple times (4x dublin in the landing points)\n",
    "#   with slighly different coordinates. We could just merge nodes based on their name attribute at the\n",
    "#   end (except for the undersea nodes)\n",
    "\n",
    "#   why are some cities not matched to any cable?\n",
    "#   -> let's add them anyways and visualize the thing to see!"
   ]
  },
  {
   "cell_type": "code",
   "execution_count": null,
   "id": "d7fd4dae",
   "metadata": {},
   "outputs": [],
   "source": [
    "#oooookay: so my assumption that the first coordinate of a cable and the last one are the landing points, was false\n",
    "#actually sometimes, a mid-coordinate of a cable might also touch a city/landing point and so it is important\n",
    "\n",
    "#So, how we actually wanna construct this network:\n",
    "#   get all landpoint coordinates with city names/descriptions\n",
    "#   get all cable coordinates (so for each cable, all of it's coordinates)\n",
    "#   -> save all of them such that there is a row for each coordinate and then another column contains\n",
    "#   then name of the cable that connects to this point\n",
    "#   make a new list of all relevant coordinates: those that appear (a) in cables and in landing points (b) in multiple cables\n",
    "#   -> these conditions make a node\n",
    "#   now iterate over all cables from the geojson files and for each cable do:\n",
    "#   -   filter only the relevant coordinates\n",
    "#   -   now add a connection in the graph for every pair of remaining coordinates for this cable\n",
    "#       (weigt equal to the capacity of the cable + add cable name as an attribute)\n",
    "#   \n",
    "#   -   iterate overa all the nodes in the constructed network and assign city names(descriptions) to those\n",
    "#       who appear in the city list (undersea otherwise)\n",
    "\n",
    "#Afterwards: can start merging more stuff(like nodes inside a county, etc...)\n",
    "\n"
   ]
  }
 ],
 "metadata": {
  "kernelspec": {
   "display_name": "base",
   "language": "python",
   "name": "python3"
  },
  "language_info": {
   "codemirror_mode": {
    "name": "ipython",
    "version": 3
   },
   "file_extension": ".py",
   "mimetype": "text/x-python",
   "name": "python",
   "nbconvert_exporter": "python",
   "pygments_lexer": "ipython3",
   "version": "3.13.5"
  }
 },
 "nbformat": 4,
 "nbformat_minor": 5
}
