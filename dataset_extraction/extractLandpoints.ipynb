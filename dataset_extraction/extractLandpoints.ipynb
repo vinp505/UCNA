{
 "cells": [
  {
   "cell_type": "code",
   "execution_count": null,
   "id": "4d1b0ec0",
   "metadata": {},
   "outputs": [
    {
     "name": "stdout",
     "output_type": "stream",
     "text": [
      "Successfully converted 703 entries to landpoints.csv\n",
      "\n",
      "First 5 rows of the converted data:\n",
      "   longitude  latitude        name              description\n",
      "0   88494067  30332850  Pascagoula         Pascagoula (USA)\n",
      "1   95342067  28913233    Freeport           Freeport (USA)\n",
      "2   32594934  25974618      Maputo      Maputo (Mozambique)\n",
      "3   31768317  28962467    Mtunzini  Mtunzini (South Africa)\n",
      "4   43698021  23409263     Toliara     Toliara (Madagascar)\n"
     ]
    }
   ],
   "source": [
    "import json\n",
    "import pandas as pd\n",
    "\n",
    "def geojson_to_csv(geojson_file_path, csv_file_path):\n",
    "    \"\"\"\n",
    "    Convert a GeoJSON file to CSV with coordinates, name and description\n",
    "    \n",
    "    Parameters:\n",
    "    geojson_file_path (str): Path to input GeoJSON file\n",
    "    csv_file_path (str): Path to output CSV file\n",
    "    \"\"\"\n",
    "    \n",
    "    # Read the GeoJSON file\n",
    "    with open(geojson_file_path, 'r', encoding='utf-8') as f:\n",
    "        geojson_data = json.load(f)\n",
    "    \n",
    "    # Extract features\n",
    "    features = geojson_data.get('features', [])\n",
    "    \n",
    "    # Prepare data for DataFrame\n",
    "    data = []\n",
    "    for feature in features:\n",
    "        properties = feature.get('properties', {})\n",
    "        geometry = feature.get('geometry', {})\n",
    "        \n",
    "        # Extract coordinates (assuming Point geometry)\n",
    "        coordinates = geometry.get('coordinates', [])\n",
    "        longitude = coordinates[0] if len(coordinates) > 0 else None\n",
    "        latitude = coordinates[1] if len(coordinates) > 1 else None\n",
    "        longitude, latitude = normCoord(longitude, latitude)\n",
    "        \n",
    "        # Extract name and description\n",
    "        name = properties.get('Name', '')\n",
    "        description = properties.get('description', '')\n",
    "        \n",
    "        data.append({\n",
    "            'longitude': longitude,\n",
    "            'latitude': latitude,\n",
    "            'name': name,\n",
    "            'description': description\n",
    "        })\n",
    "    \n",
    "    # Create DataFrame\n",
    "    df = pd.DataFrame(data)\n",
    "    df = df[df[\"name\"].notna()].copy().reset_index()#drop nas\n",
    "    df.drop(\"index\", axis=1, inplace=True)#html table brings some weird index column\n",
    "    \n",
    "    # Save to CSV\n",
    "    df.to_csv(csv_file_path, index=False, encoding='utf-8')\n",
    "    \n",
    "    print(f\"Successfully converted {len(data)} entries to {csv_file_path}\")\n",
    "    return df\n",
    "\n",
    "# Replace with your actual file paths\n",
    "input_geojson = \"landpointsGeojson/Landing_Points.geojson\"\n",
    "output_csv = \"landpoints.csv\"\n",
    "\n",
    "df = geojson_to_csv(input_geojson, output_csv)\n",
    "\n",
    "# Display first few rows to verify\n",
    "print(\"\\nFirst 5 rows of the converted data:\")\n",
    "print(df.head())"
   ]
  }
 ],
 "metadata": {
  "kernelspec": {
   "display_name": "base",
   "language": "python",
   "name": "python3"
  },
  "language_info": {
   "codemirror_mode": {
    "name": "ipython",
    "version": 3
   },
   "file_extension": ".py",
   "mimetype": "text/x-python",
   "name": "python",
   "nbconvert_exporter": "python",
   "pygments_lexer": "ipython3",
   "version": "3.13.5"
  }
 },
 "nbformat": 4,
 "nbformat_minor": 5
}
