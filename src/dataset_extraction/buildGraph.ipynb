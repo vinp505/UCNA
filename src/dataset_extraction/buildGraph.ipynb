{
 "cells": [
  {
   "cell_type": "code",
<<<<<<< HEAD
   "execution_count": null,
=======
   "execution_count": 2,
>>>>>>> 46e28027efe37de53f33855d3fa331b255126b8d
   "id": "46d752d8",
   "metadata": {},
   "outputs": [],
   "source": [
    "import pandas as pd\n",
    "import networkx as nx\n",
    "import os\n",
    "import json\n",
    "import powerlaw as pl\n",
    "import matplotlib.pyplot as plt\n",
    "from scipy.stats import pearsonr\n",
    "import numpy as np\n",
    "from pathlib import Path\n",
    "import ipynbname#necessary to get filepath to jupyter notebook file\n",
    "\n",
    "_FILE_DIR = ipynbname.path().parent#obtain directory of this file\n",
    "_PROJ_DIR = _FILE_DIR.parent.parent#obtain main project directory\n",
    "_DATA_DIR = _PROJ_DIR / \"dataset\"\n",
    "_EXTRACT_DIR = _PROJ_DIR / \"dataExtracted\"\n",
    "_VIS_DIR = _PROJ_DIR / \"visualizations\""
   ]
  },
  {
   "cell_type": "code",
   "execution_count": 3,
   "id": "99f49b56",
   "metadata": {},
   "outputs": [],
   "source": [
    "#first, get the landpoint coordinates:\n",
    "landPointDf = pd.read_csv(str(_EXTRACT_DIR / \"landpoints.csv\"))\n",
    "\n",
    "cityLookup = {}\n",
    "for l in landPointDf.itertuples():\n",
    "    #add the city name for all 4 possible coordinates\n",
    "    longitude = int(l.longitude)\n",
    "    latitude = int(l.latitude)\n",
    "    cityLookup[(longitude, latitude)] = l.description\n",
    "    cityLookup[(-longitude, latitude)] = l.description\n",
    "    cityLookup[(longitude, -latitude)] = l.description\n",
    "    cityLookup[(-longitude, -latitude)] = l.description\n",
    "    \n",
    "#make a set with all the landing point coordinates\n",
    "landPointCoords = set(cityLookup.keys())"
   ]
  },
  {
   "cell_type": "code",
   "execution_count": 4,
   "id": "a9506b1c",
   "metadata": {},
   "outputs": [],
   "source": [
    "#now extract a big set that contains all the coorinates that appear multiple times (important coordinates!)\n",
    "# Directory with .geojson files\n",
    "\n",
    "def normCoord(long, lat):\n",
    "    \"\"\"Converts floating point coordinates to integers for easier comparisons!\"\"\"\n",
    "    return (int(round(long * 1e6)), int(round(lat * 1e6)))\n",
    "\n",
    "def coordBack(normedCoord):\n",
    "    \"\"\"Get the coord back from int to float\"\"\"\n",
    "    return (float(normedCoord[0]) * 1e-6, float(normedCoord[1] * 1e-6))\n",
    "\n",
    "# Loop through all files in the directory\n",
    "cableCoords = []\n",
    "for filename in os.listdir(str(_DATA_DIR / \"cablesGeojson\")):#iterate over all .geojson files\n",
    "    if filename.endswith(\".geojson\"):\n",
    "        filepath = os.path.join(str(_DATA_DIR / \"cablesGeojson\"), filename)\n",
    "        #print(f\"Processing {filepath} ...\")\n",
    "\n",
    "        # Load geojson file\n",
    "        with open(filepath, \"r\", encoding=\"utf-8\") as f:\n",
    "            data = json.load(f)\n",
    "\n",
    "        # Extract cable info\n",
    "        for feature in data[\"features\"]:\n",
    "            coords = feature[\"geometry\"].get(\"coordinates\", [])\n",
    "            if not coords:\n",
    "                raise ValueError#this should never happen, cables should always have some coordinates!\n",
    "            coords = [normCoord(c[0], c[1]) for c in coords]#get a list of tuples of coordinates of this cable segment\n",
    "            cableCoords.extend(coords)#add the coordinates to the list\n",
    "            \n",
    "coordSet = set()\n",
    "duplicateCoordSet = set()#set that will contain all the cable coordinates that appear multiple times\n",
    "for c in cableCoords:\n",
    "    if abs(c[0]) == 180000000:#cables at the 180th longitude have to be marked as important always, otherwise connections accross this border won't appear\n",
    "        duplicateCoordSet.add(c)\n",
    "    elif c not in coordSet:\n",
    "        coordSet.add(c)\n",
    "    else:\n",
    "        duplicateCoordSet.add(c)#we found a duplicate"
   ]
  },
  {
   "cell_type": "code",
   "execution_count": 5,
   "id": "a46c7f75",
   "metadata": {},
   "outputs": [
    {
     "name": "stdout",
     "output_type": "stream",
     "text": [
      "58\n",
      "6\n",
      "Graph with 1283 nodes and 1531 edges\n"
     ]
    }
   ],
   "source": [
    "relevantCoords = duplicateCoordSet.union(landPointCoords)#these will be all the important coordinates!\n",
    "#now go through all the cables again and for each one add edges between all pairs of relevant coordinates with weight equal to the cable's capacity\n",
    "\n",
    "oG = nx.Graph()\n",
    "cableCapacities = pd.read_csv(str(_EXTRACT_DIR / \"cablesWithCapacity.csv\"))\n",
    "\n",
    "oneCount = 0#how often was there a cable that wasn't added because only 1 of its coordinates was important?\n",
    "zeroCount = 0#how often was there a cable that had no relevant coordinate at all???\n",
    "\n",
    "# Loop through all files in the directory\n",
    "for filename in os.listdir(str(_DATA_DIR / \"cablesGeojson\")):\n",
    "    if filename.endswith(\".geojson\"):\n",
    "        filepath = os.path.join(str(_DATA_DIR / \"cablesGeojson\"), filename)\n",
    "\n",
    "        # Load geojson file\n",
    "        with open(filepath, \"r\", encoding=\"utf-8\") as f:\n",
    "            data = json.load(f)\n",
    "        \n",
    "        # Extract cable info\n",
    "        for feature in data[\"features\"]:\n",
    "            name = feature[\"properties\"].get(\"Name\", \"Unknown\")\n",
    "            coords = feature[\"geometry\"].get(\"coordinates\", [])\n",
    "            if not coords:\n",
    "                raise ValueError#shouldn't happen\n",
    "            coords = [normCoord(c[0], c[1]) for c in coords]#get a list of tuples of coordinates of this cable segment\n",
    "            relevantCs = [c for c in coords if c in relevantCoords]#get only the relevant coordinates from this cable segment\n",
    "            for i in range(len(relevantCs)):\n",
    "                if abs(relevantCs[i][0])==180000000:\n",
    "                    relevantCs[i] = (abs(relevantCs[i][0]), relevantCs[i][1])\n",
    "            if len(relevantCs) == 0:#add the edge anyways, both endpoints will be marked as \"undersea\"\n",
    "                oG.add_edge(coords[0], coords[-1], name=name, capacity=cableCapacities[cableCapacities[\"name\"] == name][\"capacity\"].values[0])#add the edge with the cable capacity & name\n",
    "                zeroCount+=1\n",
    "            if len(relevantCs) == 1:\n",
    "                oG.add_node(relevantCs[0], description=\"singleton\")#WARNING: this name will actually be overwritten by <cityname> if this is a city!\n",
    "                oneCount+=1\n",
    "            for i in range(len(relevantCs)-1):#add edge between adjacent important points (adjacent on the cable)\n",
    "                oG.add_edge(relevantCs[i], relevantCs[i+1], name=name, capacity=cableCapacities[cableCapacities[\"name\"] == name][\"capacity\"].values[0])#add the edge with the cable capacity & name\n",
    "\n",
    "\n",
    "print(oneCount)\n",
    "print(zeroCount)                 \n",
    "print(oG)"
   ]
  },
  {
   "cell_type": "code",
   "execution_count": 6,
   "id": "9f503ffe",
   "metadata": {},
   "outputs": [],
   "source": [
    "#now rename the stuff\n",
    "\n",
    "# Build a mapping old_node -> new_node_id\n",
    "mapping = {}\n",
    "new_attrs = {}\n",
    "unique_countries = set()\n",
    "for idx, node in enumerate(oG.nodes()):\n",
    "    lon, lat = node\n",
    "    city_name = None\n",
    "    #now try to match to a city - country\n",
    "    if (lon, lat) in cityLookup:\n",
    "        city_country_name = cityLookup.get((lon, lat)).strip(')').split(' (')\n",
    "        #print(city_country_name)\n",
    "        city_name = city_country_name[0]\n",
    "        country_name = city_country_name[-1]\n",
    "        #print(city_name)\n",
    "        #print(country_name)\n",
    "    else:\n",
    "        city_name = \"undersea\"\n",
    "        country_name = \"undersea\"\n",
    "    \n",
    "    unique_countries.add(country_name)\n",
    "    mapping[node] = idx  # old coordinate node -> new integer id\n",
    "    realCoords = coordBack((lon, lat))\n",
    "    new_attrs[idx] = {\n",
    "        \"lon\": realCoords[0],#assign the proper coordinate!\n",
    "        \"lat\": realCoords[1],\n",
    "        \"city\": city_name,\n",
    "        \"country\" : country_name\n",
    "    }\n",
    "\n",
    "# Relabel nodes\n",
    "oG = nx.relabel_nodes(oG, mapping)\n",
    "\n",
    "# Add the attributes\n",
    "nx.set_node_attributes(oG, new_attrs)"
   ]
  },
  {
   "cell_type": "code",
   "execution_count": 7,
   "id": "59e80958",
   "metadata": {},
   "outputs": [
    {
     "name": "stdout",
     "output_type": "stream",
     "text": [
      "Graph with 1031 nodes and 1279 edges\n"
     ]
    }
   ],
   "source": [
    "#remove redundant nodes: (the ones on the seafloor that connect to the same cable twice)\n",
    "for n, d in list(oG.nodes(data=True)):\n",
    "    if d[\"city\"] == \"undersea\":\n",
    "        if oG.degree[n] == 2:\n",
    "            edges = list(oG.edges(n, data=True))\n",
    "            if edges[0][2][\"name\"] == edges[1][2][\"name\"]:\n",
    "                neighbors = list(oG.neighbors(n))#there will be 2 neighbors\n",
    "                oG.add_edge(neighbors[0], neighbors[1], name=edges[0][2][\"name\"], capacity=edges[0][2][\"capacity\"])#add an edge between the two neighbors with the same cable name & capacity\n",
    "                oG.remove_node(n)\n",
    "                \n",
    "print(oG)"
   ]
  },
  {
   "cell_type": "code",
<<<<<<< HEAD
   "execution_count": 8,
=======
   "execution_count": 7,
   "id": "64ee6a78",
   "metadata": {},
   "outputs": [
    {
     "name": "stderr",
     "output_type": "stream",
     "text": [
      "c:\\Users\\piras\\anaconda3\\envs\\Envino\\Lib\\site-packages\\numpy\\_core\\fromnumeric.py:3860: RuntimeWarning: Mean of empty slice.\n",
      "  return _methods._mean(a, axis=axis, dtype=dtype,\n",
      "c:\\Users\\piras\\anaconda3\\envs\\Envino\\Lib\\site-packages\\numpy\\_core\\_methods.py:145: RuntimeWarning: invalid value encountered in scalar divide\n",
      "  ret = ret.dtype.type(ret / rcount)\n"
     ]
    }
   ],
   "source": [
    "# store edge pair with new weight\n",
    "new_weights = {}\n",
    "\n",
    "# iterate through edges\n",
    "for u, v, d in list(oG.edges(data=True)):\n",
    "    \n",
    "    # check if it doesn't have a capacity\n",
    "    capacity = d['capacity']\n",
    "    if capacity == 0:\n",
    "\n",
    "        # store all weights of edges that have an endpoint in either u or v\n",
    "        u_edges = list(oG.edges(u, data= True))\n",
    "        v_edges = list(oG.edges(v, data= True))\n",
    "\n",
    "        u_weights = [d['capacity'] for _, _, d in u_edges if d['capacity'] != 0]\n",
    "        v_weights = [d['capacity'] for _, _, d in v_edges if d['capacity'] != 0]      \n",
    "        \n",
    "        # if either u or v only have zero weight edges, use the other node's median\n",
    "        if u_weights == []:\n",
    "            new_weight = np.median(v_weights)\n",
    "        \n",
    "        elif v_weights == []:\n",
    "            new_weight = np.median(u_weights)\n",
    "\n",
    "        # in normal cases, the estimate is equal to the smaller maximum weight between edges of u and edges of v\n",
    "        else:\n",
    "    \n",
    "            max_weight_u = np.max(u_weights)\n",
    "            max_weight_v = np.max(v_weights)\n",
    "            \n",
    "            new_weight = min(max_weight_u, max_weight_v)\n",
    "\n",
    "        # store the edge's capacity\n",
    "        new_weights[(u, v)] = {'capacity' : new_weight}\n",
    "\n",
    "nx.set_edge_attributes(oG, new_weights)   "
   ]
  },
  {
   "cell_type": "code",
   "execution_count": null,
   "id": "2d881024",
   "metadata": {},
   "outputs": [
    {
     "name": "stdout",
     "output_type": "stream",
     "text": [
      "0\n",
      "{<class 'numpy.float64'>}\n"
     ]
    }
   ],
   "source": [
    "# quick check that we don't have zero-weight edges (we do)\n",
    "x = 0\n",
    "check = set()\n",
    "for u, v, d in list(oG.edges(data=True)):\n",
    "    capacity = d['capacity']\n",
    "    check.add(type(capacity))\n",
    "    if capacity == 0:\n",
    "        x += 1\n",
    "print(x)\n",
    "print(check)"
   ]
  },
  {
   "cell_type": "code",
   "execution_count": 9,
>>>>>>> 343e4b03e11a176fde4c22136a56a62b667447b2
   "id": "9904790c",
   "metadata": {},
   "outputs": [],
   "source": [
    "G = oG.copy()\n",
    "unique_countries.remove(\"undersea\")\n",
    "unique_countries.remove(\"\")"
   ]
  },
  {
   "cell_type": "code",
<<<<<<< HEAD
   "execution_count": 9,
=======
   "execution_count": 10,
>>>>>>> 343e4b03e11a176fde4c22136a56a62b667447b2
   "id": "5092d377",
   "metadata": {},
   "outputs": [],
   "source": [
    "# iterate through countries\n",
    "for c in unique_countries:\n",
    "\n",
    "    nodes = []\n",
    "    max_weight = 0\n",
    "    \n",
    "    # iterate through nodes\n",
    "    for n, d in G.nodes(data= True):\n",
    "\n",
    "        # for nodes in that country\n",
    "        if d['country'] == c:\n",
    "            \n",
    "            nodes.append(n)\n",
    "\n",
    "            # update the maximum capacity connected to the country\n",
    "            for _, _, d in G.edges(n, data= True):\n",
    "                if d['capacity'] > max_weight:\n",
    "                    max_weight = d['capacity']\n",
    "    \n",
    "    # link new inter-country edges with the computed national maximum\n",
    "    # to compensate for unrealistic sparse land connections\n",
    "    for i in range(len(nodes)-1):\n",
    "        G.add_edge(nodes[i], nodes[i+1], name= \"terrestrial\", capacity= max_weight)"
   ]
  },
  {
   "cell_type": "markdown",
   "id": "f3d732f4",
   "metadata": {},
   "source": [
    "### save the graph to graphml file"
   ]
  },
  {
   "cell_type": "code",
<<<<<<< HEAD
   "execution_count": 10,
=======
   "execution_count": 11,
>>>>>>> 343e4b03e11a176fde4c22136a56a62b667447b2
   "id": "95cf932e",
   "metadata": {},
   "outputs": [],
   "source": [
    "nx.write_graphml(G, str(_EXTRACT_DIR / \"THE_GRAPH.graphml\"))"
   ]
  },
  {
   "cell_type": "code",
<<<<<<< HEAD
   "execution_count": 11,
=======
   "execution_count": 12,
>>>>>>> 343e4b03e11a176fde4c22136a56a62b667447b2
   "id": "950b7501",
   "metadata": {},
   "outputs": [],
   "source": [
    "# FOR RANDOM GRAPH\n",
    "\n",
    "# obtain degree frequencies\n",
    "deg_freq_oG = {}\n",
    "for n, d in oG.degree:\n",
    "    deg_freq_oG.setdefault(d, 0)\n",
    "    deg_freq_oG[d] += 1\n",
    "\n",
    "# sort it bc why not\n",
    "deg_freq_oG = dict(sorted(deg_freq_oG.items(), key= lambda x:x[0]))\n",
    "\n",
    "# compute CCDF ~ inverse CDF: cumulative sum from last to first\n",
    "ccdf_oG = list(np.cumsum(list(deg_freq_oG.values())[::-1]))[::-1]\n",
    "ccdf_oG = np.array(ccdf_oG) / ccdf_oG[0]  # normalize it"
   ]
  },
  {
   "cell_type": "code",
<<<<<<< HEAD
   "execution_count": 12,
=======
   "execution_count": 13,
>>>>>>> 343e4b03e11a176fde4c22136a56a62b667447b2
   "id": "b7704f53",
   "metadata": {},
   "outputs": [],
   "source": [
    "# FOR RANDOM GRAPH\n",
    "\n",
    "# obtain degree frequencies\n",
    "deg_freq_G = {}\n",
    "for n, d in G.degree:\n",
    "    deg_freq_G.setdefault(d, 0)\n",
    "    deg_freq_G[d] += 1\n",
    "\n",
    "# sort it bc why not\n",
    "deg_freq_G = dict(sorted(deg_freq_G.items(), key= lambda x:x[0]))\n",
    "\n",
    "# compute CCDF ~ inverse CDF: cumulative sum from last to first\n",
    "ccdf_G = list(np.cumsum(list(deg_freq_G.values())[::-1]))[::-1]\n",
    "ccdf_G = np.array(ccdf_G) / ccdf_G[0]  # normalize it"
   ]
  },
  {
   "cell_type": "code",
<<<<<<< HEAD
   "execution_count": 13,
=======
   "execution_count": 14,
>>>>>>> 343e4b03e11a176fde4c22136a56a62b667447b2
   "id": "b17cc418",
   "metadata": {},
   "outputs": [
    {
<<<<<<< HEAD
     "name": "stderr",
     "output_type": "stream",
     "text": [
      "C:\\Users\\shere\\AppData\\Local\\Temp\\ipykernel_5820\\1328707865.py:26: UserWarning: Attempt to set non-positive xlim on a log-scaled axis will be ignored.\n",
      "  ax1.set_xlim(xmin, xmax)\n",
      "C:\\Users\\shere\\AppData\\Local\\Temp\\ipykernel_5820\\1328707865.py:29: UserWarning: FigureCanvasAgg is non-interactive, and thus cannot be shown\n",
=======
     "name": "stdout",
     "output_type": "stream",
     "text": [
      "0.8764187925372399\n"
     ]
    },
    {
     "name": "stderr",
     "output_type": "stream",
     "text": [
      "C:\\Users\\piras\\AppData\\Local\\Temp\\ipykernel_58512\\1328707865.py:26: UserWarning: Attempt to set non-positive xlim on a log-scaled axis will be ignored.\n",
      "  ax1.set_xlim(xmin, xmax)\n",
      "C:\\Users\\piras\\AppData\\Local\\Temp\\ipykernel_58512\\1328707865.py:29: UserWarning: FigureCanvasAgg is non-interactive, and thus cannot be shown\n",
>>>>>>> 343e4b03e11a176fde4c22136a56a62b667447b2
      "  fig.show()\n"
     ]
    },
    {
     "name": "stdout",
     "output_type": "stream",
     "text": [
      "0.8764187925372401\n"
     ]
    },
    {
     "data": {
      "image/png": "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",
      "text/plain": [
       "<Figure size 1200x600 with 1 Axes>"
      ]
     },
     "metadata": {},
     "output_type": "display_data"
    }
   ],
   "source": [
    "# plot results\n",
    "\n",
    "fig = plt.figure(figsize=(12, 6))\n",
    "fig.suptitle(\"CCDF Comparison: Old vs New Graph\", fontsize=16)\n",
    "\n",
    "# plot for real graph ccdf\n",
    "ax1 = fig.add_subplot(1, 1, 1)\n",
    "ax1.loglog(list(deg_freq_G.keys()), ccdf_G, color= 'darkred', label= \"New Graph\")\n",
    "\n",
    "ax1.set_xlabel('k')\n",
    "ax1.set_ylabel('p(k)')\n",
    "\n",
    "# plot for random graph ccdf\n",
    "ax1.loglog(list(deg_freq_oG.keys()), ccdf_oG, color= 'darkblue', label= 'Old Graph')\n",
    "\n",
    "ax1.grid(alpha= 0.3)\n",
    "ax1.legend()\n",
    "ax1.set_xlabel('k')\n",
    "ax1.set_ylabel('p(k)')\n",
    "\n",
    "# make sure the axis have the same bounds\n",
    "\n",
    "xmin = min(min(deg_freq_G.keys()), min(deg_freq_oG.keys()))\n",
    "xmax = max(max(deg_freq_G.keys()), max(deg_freq_oG.keys()))\n",
    "\n",
    "ax1.set_xlim(xmin, xmax)\n",
    "\n",
    "\n",
    "fig.show()\n",
    "# plt.savefig('CCDF_comparison.pdf')\n",
    "\n",
    "\n",
    "# CONSIDERATIONS\n",
    "# Random graph: much more 'condensed' degree distribution and less outliers,\n",
    "#               so no nodes with very low or very high degree.\n",
    "# Real graph:   expected ccdf, having many low degree nodes and a few nodes\n",
    "#               with a remarkably high degree\n",
    "corr, _ = pearsonr([n[1] for n in oG.degree], [n[1] for n in G.degree])\n",
    "print(corr)\n"
   ]
  },
  {
   "cell_type": "code",
<<<<<<< HEAD
   "execution_count": 14,
=======
   "execution_count": 15,
>>>>>>> 343e4b03e11a176fde4c22136a56a62b667447b2
   "id": "90e50b65",
   "metadata": {},
   "outputs": [
    {
     "data": {
      "image/png": "iVBORw0KGgoAAAANSUhEUgAAAjsAAAGOCAYAAABxOcIAAAAAOnRFWHRTb2Z0d2FyZQBNYXRwbG90bGliIHZlcnNpb24zLjEwLjUsIGh0dHBzOi8vbWF0cGxvdGxpYi5vcmcvWftoOwAAAAlwSFlzAAAPYQAAD2EBqD+naQAAmBZJREFUeJztXQe4FNX1P/Quvffee/tjF1Akit1gSTBGscRuxERNLNFookaNBsUuGisqauwVUHrvvfcO0nnA/L/fXWfZ997uzL2XOzN3ds/v+4bH7j1tzpw9e/bWIo7jOMRgMBgMBoORpSgatQEMBoPBYDAYQYKLHQaDwWAwGFkNLnYYDAaDwWBkNbjYYTAYDAaDkdXgYofBYDAYDEZWg4sdBoPBYDAYWQ0udhgMBoPBYGQ1uNhhMBgMBoOR1eBih8FgMBgMRlaDix0GI4Z44403qFWrVlSiRAmqVKlS1ObkFBo1akS/+93vojaDETCKFClC999/f9RmMAyBix1GVmDp0qV07bXXUpMmTah06dJ03HHH0QknnED//ve/ad++ffloDx8+TK+++iqdeuqpVKVKFSpVqpT4ArvyyitpypQpSbrXXntNJDz3gtw6depQv3796Omnn6Zdu3YVsgPJMZUn9Ro2bJiRe12wYIH4sm3atCm9+OKL9MILL/jyzJgxg37zm99Q/fr1xf3ivvv27Sv8AH9kGz7//HMrvqj2799PTz75JPXs2ZMqVqwoYqhFixZ044030qJFi6I2L/aYN2+eeM4rVqyQ5vnpp5+of//+VLduXfE8GjRoQAMGDKC33norUFsZ0aJ4xPoZjGPGZ599RhdffLH4Eh80aBC1a9eODh48KJLakCFDaO7cucmCAIXPBRdcQF9++SWdfPLJdPfdd4svfiTL9957j4YPH06rVq2ievXqJeX/7W9/o8aNG1NeXh5t2LCBRo0aRbfeeis98cQT9Mknn1CHDh0K2fTcc89R+fLl872HLzwTgP4jR46IQq5Zs2a+9C+99BJdd911VLNmTfrtb39LzZs3F4Xad999R1dddRWtX79e+CHbip2hQ4dGWvBs2bKFzjzzTJo6dSqdffbZdNlll4mYWLhwIb3zzjsiJhGnjGMrdh544AHxwwU/WPwwYsQIGjhwIHXq1IluueUWqly5Mi1fvpzGjBkjfjjgGblArihenL8iswY4CJTBiCuWLVvmlC9f3mnVqpWzbt26Qu2LFy92nnrqqeTrG264AQffOk8++WQh2kOHDjmPPfaYs3r1avH61VdfFbSTJ08uRPvdd985ZcqUcRo2bOjs3bs3+f59990neDZv3uwEhQceeEBax/jx451ixYo5J554ovPzzz8Xase94T6zDe5zDgJ45ldccYUv3VlnneUULVrUef/99wu17d+/3/njH/8YiH25hBEjRojn/MMPP0jRt2nTxmnbtq1z4MCBQm0bN24MwEKGLeBihxFrXHfddSLZjR071pcWRUzx4sWd008/XUq2V7EDPPzww6L9hRdeMFbsDB06VCTkkiVLOrVr13b+8Ic/ONu3b8/3RQv5qRd0ZsKZZ54p7nnlypVS+nfv3u3cfvvtTr169YQNLVq0EAXgkSNH8tFBLwqKkSNHii8P0MLuL774Ih+d6w8UnSgQKlas6Bx33HHO7373O2fPnj2F9L/xxhtOly5dnNKlSzuVK1d2Bg4c6KxataoQ3YQJE5z+/fs7lSpVcsqWLeu0b98+WdRCT0EfpRY+hw8fFsUu7C1VqpRTo0YN55prrnG2bduWTwfu+cEHH3Tq1q0rCttTTz3VmTNnjlSxA/ugc/DgwY4sUECjKMX9wE/nnHOOM2/evLT+XLhwoXP55ZcLX1arVs35y1/+IuyFr8BXoUIFp2bNms7jjz+ejx9FAfjfeecd56677hI00DdgwIC0fn7vvfeSz6Nq1apC55o1a/LRwBflypUT75977rni/7AJxRx+QKRC1vfwMYrFH3/80enevbugbdy4sTN8+PBCn8+Cl1fhAzmIPRmkfraWL1+eVlfB2HKffb9+/cSzQdycfPLJzk8//SSlkxEcuNhhxBr4ImrSpIkULYoSJKbXX3/dSLGD4gntF110UdovIxQ87lUwmaeDy9u3b1/nmWeecW688UbRK4Nkf/DgQUGD4uL8888XdM8995woDmbOnJlWHoqJEiVKOL1795a6X3xZgrZIkSLO1Vdf7fznP/8RX4LQdeutt+ajxXsdO3YUBRkKAhQaeA744tyyZUuhe+rcubNzwQUXOM8++6yQjffuvPPOfDIfeughoRsFDujQg4UvzUaNGuUr+L7++mtRXOELEfLhh5tvvln4DRg3bpwoaKED/nEvF9CPAhCFyLBhw5w//elP4gs61c8ACgjI+NWvfiV88fvf/96pU6eOsMmv2Ln77rsF75gxY6R8/8033wibUFw++uijyXtHwYcv2oL+7NSpk3PppZcKP6EowHtPPPGE07JlS+f6668X759wwgni/dGjRxcqdlAcdujQQfD8+c9/FsUMdKf2UrrxD7+gQAEdvrwLPg/4AvwoeuEjPI8LL7xQ8MKOVMj6Hs8W94JiDL6E/1F0IT5QcAJLly4Vzx16QOM+5w0bNmT0M+6xfv36yd5b2WIHPwJSYwnXK6+8IorS6tWr5ytYEZu9evVy/vWvfwm/wc94b+LEib46GcGBix1GbLFz506RkPBrUga33XaboJ8+fbqRYgdAssMXecEvo4IXkrcXNm3aJBLiGWecIX79ukCSBz8Sq2rvEYog0N1yyy1S9/vRRx8JehQdqUAxhy+ZJUuWJN8DHexNfc/Vh0KtoK34EkwFCjb0FLhYsWKFKOz+/ve/56ObPXu2+HJ030dPAX7hw5+pX7hAau9TpmEs9BTg/TfffDPf+19++WW+993ngUIiVa5bxPgVO25BWtDGTEDxgl6OrVu35vMnhsEGDRpUyJ/oDXEBn6AnDs/oH//4R/J96EZxkmqrW+zgR0LqsCZ6cPD+v//9b/EahQfsadeunbNv374k3aeffiro7r333uR7bk/a3/72t3z3hM9F165dlX2f2oOZWizimaBnJnX4T3UY6+WXX07G7mmnneb89a9/FXalfuZc+PWaotcVMfv999+L14iT5s2bi16d1JhBAYmYle1RZgQDXo3FiC1+/vln8bdChQqB0MsAE07Trcr64IMP6Jtvvkleb775pqecb7/9VkxWxcTnokWPfiwHDx4sVpZhErYqVO8Xk3qLFStGN998c773//jHP6JqoC+++CLf+1jNhRVhLjBRG7YuW7askGxMkE7FSSedRFu3bk3a+OGHH4pJ17/+9a/FxF73qlWrlphQ/cMPPwi66dOniwml8FPBJfdY8SYzQRWrok4//fR8erp27SqepavHfR433XRTPrnQa9r3mCCO1XJYYYfJ8qn+hJ14LgVx9dVXJ/+PZ9atWzfxjDDh3AX807Jly7TPAxP5U2276KKLqHbt2kldWJW4adMm+sMf/iBWLLk466yzxJYH6eIx3TNO1S3rexdt2rQRMlxUr1494/3I4ve//71YnIAJzVjA8OCDDwodiLFx48ZJy3n99dfp2WefpUcffZROO+008R6e4eLFi8UkZ8S2e3979uyhPn36iEnQiHFGNOCp5ozYAl+sQLpiwwS9DHbv3k01atQo9D5WelWrVk1azsqVK8VfJPNUlCxZUiynd9tVoHq/0IGl9QW/oFu3bp3PRhdYslsQWN2yffv2Qu8XpAUdAFrYiS8JfFnjSycdsJ+Qu8UAgBV3OoCenTt3pn1mAL7gU++1oD34wnVtl/W93z5ImZ696/uvvvpKfGGWK1cuoz/dZe0FYw7v44u3IAreFwo6rOxzl3B72YRiB4VCKqAbvvGKBVnfZ7rHdDJ1gK0jcO3du1eslHv33XfFthBYMYdtHTLZ5wJFDQq7Sy+9lG6//fZ89wdcccUVGXlx/zLxwzAPLnYYsQW+UPDlPGfOHCl6JGlg9uzZYunpsWLNmjUiecks/44CsAtLZ3G/QQA9CumQGAFQo8UvXnzhovcoHW3BZfy6gB58mWXqaSv4ha2L1FhL7Z0whXQ+UnkeYdhzrL4P+n7Kli0rng0uFIlYwo748ypWUGhdeOGFYq8kbOmQCrfX5rHHHsuYX0zFMUMdXOwwYg38GsN+JePHj6devXp50mIjMSTQ//73v2K/GRO7GAP4lXisaNiwofiLPVjQk+MCQykYtsGQkU4y7927N33//fe0evVqsaGgnw0YvkFvRGrvDn7tptoYBDAchi8x7GeELxIvOgAFrpdPMg1pgR/3iA0ny5Qpk5HfvVf8Wk99Hps3b5bqWcAmdY888oiINb9iJ/XZFwR8jy/i1F4dE3B7IVzA90uWLEnuGZVqE2IoFXhPJxZkfa8CmaFLGWAY0B1SzAQUM5dffjnt2LFD3Ac+X+liEz/CdD6vjGDBc3YYscadd94pvggwh2Hjxo2F2jHsgc33AHzZYw7M119/Tc8880zaZPavf/1L9Nj4AQUExvvx5YwEeKxAcsSQFXZmTv3l+vLLL4veI8yV0MF9990n5KG4w5BbQaAbHxspAr/61a/Ebsr/+c9/8tFgB2B8qaBYDArY6BGFKH5dF/zljtfuUEyXLl2Ez5966inxpVOQzoVbHBSkwZwg3COeXUEcOnQoSY/ngaEzxEmqXOiVAQpvbCiIX/8fffRRoXYUsXfccYf4P+bKoCcAzyHVXhR0iFU8F9PAnJPU4c33339ffNG7zxhf/uiFwfDOgQMHknTo+Zg/f75WPMr6XgWZnnMmYCPNdHDnKqUbtnOB2MSQ4ttvvy1isCAw9wgFz+OPP572s4ZCmREduGeHEWsguWCbd+yKivkNqTsoY8IhJkWmnmOEYgYFECbhYlIseoYwho5dk0GLX9KXXHJJPh1I8HgfCRkFFQodTDrGr1vsoJw6gVMX6MK/6667RELFl+Q555wjfkFjEmT37t3FUQ86OP7448VOwphoiqGV1B2UsRMz7H/ooYeSvRGYbHnPPfeIuRsdO3YUX7Yff/yxmJibOhnZNCAbdsAH0H3eeeeJ3iX0ao0cOZKuueYaURxg8jZ2p4atKBBwxAeKBTwf7JSNLyP3iwfAc0bPGwopPNdTTjlFHCuCXhfMvTjjjDNEUYOeDjx/FMaYrIvnAX2gQ4yg4MDkaMSC7FwsFBSQj0IO9mKSKr6coQs7KKO4wBejO/SBQgNFEiYZY/deFFqYcxPELtCYCH3iiScK/yGmUcRh2BM/BgD45J///Kdoh88wPwV08A92Kr7tttuUdcr6XgWIATxb2IofBdhFHT1RmebdnHvuuaJQwfNAzGEuFHpp/ve//4nPGd5PBwxHokjDXDzMLUKPXSrw+URsorjFc2zbtq3wHY6kWLt2rZh8jR4f6GFEhIBWeTEYoWLRokVi7w7sAYJlpdhUDfuMYBk0dqtNBZbqvvTSS85JJ50klo5jLxosdb3yyivzLUsvuGkZ5NaqVUssIcUS3XQ7Eh/rpoJYao7doGET9hjBnikFly/r6Jg6dapz2WWXiX1iIBv7t/Tp00ds0pa67HbXrl1iib5Lh6W0XpsKFkTBDfcy2er6NnUPGeCDDz4QG+th7xVc8AX0YN+iVGCTNjwHPGfQYS+T1CXveMY33XST2AMFS7ILpjrsuYRl0ViaDRnYdwb7/qTuwg2/YL8b7CWkuqlg6rJjbOyHfWSw0zdiCD6FbanL9oFvv/1WxCx0YUM67HGUaVPBgv50N/YriFNOOUXsf1Nw6fnbb78tNhXE8nLowxL7dBtPvvvuu2IJOZZ8V6lSxXNTwYJwbS0IGd+7mwqmux9cqXjxxRfFHk9YBu63DB33fckllzhNmzYV+rE/EDY4vOeeewp9nlOXnrt+k9lUEDkEe0phawX4Dffy61//WuzBw4gORfBPVIUWg8FgMMIDevPQe4eeFNVeFAYjzuA5OwwGg8FgMLIaXOwwGAwGg8HIanCxw2AwGAwGI6vBc3YYDAaDwWBkNbhnh8FgMBgMRlaDix0Gg8FgMBhZDd5UMEJgx95169aJzdNMbXvOYDAYDEYuwHEcsUEqzkjEpo5e4GInQqDQ8TuviMFgMBgMRmbg7L969ep5UHCxEyncwxbxoLCVeDpMmTIleUidbJsXj20I2lZT8nXkqPLI0PvR6MSLjq1RIQw7TejQlaHCJ0sbRMzEJV6yPceo8k3Jshzz888/iw6D1IOLM4GLnQjhDl2h0MlU7OAsHdU2Lx7bELStpuTryFHlkaH3o9GJFx1bo0IYdprQoStDhU+WNoiYiUu8ZHuOUeUrl6U5RmYaCC89jxCoSnHQHw6wyxQEeDyZHmSmNi8e2xC0rabk68hR5ZGh96PRiRcdW6NCGHaa0KErQ4VPljaImIlLvGR7jlHlc7Isx8h8h7rg1ViWA6cDq7Z58diGoG01JV9HjiqPDL0fjU68yOq2AWHYaUKHrgwVPlnaIGImLvGS7TlGlW9GDucYLnYsx8GDB5XbvHhsQ9C2mpKvI0eVR4bej0YnXmR124Aw7DShQ1eGCp8sbRAxE5d4yfYco8p3MIdzDBc7lqNSpUrKbV48tiFoW03J15GjyiND70ejEy+yum1AGHaa0KErQ4VPljaImIlLvGR7jlHlq5TDOYbn7EQImfHGPXv2iIldKm1ePLYhaFtNydeRo8ojQ+9HoxMvOrZGhTDsNKFDV4YKnyxtEDETl3jJ9hyjyrcny3IMz9kJEZ9++im1bNmSmjdvTi+99JJx+XPmzFFu8+KxDUHbakq+jhxVHhl6PxqdeJHVbQPCsNOEDl0ZKnyytEHETFziJdtzjCrfnBzOMbz0/Bhw6NAhuv322+mHH34Q1WXXrl3p/PPPp6pVq0ZtGoPBYDAYjF/APTvHgEmTJlHbtm2pbt26VL58eerfvz99/fXXRnU0adJEuc2LxzYEbasp+TpyVHlk6P1odOJFVrcNCMNOEzp0ZajwydIGETNxiZdszzGqfE1yOMfkdLEzZswYGjBggDhXA+v/P/roo0I0Q4cOpUaNGlHp0qWpZ8+eosBJPe4BhY4L/H/t2rVGbdy/f79ymxePbQjaVlPydeSo8sjQ+9HoxIusbhsQhp0mdOjKUOGTpQ0iZuISL9meY1T59udwjsnpYgcTpjp27CgKmnR49913xTDVfffdR9OmTRO0/fr1o02bNoVmIwoqlbZt24hWrcrMYxu87s8m+TpyVHlk6P1oVONFRbcNCMNOEzp0ZajwydIGETNxiZdszzGqfOtyOMfkdLGDYaeHHnpIzLNJhyeeeIIGDx5MV155JbVp04aGDRtGZcuWpVdeeUW0o0cotScH/8d7mXDgwAExezz1Mo1bbiG68MJO9MgjRFu2GBfPYDAYDEbswEvPfwGGsUaOHEnnnXdecgMkFDbvv/9+8j3giiuuoB07dtDHH38sJii3bt2aRo0alZygPG7cuIwTlO+//3564IEHCr3/3XffiSV5Xbp0ofnz59O+ffvEwWaNGzcWu07i6PqGDRvSkSNHxKGhQKdOnWjRokW0d+9ewduiRQuaOHEGXXRRR9q0qZSgKVnyCPXtu5XuvrsCVamyXBRXGI7DPKOpU6cKGhRneG/ZsmXidbt27WjNmjXiHkuWLCn0uEN3tWrVEnOTlixZIl7j3jdu3Ejbtm2j4sWLi/sHLUKqevXqVLlyZWEjgBVroNu8ebO4n+7du4uD4fLy8gRtjRo1xL0DWNkGWyEbwPAhetZAC5mwee7cuaKtadOmwgfr168Xr3HQHGb9o8sUzwRDi/PmzRNtGI7EM8P9AfD3ggULBD/uC7Jmzpwp2ho0aCD+rlq1KumXFStW0O7du0VctGrVStgE4LRd3D/agfbt2wu+7du3C1rw4l6B2rVri/eWLl0qXuNZ4BcPaF0fTpw4UbTVrFlTLKdcvHhx0t8bNmwQtMWKFRP3OnnyZBEX8GGVKlWED+FfxAPo4G/Edo8ePZK0oINs19/NmjUTSzdBC4AWcYfPAPbGwP25Kykw7g7fur/SYC+eBd6DrfDxrFmzRBti9vDhw0l/d+7cWcQDelThb+h1d1XFYX6we+XKleJ1hw4daPny5bRr1y4qU6aMuHf4G/aDFrGJdtff+FwgZkuVKiV4ca9uzOLz4fobP1rgQ8RiiRIlRAy4/kYMImYWLlwobMEz3rJli7jcmHV9WK1aNXEhftyYhQ/dXl/4BX5AzMLfsMONQ8QZfAA7AMgFLX4MwYfw2+zZs0UbcgCeg/ujKjVH4L4gK9XfBXMEPqv4LCGfICamT5+ejFnEEPwNHtAifgvmCLSBtmCOQHyDNowcgRhCTtXNEYhJ+DZTjsBn3fW3To6A32Avev4RZyo5AjED38Kn8AvkeOWIgjGLzzFo3c8C/I0Y3Lp1a9ocUbFixeSzSZcj8MwRb4jtgjkC94WYhaz/+7//S5sj0AbadDkCPgStyRyB54ZnL7P0HEHHSBR8zsiRI5Ov165dK94bN25cProhQ4Y4PXr0SL7++OOPnebNmztNmzZ1nn/+eU8d+/fvd3bu3Jm8Vq9eLXTg/5kwY8YMpbZ9+xznwQdXOt264Z6OXr16Oc5bbznOgQOOVfC6P5vk68hR5ZGh96NRjRcV3TYgDDtN6NCVocInSxtEzMQlXrI9x6jyzciyHIPvTr/vUBe89PwYcc4554hLBvjViUsFqhO+SpcmOv309XTPPQ0IP7aeeYbovfeIxo9PXLVqEV17beKqXZsiRzZPHuQJyubBE5TVaXmCcvbmGFW+/TmcY3J6zo4X0I2HbkC3m9QFXqOrNix4dc1lasP7OFy2Z0+i//4XQzFEGD1DcYOec/y/YUOiyy5LFEBRDmT6dj1aIl9HjiqPDL0fjU68yOq2AWHYaUKHrgwVPlnaIGImLvGS7TlGle+4HM4xXOxkAMaiMdaI+TQuMB6J17169QrNDoxvqrYVfB+12b33YmyZ6O23iU44gSgvL/H/44/HnAGi115D5U2hw+v+bJKvI0eVR4bej0YnXmR124Aw7DShQ1eGCp8sbRAxE5d4yfYco8rXKIdzTE4XO5hwhclP7gQoTPLC/91JqVh2/uKLL9Lw4cPFRK3rr79eTJzC6qyw4E7kUmnL9H7JkkSXXEL0009EmJ+M28Comvv/+vWJ7r6b6Jf5jZHfn03ydeSo8sjQ+9HoxIusbhsQhp0mdOjKUOGTpQ0iZuISL9meY1T5ZuVwjsnpYgcz/TH7G5db3OD/96IbhIgGDhxIjz/+uHiNFQcohL788ksxSz3u6NKFCCvoMQn+H//AyoLEUnUsWW/cmOiii4hGjYp2iIvBYDAYDCMwPj2aYXQm+fr165XbvHgyIS/PcT780HFOOy3/Kq727R0Hi8x273YCgY6tUcjXkaPKI0PvR6MTL7K6bUAYdprQoStDhU+WNoiYiUu8ZHuOUeVbn2U5RmU1Vk737MQB2INAtc2LJxOKFyfC3orff0+ELSeuu46obNnE/7Fyq149ojvuIPplqw1j0LE1Cvk6clR5ZOj9aHTiRVa3DQjDThM6dGWo8MnSBhEzcYmXbM8xqnyHczjHcLFjOdzNllTavHhk0K4d0XPPYUdo7CKNTdCIduwg+te/sLkU0YABRDjv9MiRY1JjxNaw5OvIUeWRofej0YkXWd02IAw7TejQlaHCJ0sbRMzEJV6yPceo8q3J4RzDxQ4jIypVIrrtNiJscPrpp0RnnpkY3ML/+/XDbrSJfXwCOPWCwWAwGAxj4OMiIgS2O8f23V5bXWM7biyDV2nz4jlWoPDBuamvvkq0a1fivQoVcIwG0Y03Yst3NXlB2mpSvo4cVR4Zej8anXjRsTUqhGGnCR26MlT4ZGmDiJm4xEu25xhVvoNZlmNkvkNdcM+O5XDPjVFp8+I5VrRoQfTvfyeGuP7zH6JWrRJFj/t/9Pig50d2eDZIW03K15GjyiND70ejEy+yum1AGHaa0KErQ4VPljaImIlLvGR7jlHlW5TDOYaLHcuBfX1U27x4TAG9OTfcQISzDb/5Bsdm4DDVxFwezOlBUYQ5Ptu3e8sJ2lZT8nXkqPLI0PvR6MSLrG4bEIadJnToylDhk6UNImbiEi/ZnmNU+fbkcI7hYawIMHToUHFhdjqqXa9Tz3/66afkScgFTzSeMGGCODHXPfXcPdEYAH3q6bDpTjQ2fep5lSpd6a9/XU//+191+vnnxLFrpUsfpjPP3EJ33FGGatfeUuhEY5y6i/sM6tRz/MWJx8d66jl8hHtUOdEYzwr3JXvqOZJB7969PU89x8ZcOPk406nneA2edCcaI85wn+lOPUcc4rnYfuo54gL/D/LUc3w2cC/Hcuo57g9xp3rqOXwOn8qceg56l9fr1HM8K8RdplPP4dMTTzwxbY7Aa/ihYI7As8AziMOp55CFeA/q1HPIQrwc66nn33//vZCjeuo54tNd6eR36vn27dvF/Xmdeo5nAD9kOvUcfu/bt2/aHIE2xEO6HAG7QBfVqedc7EQImfFGJLRMh4dmavPiCQN79xK99VZi8nLqppmnnEJ0001E556bWOoehq2m5OvIUeWRofej0YkXHVujQhh2mtChK0OFT5Y2iJiJS7xke45R5TuQZTmG5+xkEdyqVqXNiycMYH+eq6+GHUSjRyd2Yy5W7Oj/mzRJ7NSMHZuDttWUfB05qjwy9H40OvEiq9sGhGGnCR26MlT4ZGmDiJm4xAuQzTlGlW9GDucYLnYYgQFzeE4+mWjEiMQhpPfcQ1S9euLsLZzBhY0Kf/yxUtRmMhgMBiPLwcWO5cA4pWqbF09UQGHz0EOYA0M0fHhiiTqm0syeXS9QvaZ8oSNHlUeG3o9GJ15kdduAMOw0oUNXhgqfLG0QMROXeAnD1ihzjCpf/RzOMVzsWA530qhKmxdP1ChdmmjQIKJLL028xsS4IGHKFzpyVHlk6P1odOJFVrcNCMNOEzp0ZajwydIGETNxiZcwbI0yx6jyFc3hHBOfiM1RuDPPVdq8eGwDVtsECVO+0JGjyiND70ejEy+yum1AGHaa0KErQ4VPljaImIlLvIRha5Q5RpVvZQ7nGC52GAwGg8FgZDV46XmEkFk2h/00sM+ISpsXjy144AGi++8nGjz4EL3wwi/r0AOAKV/oyFHlkaH3o9GJFx1bo0IYdprQoStDhU+WNoiYiUu8hGFrlDlGlW9fluUYXnqeRXA3TlNp8+KxDQjWIGHKFzpyVHlk6P1odOJFVrcNCMNOEzp0ZajwydIGETNxiZcwbI0yx6jyLc/hHMPFTozntGRqC3oejElgx9MgYcoXOnJUeWTo/Wh04kVWtw0Iw04TOnRlqPDJ0gYRM3GJlzBsjTLHqPLtyuEcw8WO5fDq9svUFpfuZaB48WKByjflCx05qjwy9H40OvEiq9sGhGGnCR26MlT4ZGmDiJm4xEsYtkaZY1T5yuRwjuE5OxFCZrwRPR84D0WlzYvHtjk71157mIYNC67gMeULHTmqPDL0fjQ68aJja1QIw04TOnRlqPDJ0gYRM3GJlzBsjTLHqPLlZVmO4Tk7WQT3IDmVNi8e27B585ZA5ZvyhY4cVR4Zej8anXiR1W0DwrDThA5dGSp8srRBxExc4iUMW6PMMap803I4x3Cxw2AwGAwGI6vBxY7lqFu3rnKbF49tKFeuXKDyTflCR44qjwy9H41OvMjqtgFh2GlCh64MFT5Z2iBiJi7xEoatUeYYVb66OZxjgtvghJERQ4cOFdfhw4fF6ylTpogv/S5dutD8+fPFfgQVKlSgxo0b07Jly2jt2rXUsGFDOnLkCK3GKZpE1KlTJ1q3bp1oA2+LFi1o+vTpog1jlxs2bEjuWNmhQwdasWKFGN8sXbo0tW3blqZOnSra6tSpI96DHqBdu3a0Zs0a2rFjB5UsWVLomTRpkmirVasWlS9fnpYsWSJet27dmjZu3Ejbtm2j4sWLU9euXQUtpoFVr16dKleuTIsWLRK0LVu2FHSbN2/+Zdvw7uJ92LRkyQaqUaOGuHegefPm4n3IBnr27Cm6QDHmC5mwee7cuaKtadOmtHfvXlq/fr143a1bN5ozZw7t379fjOXCNxMnThRtjRo1okOHDon7A+DvBQsWCH7cF2TNnDlTtDVo0ED8XYXDvH75oELn7t27qWzZstSqVatkt2y9evXE/cPHQPv27QXfpk2baOvWrcKneMZA7dq1Bf/SpUvFazwLPMft27eLeIAs196aNWuKZ7l48eKkv7ds2SKeebFixcS9Tp48WcQF/F2lSpVkvCAeIBP+xpEcPXr0EPGANtBBtuvvZs2aCVq0AaDFCcUHDx6kSpUqCZvgU6BJkybCt7AZwDOHX/AebIWPZ82aJdoQs7gn19+dO3cW8bBnzx7hb+h1T0LGuTmIi9SYxVJVrODAxEbcO/x9AAeqEYnYdJeywt/4XCBmS5UqJXjhFzdmEQOuv9u0aSM+G4hFzB9ADLj+RgwiZlwf4hnD37hgW/fu3ZP+rlatmrgQP27MYt4AnjmAz64bs/A37Jg3b14yZuED2AFALnyGe0McgX727NlJOXgO7rNJzRGIgapVq+bzd8Ecgc8qYhC+Sc0ReKbgh7+hF3LS5Qi04fNcMEfgPmFTkDkCfsHnBjEE+3RzBPyJz2OmHIHPuutvnRzhxkvHjh1FnKnkCMQMfAufunK8ckTBmMXnGP5xX8Pfbt5JlyMAlzZdjsAzR2wivgrmCNwXYhYxgXyYLkegDZ/BdDkC94rPs8kc4X7+pIAJyoxosHPnTkwOF38zYcKECcptXjy24P77MTHecS64YEOgekz5QkeOKo8MvR+NTrzI6rYBYdhpQoeuDBU+WdogYiYu8RKGrVHmGFW+CVmWY2S+Q13wMBaDwWAwGIysBi89jxAyy+bQfYouTZU2Lx77jovIoxdeCG5ZqClf6MhR5ZGh96PRiRcdW6NCGHaa0KErQ4VPljaImIlLvIRha5Q5RpVvb5blGF56nkVwx99V2rx4bAPGgYOEKV/oyFHlkaH3o9GJF1ndNiAMO03o0JWhwidLG0TMxCVewrA1yhyjyrc6h3MMFzuWAxMLVdu8eGzDgQMHA5Vvyhc6clR5ZOj9aHTiRVa3DQjDThM6dGWo8MnSBhEzcYmXMGyNMseo8u3I4RzDxY7lwMx21TYvHtuAFQNBwpQvdOSo8sjQ+9HoxIusbhsQhp0mdOjKUOGTpQ0iZuISL2HYGmWOUeUrlcM5hufsRAiZ8UYsGUws1ZZv8+Kxbc7Oddc59NxzRQLTY8oXOnJUeWTo/Wh04kXH1qgQhp0mdOjKUOGTpQ0iZuISL2HYGmWOUeU7kmU5hufsZBHc/UJU2rx4bIO7L0lQMOULHTmqPDL0fjQ68SKr2waEYacJHboyVPhkaYOImbjESxi2RpljVPkm53CO4WKHwWAwGAxGVoOLHcuBHUlV27x4bEPQy1dN+UJHjiqPDL0fjU68yOq2AWHYaUKHrgwVPlnaIGImLvEShq1R5hhVvlo5nGO42Inx2VGZ2oI+b8okSpQI9sQSU77QkaPKI0PvR6MTL7K6bUAYdprQoStDhU+WNoiYiUu8hGFrlDlGla9cDucYLnYsh3s+ikqbF49t2Lnz50Dlm/KFjhxVHhl6PxqdeJHVbQPCsNOEDl0ZKnyytEHETFziJQxbo8wxqnxLczjHcLHDYDAYDAYjq8FLzyOEzLI5nBKLE9BV2rx4bFt6ftVVB+mll0oGpseUL3TkqPLI0PvR6MSLjq1RIQw7TejQlaHCJ0sbRMzEJV7CsDXKHKPKtyvLcgwvPc8ibNiwQbnNi8c27Nu3N1D5pnyhI0eVR4bej0YnXmR124Aw7DShQ1eGCp8sbRAxE5d4CcPWKHOMKt+GHM4xXOxYjm3btim3efHYhv37DwQq35QvdOSo8sjQ+9HoxIusbhsQhp0mdOjKUOGTpQ0iZuISL2HYGmWOUeXblsM5hosdy1GiRAnlNi8e2xD0LqymfKEjR5VHht6PRideZHXbgDDsNKFDV4YKnyxtEDETl3gJw9Yoc4wqX4kczjHBrvtlpMXQoUPFdfjwYfF6ypQpYllely5daP78+bRv3z4xttm4cWPKy8ujiRMnUsOGDcV22+7JsZ06dRJnjaANvC1atKDp06eLtnr16okuw5UrV4rXHTp0oBUrVojxzdKlS1Pbtm1p6tSpoq1OnTrivWXLlonX7dq1ozVr1ohD20qWLCn0TJo0KblPQvny5WnJkiXidevWrWnjxo2iYi9evDh17dpV0GIaWPXq1aly5cq0aNEiQduyZUtBt3nz5l8KnO7ifdwT5NWoUUPcO9C8eXNhK2QDPXv2pGnTpglfQCZsnjt3rmhr2rQp7d27l9avXy9ed+vWjebMmUP79+8XY7mtWrUSPgIaNWpEhw4dEvcHwN8LFiwQ/LgvyJo5c6Zoa9Cggfi7atUq8bdjx45CJ05px95AkAubXH/j/uFjoH379oIP9kIefIpnDNSuXVvwuysT8CzWrVtH27dvTyYD196aNWuKcejFixcn/Y3XaMeZYrhX7EoKH8LfVapUScYL4gEy4e8iRYpQjx49xHNBG+gg2/V3s2bNqGrVqkm9oJ0xYwYdPHiQKlWqJO4PPgWaNGkifAubATxz+AXvwTb4eNasWaINMYsYd/3duXNnEQ979uwR/oZe6AHq168v4iI1ZpcvXy7G+cuUKSPu3fU35CE20e76G58LxCw+E+B1d2tFzOLz4fq7TZs24rOBWIS/EQPufSMGETOuD/GMt2zZIi7Y1r1796S/q1WrJi7EjxuzmDfg7gieGrPwN+yYN29eMmbhA7dbH3LhswMHDgh/Ix5nz54t2pAD8BzWrl2bjNnUHIG/qf4umCPw2YINeH4FcwRiyPU35GTKEZBXMEfAp/BRkDkCfsHnBjGE+DyWHIHPY6Ycgc+662+dHOHGC3IE4kwlRyBm4Fv41JXjlyNSYxafY9jsvoa/EYNbt25NmyOaNGmSpE2XI/DMcf/IOQVzBO7LjVk8v0w5AvLS5QjcH+SZzBHu508KmKDMiAY7d+7E5HDxNxMmTJig3ObFYwvuvx8T4x3nggs2BKrHlC905KjyyND70ejEi6xuGxCGnSZ06MpQ4ZOlDSJm4hIvYdgaZY5R5ZuQZTlG5jvUBQ9jMRgMBoPByGpwsWM50HWr2ubFYxswRBEkTPlCR44qjwy9H41OvMjqtgFh2GlCh64MFT5Z2iBiJi7xEoatUeYYVb4aOZxjuNixHBhTVm3z4rENGPMPEqZ8oSNHlUeG3o9GJ15kdduAMOw0oUNXhgqfLG0QMROXeAnD1ihzjCpfxRzOMVzsWA53cqpKmxePbcAEvSBhyhc6clR5ZOj9aHTiRVa3DQjDThM6dGWo8MnSBhEzcYmXMGyNMseo8i3O4RzDxQ6DwWAwGIysBhc7lgPLF1XbvHhsQ+XKlQKVb8oXOnJUeWTo/Wh04kVWtw0Iw04TOnRlqPDJ0gYRM3GJlzBsjTLHqPK1yuEcw8WO5cAeH6ptXjy2Yd++/YHKN+ULHTmqPDL0fjQ68SKr2waEYacJHboyVPhkaYOImbjESxi2RpljVPm25HCO4WLHcmR7IsLmU0GCi51jb7MJXOyo03Kxw8WOi1zOMVzsxPg4hUxtQR/BYBLYuTNImPKFjhxVHhl6PxqdeJHVbQPCsNOEDl0ZKnyytEHETFziJQxbo8wxqnxFczjHFMHOgpFakMNQOZ4+2/DAA0T33090/fVEzz4btTUMBoPByObv0PiU5zkK94wflTYvHtvgniUUFEz5QkeOKo8MvR+NTrzI6rYBYdhpQoeuDBU+WdogYiYu8RKGrVHmGFW+yTmcY7jYsRw4wE21zYvHNgTdsWjKFzpyVHlk6P1odOJFVrcNCMNOEzp0ZajwydIGETNxiZcwbI0yx6jyHcnhHMPFjuXAycqqbV48tgEn/gYJU77QkaPKI0PvR6MTL7K6bUAYdprQoStDhU+WNoiYiUu8hGFrlDlGla9aDucYLnYM4vzzz6fKlSvTRRddZExmtieiMmW42FGhz9ZEJAsudtRpudjhYsdFLucYLnYM4pZbbqHXX3/dqMwFCxYot3nx2Ibt23cEKt+UL3TkqPLI0PvR6MSLrG4bEIadJnToylDhk6UNImbiEi9h2BpljlHlW5DDOYaLHYM49dRTqUKFClGbwWAwGAwGw7ZiZ+3atfSb3/yGqlatSmXKlKH27dvTlClTjMkfM2YMDRgwgOrUqSP2dfnoo4/S0g0dOpQaNWok5pH07NmTJk2aRFGjefPmym1ePLYh6JNwTflCR44qjwy9H41OvMjqtgFh2GlCh64MFT5Z2iBiJi7xEoatUeYYVb7mOZxjIi92tm/fTieccAKVKFGCvvjiC5o3bx7961//EnNf0mHs2LGUl5dX6H3wbdy4MS3Pnj17qGPHjqKYyYR3332Xbr/9drrvvvto2rRpgr5fv375lkZ36tSJ2rVrV+hat24dRXEqeKa2oE8SN4mDBw8GKt+UL3TkqPLI0PvR6MSLrG4bEIadJnToylDhk6UNImbiEi9h2BpljlHl25nDOSbyYuef//wn1a9fn1599VXq0aMHNW7cmM444wxq2rRp2qVrN9xwA1122WV0+PDh5PsLFy6k3r170/Dhw9Pq6N+/Pz300ENiAnEmPPHEEzR48GC68sorqU2bNjRs2DAqW7YsvfLKK0maGTNm0Jw5cwpd6DGKYh+aTG1B711jEvv27QtUvilf6MhR5ZGh96PRiRdZ3TYgDDtN6NCVocInSxtEzMQlXsKwNcoco8q3KYdzTPFItRPRJ598InpQLr74Yho9ejTVrVuX/vCHP4jCI912059//jmdfPLJNGjQIHrjjTdo+fLlotA577zz6M4779TuXZg6dSrddddd+XT17duXxo8fT6aBHiZcbsGGIbty5cpRly5daP78+aIAwNwfFH7o+Zo4cSI1bNhQFHurV69O9jJh90i0gbdFixY0ffr05HlTGzZsoJUrV4rXHTp0oBUrVgh6DNG1bdtW3C+AQg3vLVu2TLxGT9WaNWtox44dVLJkSaHHHc6rVasWlS9fnpYsWSJet27dWvSmbdu2jYoXL05du3YVtNg7p3r16qJ3btGiRYK2ZcuWgm7z5s2/bBveXbx/4MABIa9GjRri3t3uTtjq9tRhSBG9bejRg0zYPHfuXNGGonjv3r20fv168bpbt26iAIUPMEQGH8NHAIYoDx06JO4PgL8xaQ78uC/Imjlzpmhr0KCB+Ltq1SrxF3Kgc/fu3aIIxgm+sAmoV6+euH/4GMAwLPjw7CAPPnWHZWvXri34ly5dKl7jWaBnELTuLx/X3po1a4pdQRcvXpz0N3op0V6sWDFxr9ioC3EBf1epUiUZL4gH/B/+xtAtfkjgmaINdJDt+rtZs2bCB65e0KKwx+eiUqVK4v7gU6BJkybCt25vJp45/IL3YCt8PGvWLNGGmIXfXH937txZxAPuAf6GXugB8IMHcZEas/hs79q1Swxt497hb9wT5CE20e76G58L3F+pUqUEr7uBGWIWnw/X3/ghg88GYhG9yYgB974Rg4gZ14d4xjjPBxds6969e9LfWFmCy510iZjF80tN6G7Mwt+wA73PbszCB7ADgFz4DJ8FxBeexezZs0UbcgCeA4b63Zh1cwR8g7+p/i6YI/DZwv3g+aXmCDxTxBD8jXbISZcj0AZ5BXME7ISPgswR8As+N4ghTHHQzRHwKz6PmXIEPuuuv3VyhBsvGA1AnKnkCMQMfAufunK8ckTBmMXnGPHhvoa/EYNbt25NmyPy8vKStOlyhPvMkXMK5gjcF2IW7Xh+6XKEKy9djkAb5JnMEUqTnp2IUapUKXHdddddzrRp05znn3/eKV26tPPaa69l5Fm5cqXToEEDZ+DAgeLvoEGDnCNHjkjpwy2PHDky33tr164V748bNy7f+0OGDHF69OghfS99+vRxqlWr5pQpU8apW7duIXkFsXPnTqEXf3MN99+PZ+E4118ftSUMBoPBiCNUvkMjH8ZCxYlK9eGHHxZV3TXXXCN6dTCMlAmoqNGrg3k2qJZffvnlwA+UlMG3334rqlr8CkCl2qtXr2OW6f4yUGnz4rEN8FeQMOULHTmqPDL0fjQ68SKr2waEYacJHboyVPhkaYOImbjESxi2RpljVPmm5XCOibzYQZcdupZTga44d/ggHdB1iaIIK6xQWNx2223HZAO6o9HlV3CCM16jWzZKpJuM7dfmxWMbgt5C3JQvdOSo8sjQ+9HoxIusbhsQhp0mdOjKUOGTpQ0iZuISL2HYGmWOUeXLy+EcE3mxg5VYmGCcCozZYSwvHTB+3qdPH1EQffjhh/Tdd9+JHp477rhD2waMO2NcEbJSv4Tx2kTvzLEA4/2qbV48tqF06VKByjflCx05qjwy9H40OvEiq9sGhGGnCR26MlT4ZGmDiJm4xEsYtkaZY1T5quRwjol8gjJ6ZY4//ngxjPXrX/9aTF574YUXxFUQKECwsgqFkDuEhV6hb775RkxSxuTmdL08mFjlTpgDMLERk57gfHeSGZadX3HFFWJCFyZqPfXUU2KSFFZnRQmvnqVMbVH3RqmgTJmygco35QsdOao8MvR+NDrxIqvbBoRhpwkdujJU+GRpg4iZuMRLGLZGmWNU+WrlcI6JvGcHM+5HjhxJb7/9tpiR/uCDD4pC4/LLLy9Ei5nYKIo++OAD0RvjArPgMV8GK7rSATP6MR8Il1vY4P/33ntvkmbgwIH0+OOPi/ewugDF0JdffilmpEcJdwWHSpsXj23ADP0gYcoXOnJUeWTo/Wh04kVWtw0Iw04TOnRlqPDJ0gYRM3GJlzBsjTLHqPLNy+EcE3nPDnD22WeLSwann3562vfdQibTMQ6JhVjeuPHGG8XFYDAYDAYjexB5zw7DG+k2V/Rr8+KxDRUrHheofFO+0JGjyiND70ejEy+yum1AGHaa0KErQ4VPljaImIlLvIRha5Q5RpWvaQ7nGC52LAfmDam2efHYhry8Q4HKN+ULHTmqPDL0fjQ68SKr2waEYacJHboyVPhkaYOImbjESxi2RpljVPn25HCO4WLHcri7rKq0efHYBmwdECRM+UJHjiqPDL0fjU68yOq2AWHYaUKHrgwVPlnaIGImLvEShq1R5hhVvg05nGO42GEwGAwGg5HVKIJtlKM2IleBs11wNgvOR8G5QumA5faJs6Tk27x4bMEDDxDdfz/Rddc59Nxzwe1+bcoXOnJUeWTo/Wh04kXH1qgQhp0mdOjKUOGTpQ0iZuISL2HYGmWOUeU7kmU5RuY71EU8ojWH4R6YptLmxWMbcGBdkDDlCx05qjwy9H40OvEiq9sGhGGnCR26MlT4ZGmDiJm4xEsYtkaZY1T5ZuVwjuFix3LgxF7VNi8e2+Ce/B4UTPlCR44qjwy9H41OvMjqtgFh2GlCh64MFT5Z2iBiJi7xEoatUeYYVb4DOZxjuNixHJUqVVJu8+KxDaVKHd0cMgiY8oWOHFUeGXo/Gp14kdVtA8Kw04QOXRkqfLK0QcRMXOIlDFujzDGqfJVyOMdwsWM56tevr9zmxWMbypcvH6h8U77QkaPKI0PvR6MTL7K6bUAYdprQoStDhU+WNoiYiUu8hGFrlDlGla9+DucYLnYsx+zZs5XbvHhsw9at2wKVb8oXOnJUeWTo/Wh04kVWtw0Iw04TOnRlqPDJ0gYRM3GJlzBsjTLHqPLNzuEcw8UOg8FgMBiMrAYXO5ajcePGym1ePLbhuOMqBCrflC905KjyyND70ejEi6xuGxCGnSZ06MpQ4ZOlDSJm4hIvYdgaZY5R5WucwzmGix3LcfDgQeU2Lx7bcPjwkUDlm/KFjhxVHhl6PxqdeJHVbQPCsNOEDl0ZKnyytEHETFziJQxbo8wxqnwHczjHcLFjOdauXavc5sVjG4I+L8WUL3TkqPLI0PvR6MSLrG4bEIadJnToylDhk6UNImbiEi9h2BpljlHlW5vDOYaLHQaDwWAwGFkNPi4iQshsdZ2Xl0clSpRQavPise24iGuvPUzDhhULTI8pX+jIUeWRofej0YkXHVujQhh2mtChK0OFT5Y2iJiJS7yEYWuUOUaVLy/LcozKcRHFjWpmSGHo0KHicncPnjJlCpUrV466dOlC8+fPp3379lGFChXEhK6ffvpJPMSGDRuKs0VWr14teDp16kTjx4+nMmXKCN4WLVrQ9OnTRRvowLty5UrxukOHDrRixQoRGKVLl6a2bdvS1KlTRVudOnXEe8uWLROv27VrR2vWrKEdO3ZQyZIlhZ5JkyaJtlq1aol9cZYsWSJet27dmjZu3Ejbtm2j4sWLU9euXQUt6ufq1atT5cqVadGiRYK2ZcuWgm7z5s2/nI/SXby/du06WrLkANWoUUPcO9C8eXNhK2QDPXv2pGnTpokPC2TC5rlz54q2pk2bipPT169fL15369aN5syZQ/v37xcfArSBD2jUqBEdOnRI3B8Afy9YsEDQ4L4ga+bMmaKtQYMG4u+qVavEX/gC1+7du6ls2bLUqlUrYRNQr149cf/wMdC+fXvBh2eF+4JP8YyB2rVrC/6lS5eK13gW69ato+3btwvZffr0oYkTJ4q2mjVrime/ePHipL9hH+woVqyYuNfJkyeL5w1/V6lSRbwGD+IBMuHvIkWKUI8ePWj06NEirkAH2a6/mzVrJvyAewBAO2PGDDHGjo3AcH/wKdCkSRPhW9gM4JnjWeA96IWP3W3hEbOIcdffnTt3FvGAoUv4G3qhx92DA3GRGrPLly+nXbt2iRjHvcPfiAv8Hz5Au+tv+BoxW6pUKcELP7gxi8+H6+82bdqI05cRi0i8iAHX33hWiBl8NnAveMZbtmwRF2zr3r170t/VqlUTF/zmxiwS7qZNm8Rr2IxYQ+zB37Bj3rx5yZiFD9xToCEXPsMOs/AjXrvLdPE5xnNwhwBScwQufDZS/V0wR+CzimeFuEvNEXimiCH4Gz498cQT0+YIvIYfCuYIxDPeCzJHwA/QgxiqWrWqdo5wP3eZcgQ+666/dXIEZCFeOnbsKOJMJUcgZuBH+HTUqFFCjleOKBiz+Bwj5tw+C/gbr3EMT7ocsXXrVvF/IF2OwDPHM4AfCuYI3BdiFn7v27dv2hyBNsRDuhwBu0BnMke4nz8poGeHEQ127tyJCBV/M2HChAnKbV48tuD++/HpdJwLLtgQqB5TvtCRo8ojQ+9HoxMvsrptQBh2mtChK0OFT5Y2iJiJS7yEYWuUOUaVb0KW5RiZ71AXPGfHcuCXuGqbF49tCLor3JQvdOSo8sjQ+9HoxIusbhsQhp0mdOjKUOGTpQ0iZuISL2HYGmWOUeWrkMM5hufsRAiZ8UZ0VaNLXKXNi8e2OTuDBx+iF14IbjTVlC905KjyyND70ejEi46tUSEMO03o0JWhwidLG0TMxCVewrA1yhyjyrcvy3KMypwd7tmxHO7YpkqbF49twBhykDDlCx05qjwy9H40OvEiq9sGhGGnCR26MlT4ZGmDiJm4xEsYtkaZY1T5ZuVwjuFih8FgMBgMRlaDix3Lgdnqqm1ePLYh6HFcU77QkaPKI0PvR6MTL7K6bUAYdprQoStDhU+WNoiYiUu8hGFrlDlGla9hDucYLnYsh7tMUKXNi8c2BD1lzJQvdOSo8sjQ+9HoxIusbhsQhp0mdOjKUOGTpQ0iZuISL2HYGmWOUeU7ksM5hosdy+HumaHS5sVjG7B3Q5Aw5QsdOao8MvR+NDrxIqvbBoRhpwkdujJU+GRpg4iZuMRLGLZGmWNU+VbncI7hYofBYDAYDEZWg5eeRwiZZXPYVRW7wqq0efHYtvT8mmsO0/PPB3dchClf6MhR5ZGh96PRiRcdW6NCGHaa0KErQ4VPljaImIlLvIRha5Q5RpXvQJblGF56nkVwt11XafPisQ0I0iBhyhc6clR5ZOj9aHTiRVa3DQjDThM6dGWo8MnSBhEzcYmXMGyNMseo8i3J4RzDxU6M57Rkagt6HoxJuOdWBQVTvtCRo8ojQ+9HoxMvsrptQBh2mtChK0OFT5Y2iJiJS7yEYWuUOUaVb3cO5xgudiwHDjFUbfPisQ0lSgR7Fq0pX+jIUeWRofej0YkXWd02IAw7TejQlaHCJ0sbRMzEJV7CsDXKHKPKVy6HcwzP2YkQMuONOFUWJwurtHnx5NqcHVO+0JGjyiND70ejEy86tkaFMOw0oUNXhgqfLG0QMROXeAnD1ihzjCrfwSzLMTxnJ4swffp05TYvHtuwZcuWQOWb8oWOHFUeGXo/Gp14kdVtA8Kw04QOXRkqfLK0QcRMXOIlDFujzDGqfNNzOMdwscNgMBgMBiOrwcWO5ahXr55ymxePbShfPthxXFO+0JGjyiND70ejEy+yum1AGHaa0KErQ4VPljaImIlLvIRha5Q5RpWvXg7nGC52LEexYsWU27x4bEORIsGGoClf6MhR5ZGh96PRiRdZ3TYgDDtN6NCVocInSxtEzMQlXsKwNcoco8pXLIdzDBc7lmPlypXKbV48tmHXrl2ByjflCx05qjwy9H40OvEiq9sGhGGnCR26MlT4ZGmDiJm4xEsYtkaZY1T5VuZwjuFih8FgMBgMRlaDl55HCJllc/v27aMyZcootXnx2Lb0fPDgQ/TCC8HttWPKFzpyVHlk6P1odOJFx9aoEIadJnToylDhk6UNImbiEi9h2BpljlHl25dlOYaXnmcRVqxYodzmxZNrw1imfKEjR5VHht6PRideZHXbgDDsNKFDV4YKnyxtEDETl3gJw9Yoc4wq34oczjFc7FgOVK6qbV48tgEbTQUJU77QkaPKI0PvR6MTL7K6bUAYdprQoStDhU+WNoiYiUu8hGFrlDlGle/nHM4xXOxYjtKlSyu3efHYhqBn6JvyhY4cVR4Zej8anXiR1W0DwrDThA5dGSp8srRBxExc4iUMW6PMMap8pXM4x/CcHYM4//zzadSoUdSnTx96//33jYw3Hjp0iIoXL67U5sVj25yda689QsOGBVdzm/KFjhxVHhl6PxqdeNGxNSqEYacJHboyVPhkaYOImbjESxi2RpljVPkOZVmO4Tk7EeGWW26h119/3ajMqVOnKrd58diGzZs3ByrflC905KjyyND70ejEi6xuGxCGnSZ06MpQ4ZOlDSJm4hIvYdgaZY5R5ZuawzmGix2DOPXUU6lChQpRm8FgMBgMBsPWYucf//gHFSlShG699VajcseMGUMDBgygOnXqCPkfffRRWrqhQ4dSo0aNxNhiz549adKkSRQ1YLNqmxePbShXLtjjIkz5QkeOKo8MvR+NTrzI6rYBYdhpQoeuDBU+WdogYiYu8RKGrVHmGFW+OjmcY6wpdiZPnkzPP/88dejQwZNu7NixlJeXV+j9efPm0caNG9Py7Nmzhzp27CiKmUx499136fbbb6f77ruPpk2bJuj79etHmzZtStJ06tSJ2rVrV+hat24dBYVsnzzIE5TV6LN18qAseIKyOi1PUOYJyi5yOccoFTuvvPIKHThwwLgRu3fvpssvv5xefPFFqly5cka6I0eO0A033ECXXXYZHT58OPn+woULqXfv3jR8+PC0fP3796eHHnpITCDOhCeeeIIGDx5MV155JbVp04aGDRtGZcuWFffsYsaMGTRnzpxCV5AV67Jly5TbvHhsQ9DLEU35QkeOKo8MvR+NTrzI6rYBYdhpQoeuDBU+WdogYiYu8RKGrVHmGFW+ZTmcY5SmRqMYOPvss6lGjRriNb7kx40bJ4Z+jgUoYM466yzq27evKEoyoWjRovT555/TySefTIMGDaI33niDli9fLgqd8847j+68807tvV4weequu+7Kpwv2jB8/nkwDPUy43IJtypQpYjinS5cuNH/+fLHTJOb+NG7cmLZv304TJ06khg0bimJv9erVyV4mFApoA2+LFi1o+vTpom3//v20YcOG5Fkk6C3Dhk6gR3Xdtm3b5GQxPEO85wYieqrWrFlDO3bsoJIlSwo97nBerVq1qHz58rRkyRLxunXr1qI3bdu2bWKWfdeuXQUtFvhVr15dFK6LFi0StC1bthR0mJAM3xJ1F++jeIY8xBTuHWjevLmw1e2pw5AietvQoweZsHnu3LmirWnTprR3715av369eN2tWzdRgMIHmKUPH8NHAOIUKwJwfwD8vWDBAsGP+4KsmTNnirYGDRqIv6tWrRJ/IQc6UZijCG7VqpWwyT3NF/fvbprVvn17wYdnB3nwKZ4xULt2bcG/dOlS8RrPAj2DoMWKAsC1t2bNmmKFweLFi5P+Ri8l2tEjhntFjyjiAv6uUqVKMl4QD/g//I2h2x49eohnijbQQbbr72bNmgkfuHpBi8Ien4tKlSqJ+4NPgSZNmgjfur2ZeObwC96DrfDxrFmzRBtiFn5z/d25c2cRD7gH+Bt6oQeoX7++iIvUmMVnG5tOYtdV3Dv8jXuCPMQm2l1/43OB+ytVqpTghV/cmMXnw/U3fsjgs4FYLFGihIgB974Rg4gZ14d4xlu2bBEXbOvevXvS39WqVRMX4seNWTy/1J5gN2bhb9iB3mc3ZuED2AFALnyGzwLiC89i9uzZog05AM9h7dq1yZh1cwR8g7+p/i6YI/DZwv3g+aXmCDxTxBD8jXbISZcj0AZ5BXME7ISPgswR8As+N4ihqlWraucI+BWfx0w5Ap911986OcKNF4wGIM5UcgRiBr6FT105XjmiYMzic4z4cF/D34jBrVu3ps0ReXl5Sdp0OcJ95sg5BXME7gsxi3Y8v3Q5wpWXLkegDfJM5gj38ycFRwFFihRxNm7cmHxdvnx5Z+nSpc6x4O2333batWvn7Nu3T7w+5ZRTnFtuucWTZ+XKlU6DBg2cgQMHir+DBg1yjhw5IqUPtzxy5Mh8761du1a8P27cuHzvDxkyxOnRo4f0vfTp08epVq2aU6ZMGadu3bqF5BXEzp07hV78zYTdu3crt3nx2IL778ezcJyrrz4YqB5TvtCRo8ojQ+9HoxMvsrptQBh2mtChK0OFT5Y2iJiJS7yEYWuUOUaVb3eW5RiZ71AXkc7ZwS8GLNd+8803lcbzUFGjVwfzbFAtv/zyy6IyjRrffvutqGrxKwCVaq9evY5ZplvxqrR58diGPXt2ByrflC905KjyyND70ejEi6xuGxCGnSZ06MpQ4ZOlDSJm4hIvYdgaZY5R5VuTwzlGqdhBQZFaVBR8rQp0maHLDd1yKFpwjR49mp5++mnx/9R5OalA1+U111wjVlihsLjtttvoWIDuaHT5FZzgjNfolo0S6JpXbfPisQ0HDgR7XIQpX+jIUeWRofej0YkXWd02IAw7TejQlaHCJ0sbRMzEJV7CsDXKHKPKtyOHc4zSnB2MAmGczy1wMIaHMbbEHIyjwLirDLDTsDtW6gIThDHW+ac//SntSh2Mn4MPY5MjRowQ43vY3wZj9Y8//jjpAOPOGFf87rvvxNwfAGOceH3jjTdSlIBtqm1ePLahWLFgOxdN+UJHjiqPDL0fjU68yOq2AWHYaUKHrgwVPlnaIGImLvEShq1R5hhVvpI5nGOUjovItNqpIK644gptg1C4YMLbU089VagNBQgmomGi2siRI5POw4QxTFL+y1/+kraXB0WZO2EOxRlWXp122mli4qA7yQxDYrAby98xUQv633vvPTEBChO1goDMVtd4PJl6zzK1efHYdlzEddc59Nxzwdlqyhc6clR5ZOj9aHTiRcfWqBCGnSZ06MpQ4ZOlDSJm4hIvYdgaZY5R5XOyLMeoHBehNEE5DPhNUP7666+Tk5lTMW3aNGf16tVpeX744QcxiangdcUVV+Sje+aZZ8SE55IlS4qJyRMmTHCChMzkKi8bMrUFbbfJCcoXXLAhUD2mfKEjR5VHht6PRideZHXbgDDsNKFDV4YKnyxtEDETl3gJw9Yoc4wq34QsyzEqE5S1TuVChYb5NlhGh0oNyyPRY2KiasNBml44/fTT074P/V69RTIdWBiyinrYisFgMBgMhlkoFzs//PADXXXVVWKtu1tAuAUPNuDDHjgMc/CaIJ2pLepJ1SrAfhJBwpQvdOSo8sjQ+9HoxIusbhsQhp0mdOjKUOGTpQ0iZuISL2HYGmWOUeWrlcM5Rml2KOa9YFNBbAr04Ycfig2CsFEWJgpjU6Ff/epXke+SmG3AxkqqbV48tgGbZAUJU77QkaPKI0PvR6MTL7K6bUAYdprQoStDhU+WNoiYiUu8hGFrlDlGla98DucYpWIHk3b/7//+j77//ns699xzxY6XWDl1wQUXiB4fTB5+8skng7M2B+FOrFZp8+KxDe6uwUHBlC905KjyyND70ejEi6xuGxCGnSZ06MpQ4ZOlDSJm4hIvYdgaZY5R5VuSwzmmqOp8mkwnkrunlaPoYTAYDAaDwbAFSsUOzvLAmR6ZgPM93HMrGGaA/YRU27x4bIPXwa8mYMoXOnJUeWTo/Wh04kVWtw0Iw04TOnRlqPDJ0gYRM3GJlzBsjTLHqPK1zuEco1TsuAecZQLasKMxwxwK7uos0+bFYxv27Qs2Xkz5QkeOKo8MvR+NTrzI6rYBYdhpQoeuDBU+WdogYiYu8RKGrVHmGFW+jTmcY5RXY2FCsntab7rdjRlm4bUbdaY22R2sbcD+/QcClW/KFzpyVHlk6P1odOJFVrcNCMNOEzp0ZajwydIGETNxiZcwbI0yx6jybcvhHKNc7OCohnR71mDOTpx21YwLcEaYapsXj20oWjTYeDHlCx05qjwy9H40OvEiq9sGhGGnCR26MlT4ZGmDiJm4xEsYtkaZY1T5iudwjlE6LkJ2Pk7Dhg2PxaacgdJW11kG97iI668nevbZqK1hMBgMRjZ/hyrN2UERI3MxzGHSpEnKbV48tmHTpmDHcU35QkeOKo8MvR+NTrzI6rYBYdhpQoeuDBU+WdogYiYu8RKGrVHmGFW+STmcY5SKncWLF9Oll14qqqmCQGV12WWX8aaChuHV8ZapTaGzLnIEbaopX+jIUeWRofej0YkXWd02IAw7TejQlaHCJ0sbRMzEJV7CsDXKHKPK5+RwjlEqdh577DGqX79+2u4idCWhDTQMc6hevbpymxePbShTpnSg8k35QkeOKo8MvR+NTrzI6rYBYdhpQoeuDBU+WdogYiYu8RKGrVHmGFW+6jmcY5SKndGjR9PFF1+csf3Xv/612F2ZEc4+NJnagt67xiRKlSoVqHxTvtCRo8ojQ+9HoxMvsrptQBh2mtChK0OFT5Y2iJiJS7yEYWuUOUaVr3IO5xjlTQVr1KiRsb1atWq0evVqE3YxfsGiRYuU27x4bMOOHcEeF2HKFzpyVHlk6P1odOJFVrcNCMNOEzp0ZajwydIGETNxiZcwbI0yx6jyLcrhHKNU7GCoaunSpZ5nX+TaqiIGg8FgMBh2Q6nYOfnkk+mZZ57J2P7000/TSSedZMIuxi/AYauqbV48tqFSpUqByjflCx05qjwy9H40OvEiq9sGhGGnCR26MlT4ZGmDiJm4xEsYtkaZY1T5WuZwjlEqdu666y764osv6KKLLhLLyLACC9fEiRPpwgsvpK+++krQMMwh23c3PXBgf6DyeQflY2+zCbyDsjot76DMOyi7yOUco1TsdO7cmd5//30aM2YM9erVi6pUqSKu448/nn788Ud67733qEuXLsFZm4PYvHmzcpsXj23Yty/YYseUL3TkqPLI0PvR6MSLrG4bEIadJnToylDhk6UNImbiEi9h2BpljlHl25zDOUZ5/+azzz5b7KT85Zdfijk6WDvfokULOuOMMzwPCWXooWjRosptXjy2IejjRUz5QkeOKo8MvR+NTrzI6rYBYdhpQoeuDBU+WdogYiYu8RKGrVHmGFW+ojmcY5SOi8Cy8htvvJEmTJhQaCIyhrPQwzNs2DCetyMJPi6Cj4tgMBgMhmXHRTz11FM0ePDgjJsKXnvttfTEE0+oW8zIiClTpii3efHYhk2bNgUq35QvdOSo8sjQ+9HoxIusbhsQhp0mdOjKUOGTpQ0iZuISL2HYGmWOUeWbksM5RqnYmTlzJp155pkZ2zGUNXXqVBN2MX7B4cOHldu8eGxD0FuIm/KFjhxVHhl6PxqdeJHVbQPCsNOEDl0ZKnyytEHETFziJQxbo8wxqnyHczjHKBU7GzdupBIlSnge4R71JKRsQ9WqVZXbvHhsQ+nSwR4XYcoXOnJUeWTo/Wh04kVWtw0Iw04TOnRlqPDJ0gYRM3GJlzBsjTLHqPJVzeEco1Ts1K1bl+bMmZOxfdasWVS7dm0TdjF+gdeO1ZnavHhsQ5kyZQKVb8oXOnJUeWTo/Wh04kVWtw0Iw04TOnRlqPDJ0gYRM3GJlzBsjTLHqPLVyOEco1Ts/OpXv6K//vWvtH9/4eXC+/bto/vuu0+s1spVnH/++eL8D+xDZArz589XbvPisQ3bt28PVL4pX+jIUeWRofej0YkXWd02IAw7TejQlaHCJ0sbRMzEJV7CsDXKHKPKNz+Hc4xSsfOXv/xFbAyEpeaPPvooffzxx+L65z//KXZHRNs999xDuYpbbrmFXn/99ajNYDAYDAaDobvPTs2aNWncuHF0/fXXi52S3cml2CulX79+NHToUEGTqzj11FNp1KhRRmU2b95cuc2LxzZgFV+QMOULHTmqPDL0fjQ68SKr2waEYacJHboyVPhkaYOImbjESxi2RpljVPma53COUd7lp2HDhvT555/Tli1bxDER2HMH/8d7jRs3Vjbgueeeow4dOojl7LiwMzOOpDAJ7Pg8YMAAqlOnjijMPvroo7R0KNYaNWokJs327NlTHIlhwz4Cqm1ePLYhL+9goPJN+UJHjiqPDL0fjU68yOq2AWHYaUKHrgwVPlnaIGImLvEShq1R5hhVvp9zOMdob2mIuSndu3enHj16iP/rol69evSPf/xDLFnHOvzevXvTueeeS3Pnzk1LP3bsWMrLyyv0/rx588RqsXTYs2cPdezYURQzmfDuu+/S7bffLuYdTZs2TdCjtyp1H5hOnTpRu3btCl3r1q2joJDpnrzavHhsw969+wKVb8oXOnJUeWTo/Wh04kVWtw0Iw04TOnRlqPDJ0gYRM3GJlzBsjTLHqPJtzOEco3xchGmgxyUVf//730VvD3qM2rZtm6/tyJEjdMMNN4jusHfeeYeKFSsm3l+4cKEoklCs3HnnnYV09O/fX1xewGaI2DDxyiuvFK+xE/Rnn31Gr7zyCv35z38W782YMeOY75fBYDAYDEaOFTsFNx0aMWKE6InBcFa6szUwXHbyySfToEGD6I033qDly5eLQue8885LW+jI4ODBg6JnKfXEdujq27cvjR8/nkwDPUy43E2W0KNVrlw5cYgqZqxjZVuFChWSw4IYLsTwIYq91atXJ3uZypcvL9rAi0nj06dPT/aWbdiwQZxhBmCYcMWKFaIbEUN0KCLdzR8xtIf3li1bJl6jp2rNmjW0Y8cOKlmypNDjDufVqlVL6MSZaEDr1q1FtY6J6dhjqWvXroIWc7mqV68uevwWLVokaN0J7NiHKXFGSvekPyAPyxLd2fooZmGr+0sAQ4robUOPHmTCZrfnr2nTprR3715av369eN2tWzexPQJWDGI+UPv27YWPAAxRHjp0SNwfAH8vWLBA8OO+IAsbZwINGjQQf1etWiX+oqcPOnfv3i3OgGvVqpWwyfU37h8+BqDT5YM8+NTdPRRbM4B/6dKl4jWeBXoGsSrN3cPKtRfz3zC0u3jx4qS/sVcF2lHo414nT54s4gL+xqG8Lj/iATLhbwzdogcWNqINdJDt+rtZs2bi2bp6QYvCHp+LSpUqiftzt5xo0qSJ8K3bm4lnDr/gPdgKH2MLCgAxixh3/Y2DhBEP+HzD39Dr/oCoX7++iIvUmMVne9euXWJ7Aty762/IQ2yi3fU3PheI2VKlSgle+MWNWXw+XH+3adNGfDYQi/A3YsC9b8SgO4cM7+EZY4geF2xDT7br72rVqokL8ePGLLasd3uCU2MW/oYd6H12YxY+gB0A5MJnBw4cEP5GPM6ePVu0IQfgOaxduzYZs6k5An9T/V0wR7ifVTy/gjkCMeT6G3Iy5QjIK5gjYCd8FGSOgF/wuUEMIe6PJUfg85gpR+Cz7vpbJ0e48YIcgThTyRGIGfgWPnXl+OWI1JjF5xi+cF/D34jBrVu3ps0RLVu2TNKmyxHuM0fOKZgjcF9uzOL5ZcoRkJcuRwCQZzJHuJ8/KTgWYNasWU65cuWcYsWKORUrVnQ+++wzT/qVK1c6DRo0cAYOHCj+Dho0yDly5IiULtzyyJEj8723du1a8f64cePyvT9kyBCnR48e0vfRp08fp1q1ak6ZMmWcunXrFpJXEDt37hR68TcTpk6dqtzmxWML7r8fz8JxLrpoU6B6TPlCR44qjwy9H41OvMjqtgFh2GlCh64MFT5Z2iBiJi7xEoatUeYYVb6pWZZjZL5DXVjRs4NqE9Ubqtz333+frrjiCho9erT4FZYOqKjRq3PKKaeIX5ovv/xy4Kdny+Dbb781LjPd/CS/Ni8e24BfHEHClC905KjyyND70ejEi6xuGxCGnSZ06MpQ4ZOlDSJm4hIvYdgaZY5R5cvL4RwT7ZnrvwBdoeiuQnfXI488IroD//3vf2ekR9flNddcI+b7oHvxtttuOyb96I5Gl1/BCVR4jW7ZKOE1+TtT27FMGA8bGHYIEqZ8oSNHlUeG3o9GJ15kdduAMOw0oUNXhgqfLG0QMROXeAnD1ihzjCpf5RzOMVYUO+l+7WP8Oh0wft6nTx8xNvnhhx/Sd999J1ZS3XHHHcdUbKHQgqxUG/A63dyhMIGxZ9U2Lx7bgPkUQcKUL3TkqPLI0PvR6MSLrG4bEIadJnToylDhk6UNImbiEi9h2BpljlHlq5PDOSbyYgeTgrEPDiZuYZIYXmNjvssvv7wQLQoQrKrCpCYUOJjwhaGub775hl599VV68skn0+rAxCoMk7kTnTCxEf93J5ECWMn14osv0vDhw8UkKmyciElS7uqsqJBpCb5XmxePbcCExCBhyhc6clR5ZOj9aHTiRVa3DQjDThM6dGWo8MnSBhEzcYmXMGyNMseo8s3N4RwT+ZwdzBzHyirMlMfMeMyw/uqrr+j0008vRIuZ2A8//DCddNJJojfGBYa9MF8Gs83TATP6TzvttHyFDYC5Qa+99pr4/8CBA8Us8nvvvVfMOMcKgy+//DKnd4RmMBgMBiMbEHmxg8nFKkhXBLlL1ryOcXCPtvDCjTfeKC6bgKWOqm1ePLahYsXjApVvyhc6clR5ZOj9aHTiRVa3DQjDThM6dGWo8MnSBhEzcYmXMGyNMseo8jXN4RwT+TAWwxuYgK3a5sVjG/LyDgUq35QvdOSo8sjQ+9HoxIusbhsQhp0mdOjKUOGTpQ0iZuISL2HYGmWOUeXbm8M5hosdy+FuhKXS5sVjG4L+AJjyhY4cVR4Zej8anXiR1W0DwrDThA5dGSp8srRBxExc4iUMW6PMMap863M4x3Cxw2AwGAwGI6tRBDsLRm1ErgLbnWNSNjZTxFb76YCttN0zwGTbvHhswQMPEN1/P9F11x2h554LruY25QsdOao8MvR+NDrxomNrVAjDThM6dGWo8MnSBhEzcYmXMGyNMseo8h3Oshwj8x3qgnt2LId73ohKmxePbdi6Ndil56Z8oSNHlUeG3o9GJ15kdduAMOw0oUNXhgqfLG0QMROXeAnD1ihzjCrfnBzOMVzsWA4cqKba5sVjG9zDUIOCKV/oyFHlkaH3o9GJF1ndNiAMO03o0JWhwidLG0TMxCVewrA1yhyjyrc/h3MMFzuWwz2FWaXNi8c2pO6XFARM+UJHjiqPDL0fjU68yOq2AWHYaUKHrgwVPlnaIGImLvEShq1R5hhVvoo5nGO42LEcOPRUtc2LxzZUqFA+UPmmfKEjR5VHht6PRideZHXbgDDsNKFDV4YKnyxtEDETl3gJw9Yoc4wqX4MczjFc7FgOHKGh2ubFk2tzdkz5QkeOKo8MvR+NTrzI6rYBYdhpQoeuDBU+WdogYiYu8RKGrVHmGFW+2TmcY7jYYTAYDAaDkdXgYsdyNGrUSLnNi8c2VKhQIVD5pnyhI0eVR4bej0YnXmR124Aw7DShQ1eGCp8sbRAxE5d4CcPWKHOMKl+jHM4xXOxYjkOHDim3efHYBsc5Eqh8U77QkaPKI0PvR6MTL7K6bUAYdprQoStDhU+WNoiYiUu8hGFrlDlGle9QDucYLnYsx5o1a5TbvHhsw+7dewKVb8oXOnJUeWTo/Wh04kVWtw0Iw04TOnRlqPDJ0gYRM3GJlzBsjTLHqPKtyeEcw8UOg8FgMBiMrAYfFxEhZLa6zsvLoxIlSii1efHYdlzEtdcepmHDgtvK3ZQvdOSo8sjQ+9HoxIuOrVEhDDtN6NCVocInSxtEzMQlXsKwNcoco8qXl2U5ho+LyCIsWLBAuc2LxzZs27YjUPmmfKEjR5VHht6PRideZHXbgDDsNKFDV4YKnyxtEDETl3gJw9Yoc4wq34IczjHFI9XO8MXevXuV27x4bEGRIom/779fhbp0ITr5ZKJTTkn8rVrVnB5TvtCRo8ojQ+9HoxMvsrptQBh2mtChK0OFT5Y2iJiJS7yEYWuUOUaVb28O5xju2bEc5cuXV27z4rEF551H1Lo1VmMVoenTif79b6ILLiCqVo2ofXuiG28kGjGCaOPGY9Njyhc6clR5ZOj9aHTiRVa3DQjDThM6dGWo8MnSBhEzcYmXMGyNMseo8pXP4RzDc3YihMx4Iw5PK126tFKbF49tWLZsP02eXJpGjyZxzZtXmKZly0Svj3vVrSsv35QvdOSo8sjQ+9HoxIuOrVEhDDtN6NCVocInSxtEzMQlXsKwNcoco8q3P8tyDM/ZySLMnDlTuc2LxzZs3jyTBg4kevZZorlziTZtwtAW0c03E3XsmBjuWriQ6IUXiC6/nKhePaKmTYl+/3ui4cOJVqzwlm/KFzpyVHlk6P1odOJFVrcNCMNOEzp0ZajwydIGETNxiZcwbI0yx6jyzczhHMNzdhhWoXp1ogsvTFzAtm1EP/2U6PUZM4Zo2jT0BiWuV19N0OB8OXfOD65mzY7OCWIwGAwGg4sdy5HrJxJXqUJ0zjmJC/j5Z6KxYxPFD64pU4hWrSL6738TF1C79tHJzm3aNCEM1B5r8cOnntsBPvVcnZZPPedTz13kco7hYocRK2BYtn//xAXs2UM0fvzR4mfiRKL164neeSdxEVUXvUWpq70wAbooD+AyGAxGzoBTvuVYhW4LxTYvHttwrLaWK0fUty/Rgw8mhrl27CAaNSqxaWHv3kSlSh2mzZuJPvggMQ+oU6fEiq9zzyV64gmiqVNxZkswdqryyND70ejEi6xuGxCGnSZ06MpQ4ZOlDSJm4hIvYdhqSr4tMbMqS3MM9+wwsgplyhyduwP89NNUKlKkR3LOD4bAtm8n+uSTxAXg4PUTTzzK17UrUUw2h2UwGAyGBHjpeYTgpefhLwtFLw4mObvDXpj8vHNn4d6i448/OvTVowf2A+Kl5zaAl56r0/LSc156nq05hpeeZxGWLl2q3ObFYxuCtrWg/OLFE8XLkCFEn35KtHVrovh58snERoeYEI15QN98Q/TXvyYKnkqV8PewOMvr+++xE6iebhP0fjQ68SKr2waEYacJHboyVPhkaYOImbjESxQ5Ju4xszRLcwwPY1mO3bt3K7d58diGoG31k1+sGFHnzonr1luJjhxJ7PeDIS+39wd7/0yeXI4mT07wYIgLBZM77IVeoHSbg6remwy9H41OvMjqtgFh2GlCh64MFT5Z2iBiJi7xYkOOiVvM7M7SHMPFjuUoW7ascpsXj20I2lZV+VilhdVauG64AcNXiU0N33prLS1dWlcUP2vXJub+4Hr44UTBhHk+bvGD+T8VK6rrlqH3o9GJF1ndNiAMO03o0JWhwidLG0TMxCVebMwxtsdM2SzNMTxnJ0LIjDfm5eVRiQyzZTO1efHYhqBtNSXflYNPCzY0dHt9cK1cWbhgwu7PJ510mE47rRiddJLc4aYytvrR6MSLrG4bEIadJnToylDhk6UNImbiEi9xzDFB8uVlWY7hOTtZhGmYUKLY5sVjG4K21ZR8Vw42Jyx4XAWu118nuuqqxO7NGArD4aZPP12Mzj8/sdS9Qwf/w01lbPWj0YkXWd02IAw7TejQlaHCJ0sbRMzEJV7imGOC5JuWwzmGh7EYjGNEw4ZEv/1t4gLWrUvM+XnvvY20YEFNmj+faPbsxDV0aIKmVaujmxyqHm7KYDAYDDVwsWM56uHkS8U2Lx7bELStpuSryKlTh+iSSzCMdUgUMZjgjOLHnfQ8axbRggWJ6/nnEzzoLerWrR396leJ4gcFlI4dOvEiI9cWhGGnCR26MlT4ZGmDiJm4xEu25hhdvnoStNmaY7jYsRzFsVZasc2LxzYEbasp+TpyXJ4aNYguuihxuYeb/vjj0cNNMeSFVZlLl5ajd99N0OAYGXfCMy4UQxhC87NDJ1507y8KhGGnCR26MlT4ZGmDiJm4xEu25xhVvuIStNmaY3jOjuVYgQkhim1ePLYhaFtNydeRk4kHe/m4x1XgIFMUP599RvSb36yj//u/xF5A2Fn9jTeIrr6aqHlz/CoiuvRS8OwVw2KZlhXoxIvu/UWBMOw0oUNXhgqfLK0fHecYO+TbEjMrAogXWd1BIj7lOYORpcAydQxfVa26mnr2rEPYjiL1cNNJkxLzgBIHmzamRx9N9BZhvo8756ddOz7clMFgMDKBl55HCJllc3v37s24P0GmNi8e2xC0rabk68hR5clEv29f4jR3FD7ff3+YJk0qRvv3F+4twhL3Xr0O0umnlxRL37H/j6w9cYmZMOw0oUNXhgqfLK0fHecYO+TbEjN7A4gXVTtlwUvPswh8IrEd8qM89RyHm556KtF992FC82Jxsjvm/Pz970RnnJE4ywtDYR9/TPTnP5cUGxyi+DnrLBK9QCiU8vLsPpFYFnzquTotn3qevTlGlW8Vn3rOsBWoWFXbvHhsQ9C2mpKvI0eVR4YeNKVKJXZpxnX33YlCxj3c9OOPt9OcOZXp55+JPv88cQEoiNq2rU3nnJMY9urenYScY7m/KBCGnSZ06MpQ4ZOl9aPjHGOHfFtiZmcA8SKrO0hwsWM5vE6JzdQWl9OIw7DVlHwdOao8MvTpaLApac+eiatfv1XUrl1lmjnz6Jwf9AKh52fSpIpi/k9CDoa8js75KVu2DMUBYcS2CR26MlT4ZGn96DjH2CHflpgpHUC8yOoOEjxnJ0LIjDcePnyYihWcfOHT5sVjG4K21ZR8HTmqPDL0fjTp2t3DTX/44Qj9+GNRUQBt3pyfr2RJh3r0KJLc6DDT4aZRI4zYNqFDV4YKnyytTsz4tXGOMS/flpg5HEC8qNopC56zExHOP/98qly5Ml3kbqhiAFOwNlmxzYvHNgRtqyn5OnJUeWTo/WjStbuHm/bsOTl5XMW8eUTDhiWWs2MTxIMHi9BPPyXmAfXrR1S5Moll8H/6U2IozJZRizBi24QOXRkqfLK0OjHj18Y5xrx8W2JmSgDxIqs7SPAwlkHccsst9Pvf/56G49AkBsNSYHPC1q0T17XXJvbs+eCDGbRzZ6fkLs843BQTm3FhkjMKpk6djm5yiJVfmATNYDAYcQAXOwZx6qmn0qhRo4zKrF27tnKbF49tCNpWU/J15KjyyND70ejEC4qfHj2qiF2bcZgpgGIn9WR37PCMSdC4nnwyQYPeIrf4wdAX9v4JGmHEtgkdujJU+GRpg4gZzjHm5dsSM7UDiBdZ3UEi8mGsRx55hLp3704VKlSgGjVq0HnnnUcLFy40qmPMmDE0YMAAqlOnDhUpUoQ++uijtHRDhw6lRo0aiYlUPXv2pEnubM4I4bUvQaa2uOx/EYatpuTryFHlkaH3o9GJl3RtOJtr0CCil18mWrKEaM0aorfeSvQE4RBTAAeb/uc/RBdfTFSzJlGbNkTXX0/09tuJTRCDQBixbUKHrgwVPlnaIGKGc4x5+bbETNmQckzOFTujR4+mG264gSZMmEDffPMN5eXl0RlnnEF79uxJSz927FhBUxDz5s2jjZiMkAaQ1bFjR1HMZMK7775Lt99+O913333iKHrQ9+vXjzbhFMdf0KlTJ2rXrl2ha11QmZ3wi3qpcpsXj20I2lZT8nXkqPLI0PvR6MSLjFwcaIr5PZjng+MqNmwgMf/nxhsTPTwA3kf7ZZcl6HHMBY67wLEX6CkygTBi24QOXRkqfLK0QcQM5xjz8m2JmaUR5ZisH8b68ssv871+7bXXRA/P1KlT6WT0jafgyJEjojBq3rw5vfPOO8mZ3egJ6t27tyhW7rzzzkI6+vfvLy4vPPHEEzR48GC68sorxethw4bRZ599Rq+88gr9+c9/Fu/NmDHjmO+XwcgGoCcn9XDTrVsTS9zdOT/4qKBHCBd6h9zeotTDTZs0SQyhMRgMRtYXO5k2HqqSZvZj0aJF6fPPPxdF0KBBg+iNN96g5cuXi0IHw1/pCh0ZHDx4UBRXd911Vz5dffv2pfE4pMgw0MOEC0vx3Fnq5cqVoy5dutD8+fNp3759YlivcePGdOjQIZo4cSI1bNhQFHurV69O9jKVLFlStIG3RYsWNB3HZxNRtWrVaMOGDbTyl5/THTp0EIewYZkehujatm0r7hfA0B7eW7ZsmXiNnqo1a9bQjh07hHzocYfzatWqReXLl6cl+AYjTHBtLXrTtm3bJk607dq1q6DFbgbVq1cXK9MWLVokaFu2bCnoNm/eLHyLoUvcN+4P8lDg4t4BFLOw1e2pw5AietvQoweZsHku1lITTgNvKrYhX79+vXjdrVs3mjNnDu3fv18sSUQ7fARgiBL6cH8A/L1gwQLBj/sC7UxsUCNOHW+Qb9fPZs2aCZ27d+8W3bGtWrUSNgH16tUT9+8edNe+fXvBB12QB5+6KxEwbg1+91cOngV6Brdv3y6GWAHX3po1a4rllIsXL076G3aiHYU+7nXy5MkiLuBvfGbceEE8QCb8Dbk9evRIygYdZLv+xr3Br65e0KKwx+eiUqVK4v7gU6BJkybCt25vJp45/IL3WrY8jvr1a0SzZs2i3buL0fr1TWns2OL0449FaMGCcrRyZRF6/XUSF1C3rkNt226lzp130a9+VY6aNz9Cq1YdjVl8tnft2kVlypQR9w5/u88PsYl219/4XCBmS5UqJXjhFzdm8flw/d2mTRvx2UAslihRQsSAe9+IQcSM60M84y1btojLjVnX3/iM4UL8uDGL3OX2BOO5ujELf8MO9D67MYveZtgBQC58duDAAXGviMfZGCPESWiNG4vnsHbt2mTMujkC94q/4AXS5Qh8tnA/eH6pOQLPFDGEHIF2yEmXI9AGeQVzBGIYPgojRyBPVq1aVTtH4P/4PGbKEfisu/7WyRFuvGA0AHGmkiMQM/AtfOrK8coRBWMWn+O6desmX8PfiMGtW7emzRH169dP0qbLEe4zR84pmCNwX4hZtOP5pcsRaIO8dDkCbZAHH6fGLJ6v6+/OnTuLeMDnA/6GXreTAbYjLlK/19zPnxQci3D48GHnrLPOck444QRPupUrVzoNGjRwBg4cKP4OGjTIOXLkiJQO3PLIkSPzvbd27Vrx/rhx4/K9P2TIEKdHjx7S9vfp08epVq2aU6ZMGadu3bqF5BXEzp07hV78zYSFCxcqt3nx2IagbTUlX0eOKo8MvR+NTrzI6j4W7NrlOF995Th33+04+HiXKIHPYv6rRg3Huegix3nmGceZNQv5IHw7TenQlaHCJ0sbRMxwjjEv35aYWRijHCPzHerCqp4dDFGhOvwJG354ABU1enVOOeUU8Uvz5ZdfTv4qjhLffvutcZmovFXbvHhsQ9C2mpKvI0eVR4bej0YnXmR1HwuwQSHO8cLlHm46YcLR1V74PzpF3n8/cQFVqyaWuLurvXC4aRixbUKHrgwVPlnaIGKGc4x5+bbEzPaY5hg/WFPs3HjjjfTpp5+KlVPoEvMCui6vueYascIKXXS33XYbPfPMM9q60R2NLr+CE5zxGt2yUQLdlqptXjy2IWhbTcnXkaPKI0PvR6MTL7K6TQKHm552WuICDhzAcRZH5/yMHZuYB4SFk+7iyYoV0f3fKnm+V+fOiaMyTMOEL3RlqPDJ0gYRM5xjzMu3JWZKZEmOse64CKi/6aabaOTIkWKPGozFegHj59jPBnQjRowQ43t4jTk8jz/+uK8+9ABBF+b4pAJjvhizdIsmjHGiBwlFmDtB2TRUtrpmMHIJWHCJaWUofFAAobMXh5umAoebnnDC0QnPONy0ZMmoLGYwGGEjVsdFYOjqv//9L7311ltiUi4mQOHChLmCQAGCVVWY1ISl4pjwhQmHWLL+6quv0pPubmcFgIlVmOTkTnTCxEb8P/XIeazkevHFF8Xux5hEdf3114tJUu7qrKjgTiZTafPisQ1B22pKvo4cVR4Zej8anXiR1R0m8CPQPa7is88SB5lijvfNN68UPTs4zgK7U3z9NdE99yROgEfPT+/eRA88QIS9PdOkECmY8IWuDBU+WdogYsa2eMnVHKPKNzGHc0zkw1jPPfec+IvemVSgePnd736X7z3MxH744YfppJNOEqsAXGAWPObLYLZ5OmBG/2luf/kvhQ1wxRVXiKXuwMCBA8Us8nvvvVcUW1hhgGXxmJHOYDCiBXaZ6NoVK182UM+eWHVEhAVi7pwf9P7gcNMffkhcAFIEToJ3T3bH4aboDWIwGLmHyIsd1VG0008/Pe37WLKWCSikZPRgyAqXTfAqtjK1xalAC9pWU/J15KjyyND70ejEi6xuG+DaibO6OnRIXDfdlFjPhVWoqUdcYKUx9v7BhQNOixfHsuOjE57RG5Su59uEL3RlqPDJ0gYRM3GJl2zPMap8NXM4x0Re7DC84TUOmaktTvN/grbVlHwdOao8MvR+NDrxIqvbBmSyM/Vw0+uuSxQ/2OrFnfCMC6PWWPWF65//TBRM+I2UergphsdM+EJXhgqfLG0QMROXeMn2HKPKd1wO55jI5+wwvOFuKKfS5sVjG4K21ZR8HTmqPDL0fjQ68SKr2wbI2oniB2sdcLApNjHEPmTYgxCj1r//PTb2wxzAxCToJ54gOvfcxFJ3LG+/7rqD9MEHiWGxoO08Fj5Z2iBiJi7xku05RpVvcQ7nGO7ZYTAYOYFGjRLXFVckXmPT1tSeH5w/jI1dZ82qJc79AnC4qTvnB1eMDvtmMBg2LT3PZcgsmwONapsXj20I2lZT8nXkqPLI0PvR6MSLjq1RIUg7sc0Wip9vvjlI48eXFBOgCwK9Re6cH/z95cQAY3aq8MnSBhEzcYmXbM8xqnw/Z1mOidXSc4Y3Uk9dl23z4rENQdtqSr6OHFUeGXo/Gp14kdVtA4K0E/MnL76Y6M47VxGOSsIw1siRRLfempjbg6Ex9MS/9BLRoEGJg00bNybCotFXX8Wpzom5QsdipwqfLG0QMROXeMn2HKPKtymHcwwXO5YDB7qptnnx2IagbTUlX0eOKo8MvR+NTrzI6rYBYdjp6qhWjQh7j2L7LpzniL1+/vc/oiFDcFhqYjk8znUcPjwxD6hZMxxWSHT55TjpvagYFlPtN1e5P1naIGImLvGS7TlGlW9rDucYnrNjOXCMhWqbF49tCNpWU/J15KjyyND70ejEi6xuGxCGnZl0VKpEdPbZiQvYtYto3Lijc35w0DoOJ3/rLbQ2oX/8I9FblDrnB3OAsApMVfex0AYRM3GJl2zPMap8xXI4x/CcnQjBx0UwGNmDvXsLH26KM79SgRVfKH7cAgj7BMWobmAwrALP2cki4KBT1TYvHtsQtK2m5OvIUeWRofej0YkXWd02IAw7dXWULXv0uIrHHptMO3cmJjw/+CBR376JdvTkYx7QbbcRdemSKH4GDCDCsX44CHX8+MnG7QwiZuISL9meY1T5JudwjuFhLMuB88BU27x4bEPQtpqSryNHlUeG3o9GJ15kdduAMOw0oQMySpVKbFSI6y9/ITp4MLGvj7vcHYeboiD69NPEBZQt20XQu8Ne2PE50+GmsnYGETNxiZdszzGqfEdyOMdwsWM5Mp335dXmxWMbgrbVlHwdOao8MvR+NDrxIqvbBoRhpwkd6WSgaOnVK3HhgNNDh4hwNrF7theOtdi+vRh99RWJCyhTJkHvFj8466t0aTU7g4iZuMRLtucYVb7qOZxjuNixHFWqVFFu8+KxDUHbakq+jhxVHhl6PxqdeJHVbQPCsNOEDhkZ7llduP74x8SOzmPH/kzTpx+XLIC2bCH6/vvElXq4KQqfrl1riAnQfoebBhEzcYmXbM8xqnxVcjjH8Jwdy7EQ61cV27x4bEPQtpqSryNHlUeG3o9GJ15kdduAMOw0oUNHBlZplSw5n26+mcRxFdiWZO5comefJRo4kKhWrcRQGHqAHnqI6Pzzy4sVYjjN/c9/JvriC0zYVLeFc4wd8nXlqPAtzOEcwz07DAaDYSGwiSGWquO6/vqjh5u6q72++eYAbdxYisaPx8Tmo4ebYuKzO+yFk90ZDAYvPbd+2dz27dupMo5iVmjz4rENQdtqSr6OHFUeGXo/Gp140bE1KoRhpwkdujJU+LZt2047d1ZODnnh77JlhQumtm0PUe/exZMnuxecOsE5xg75YcTM9izLMbz0PIuAAFFt8+KxDUHbakq+jhxVHhl6PxqdeJHVbQPCsNOEDl0ZKnw7dmxPHlfxyiuJ4ypWryb673+JBg8matky0Rs0Z05xevppogsvJKpRA8UP0R/+QPTuu0QbNnCOsUV+GDGzPYdzDBc7lmMzDuhRbPPisQ1B22pKvo4cVR4Zej8anXiR1W0DwrDThA5dGSp86Wjr1UscV/HCC0QLFhCtX4/5PYtFcYMiB5g3j+i554guuSRxivtpp9UWxRGKJBRLMvbEJV6yPceo8m3O4RzDc3YsRxH0Qyu2efHYhqBtNSVfR44qjwy9H41OvMjqtgFh2GlCh64MFT4ZWkxqPv307eIsLwCruzDB2Z33M3Mm0apVZcThprgA9Ba5J7tXqlRa9A4VVBWXeMn2HKPKVySHcwzP2YkQfFwEg8GIEhhZGDv2aPGDA08PHy7cW+ROeMbVvHnh4ofBiAI8ZyeLMBVbriq2efHYhqBtNSVfR44qjwy9H41OvMjqtgFh2GlCh64MFT5ZWi86zBetXXsqPfZY4rgKFD9Ywo6l7FjSXrz4EVqzhujNN4muuSYxD6hOHaIzztgmlsRjabztmylnc45R5ZuawzmGh7EsxyFss6rY5sVjG4K21ZR8HTmqPDL0fjQ68SKr2waEYacJHboyVPhkaVVipkIFojPPTFzA6NFT6dCh7smen4kTE5OaN2yoQt98k6CpVi2xysvt+cHhpl4nu4eNbM4xqnyHcjjHcLFjOXh3Uzvk8w7KdiCbdlA+Vj5Z2mOJmTp1Kolhqz59Eq/370/0AH344VaaM6cqjRuXmAeEw01xAdjoEMWPe7J7586J3aKjQjbnGFW+KjmcY7jYsRw1sR+8YpsXj20I2lZT8nXkqPLI0PvR6MSLrG4bEIadJnToylDhk6U1GTM4lwtFTKdOJQhTJNzDTd2eHxxuumMH0f/+l7jc3qITTjg66dnrcNMgkM05RpWvZg7nGIs6GxnpMH/+fOU2Lx7bELStpuTryFHlkaH3o9GJF1ndNiAMO03o0JWhwidLG0TMuO+7h5u6x1Vgzg96fjAHaMCARC/Prl1EX35JdNddiaIH84T69iV68MHEZojoLQoS2ZxjVPnm53CO4Z4dBoPBYBgBhqu6d09cd9yRWNk1e/bRk93dw02/+y5xAaVKHT3cFBeKp7Jlo74TRraBl55bvmxu69atVLVqVaU2Lx7bELStpuTryFHlkaH3o9GJFx1bo0IYdprQoStDhU+WNoiY0b0/rNzCD3x32AvXxo35aUqUSAx1ucUPeoMwFKaLbM4xqnxbsyzH8NLzLMLu3buV27x4bEPQtpqSryNHlUeG3o9GJ15kdduAMOw0oUNXhgqfLG0QMaN7f1illXpcBXZ4xmHY2PEZOz9jT5+8vMTBpv/4B1H//olhL2yKOGRIYh4Q5gSpIJtzjCrf7hzOMVzsWI4NWOep2ObFYxuCttWUfB05qjwy9H40OvEiq9sGhGGnCR26MlT4ZGmDiBlTzwGbE7ZoQcnjKlatSpzx9eqriTO/sJszhsImTyZ6/HGic87Bqp7ECq9bb02sAMOwWK7mGFW+DTmcY3jODoPBYDCsAIqfJk0SF4odAOd1pZ7svmgR0YwZievf/07QoLfIHfbCii8ck8FgpILn7EQImfFGPJ5MZ4pkavPisQ1B22pKvo4cVR4Zej8anXjRsTUqhGGnCR26MlT4ZGmDiJko4wVDX27hg7/Yxbkg0Ft0tPhxqH797MwxqnxOluUYnrOTRZiBny+KbV48tiFoW03J15GjyiND70ejEy+yum1AGHaa0KErQ4VPljaImIkyXnBS+8CBJI6rmDOHaNMmog8+ILr5ZqKOHRO9Q+j9efFFot/8hqhBgyLUtCnRlVcSvfYa0fLl+OLNjhyjyjcjh3MMD2NZjoPYtUuxzYvHNgRtqyn5OnJUeWTo/Wh04kVWtw0Iw04TOnRlqPDJ0gYRMzbFS/XqRBdckLgA7PWDzQ2PHm7q0LJlRWjZskSxA9Svf3TI61gPN40yx6jyHczhHMPFjuWohF25FNu8eGxD0Laakq8jR5VHht6PRideZHXbgDDsNKFDV4YKnyxtEDFjc7xg9RY2NMQFTJ26hDZtap4c+sJkZ8wDwoRoXG5vkVv44GrdWr74iTLHqPJVyuEcw3N2IoTMeOOePXuoXLlySm1ePLYhaFtNydeRo8ojQ+9HoxMvOrZGhTDsNKFDV4YKnyxtEDETl3hJZ+uePYml7e6cnwkTEsdepAKHm6YWP+3bZz7cNMoco8q3J8tyDM/ZySLMwaC0YpsXj20I2lZT8nXkqPLI0PvR6MSLrG4bEIadJnToylDhk6UNImbiEi/pbMX3rXtcBQqenTuJRo0ieuABot69icqUSSxn//BDoltuwTlgRNgLD8ve//UvoilTcIJ3Zvmm7AyCb04O5xgexmIwGAxGzgKHm7o9OAB6eVDQuHN+xo5Nf7jpiScmen+qVStPXbokdn5m2AsudixHE2w4odjmxWMbgrbVlHwdOao8MvR+NDrxIqvbBoRhpwkdujJU+GRpg4iZuMSLjq043PT44xMXDi9FL8706UeLnx9/TPQG4eBTXERtRQ8Q6N1JzzjrC2d+BWmnDl+THM4xXOxYjv0eRwJnavPisQ1B22pKvo4cVR4Zej8anXiR1W0DwrDThA5dGSp8srRBxExc4sWErekON5016+icn1GjDtP27cXo229JXAAKnf/7v6M9Rvi/3+GmtsTM/izNMTxnx3KsW7dOuc2LxzYEbasp+TpyVHlk6P1odOJFVrcNCMNOEzp0ZajwydIGETNxiZcgbC1W7OhxFZjX89lnU8TJ7v/5D9HFFxPVrEl04ECiGPrb34j69MFKpMSBpnffTfTVV0S7dtkbM+uyNMdwzw6DwWAwGJrAKq127RLXDTckNizEpoapJ7uvXUs0blzieuSRRMHUtevRFV+Y/8MIFrz0PELILJs7dOgQFUc/qkKbF49tCNpWU/J15KjyyND70ejEi46tUSEMO03o0JWhwidLG0TMxCVebMgx+IbFrs2pxc+KFflpsKdPx44OnXpqEVEA4cIKMBP6sznH/MxLz7MHc9Md/OLT5sVjG4K21ZR8HTmqPDL0fjQ68SKr2waEYacJHboyVPhkaYOImbjEiw05xj3cNPW4ipUrid54g+jqqxO7N6MgmjGjCD31VGInaOzzg719bryRaMQIoo0b9fWr0s7N0hwTj9I8h8GTB+2QzxOU7QBPUFan5QnK9uWYBg0S53bhAjCd5ZVXFtO6dc1Fz8+8eYlzv3ANHZqgadny6IRnXHXrquvfn8M5hosdy+HVNZepza87zyYEbasp+TpyVHlk6P1odOJFVrcNCMNOEzp0ZajwydIGETNxiZe45Jg6dYguvPCQOKYC2Lz56MnuuDABeuHCxPXCCwka9BYlzvWqLyZFN2pkxtbjsjTH8JydCCEz3rhv3z4qgy09Fdq8eGxD0Laakq8jR5VHht6PRidedGyNCmHYaUKHrgwVPlnaIGImLvGSLTlm27b8h5ti358jRwr3FqUebtqsWeHzvfZlWY7hOTtZhFnY0EGxzYvHNgRtqyn5OnJUeWTo/Wh04kVWtw0Iw04TOnRlqPDJ0gYRM3GJl2zJMVWq5D+uAsXP558T/elPWAW2S+wFtGpVYh7Q4MFELVokhrkuvZRo2LDEsBi6NXI5x/AwFoPBYDAYMULFikT9+yeu88+fR+3a9RTL2t2hr4kTidavJ3rnncQFVK+Owqg5nX9+oucHS+UzHW6ajeBix3I0bNhQuc2LxzYEbasp+TpyVHlk6P1odOJFVrcNCMNOEzp0ZajwydIGETNxiZdszzEuHw43Pf30xAXs25coeNxdnsePT8wD+uGHKvTDDwmaypWJTjrp6IRnHHiK/X+yNcdwsWM5DmNvcsU2Lx7bELStpuTryFHlkaH3o9GJF1ndNiAMO03o0JWhwidLG0TMxCVesj3HZOLD1JhTT01c7uGmkyfjINOdNH16RXG46fbtRJ98krgATHnBLs+dOpURQ2bY9DDd4aZxzTE51IkVT6xZs0a5zYvHNgRtqyn5OnJUeWTo/Wh04kVWtw0Iw04TOnRlqPDJ0gYRM3GJl2zPMbJ8JUsmCpnzz18gjqtAoYOen0cfJTrrrESh8/PPiYNNH3mkIvXqlej5OeMMor//PXH4KY7AiHOO4Z4dBoPBYDByCCVKEPXokbiGDMl/uOlHH22j2bOriEnQ33yTuIDSpRMHmjZtWpf27k38PyYL8gR46XmEkFk2d/DgQSqJslyhzYvHNgRtqyn5OnJUeWTo/Wh04kXH1qgQhp0mdOjKUOGTpQ0iZuISL9meY1T5DkrmmOLFSxI2PHaXumPez6ZN6Qsmd87P8cejByncHMNLz7MIi3CinGKbF49tCNpWU/J15KjyyND70ejEi6xuGxCGnSZ06MpQ4ZOlDSJm4hIv2Z5jVPkWSeYYrNJKPa5iwwai+fMTy9j7998hNkHMyyMx9+fhh4n69Uuc7N6t2yG6806cBE+0c6e+nUGAh7Esx549e5TbvHhsQ9C2mpKvI0eVR4bej0YnXmR124Aw7DShQ1eGCp8sbRAxE5d4yfYco8q3RzPHYHPCVq0SV6dOC6lHj560bFn+w01x3tfs2WXFbs+PPZZY1o4VXu4mh2XLHhDL3aMCFzuWo3z58sptXjy2IWhbTcnXkaPKI0PvR6MTL7K6bUAYdprQoStDhU+WNoiYiUu8ZHuOUeUrbyjHoPhp2jRx/f73ifdR7Lz11hpaurSeKH6WLCGaNi1x4YBToq6itwgTpGvXptDBc3YihMx444EDB6hUqVJKbV48tiFoW03J15GjyiND70ejEy86tkaFMOw0oUNXhgqfLG0QMROXeMn2HKPKdyDEHIPDTd35PviLYTAMdW3ZktjPxwR4zk4WYcaMGcptXjy2IWhbTcnXkaPKI0PvR6MTL7K6bUAYdprQoStDhU+WNoiYiUu8ZHuOUeWbEWKOwbweHFfx3HOJ4yo+/3wq/e9/5godVfAwFoPBYDAYjEBRpcoh6tmTIgP37FiO+vXrK7d58diGoG01JV9HjiqPDL0fjU68yOq2AWHYaUKHrgwVPlnaIGImLvGS7TlGla9+DucYLnYsR1GPk9oytXnx2IagbTUlX0eOKo8MvR+NTrzI6rYBYdhpQoeuDBU+WdogYiYu8ZLtOUaVr2gO55j4RGyOYiWmuCu2efHYhqBtNSVfR44qjwy9H41OvMjqtgFh2GlCh64MFT5Z2iBiJi7xku05RpVvZQ7nGC52GAwGg8FgZDV46XmEkFk2t2/fPiqT4QCSTG1ePLYhaFtNydeRo8ojQ+9HoxMvOrZGhTDsNKFDV4YKnyxtEDETl3jJ9hyjyrcvy3IMLz3PIixfvly5zYvHNgRtqyn5OnJUeWTo/Wh04kVWtw0Iw04TOnRlqPDJ0gYRM3GJl2zPMap8y3M4x3CxYzl27dql3ObFYxuCttWUfB05qjwy9H40OvEiq9sGhGGnCR26MlT4ZGmDiJm4xEu25xhVvl05nGO42LEcXt1+mdri0r0chq2m5OvIUeWRofej0YkXWd02IAw7TejQlaHCJ0sbRMzEJV6yPceo8pXJ4RzDc3YihMx4Y15eHpUoUUKpzYvHNgRtqyn5OnJUeWTo/Wh04kXH1qgQhp0mdOjKUOGTpQ0iZuISL9meY1T58rIsx/CcnSzCNJyiptjmxWMbgrbVlHwdOao8MvR+NDrxIqvbBoRhpwkdujJU+GRpg4iZuMRLtucYVb5pOZxj+LiICOF2qqE6zYQ9e/ZkbM/U5sVjG4K21ZR8HTmqPDL0fjQ68aJja1QIw04TOnRlqPDJ0gYRM3GJl2zPMap8e7Isx7jyZAaouNiJEO6Erai30WYwGAwGI87fpRjO8gLP2YkQR44coXXr1lGFChWoSJEiaWm6d+9OkydPlm5DpYviafXq1b5jmDbA6/5skq8jR5VHht6PRjVe4hYzQceLKR26MlT4ZGlNx0yc4iXbc4wqX/csyzEoX1Do1KlTx/c4Cu7ZiRB4OPXq1fOkKVasWMbg8GrD+3FIRF73YJN8HTmqPDL0fjS68RKXmAk6Xkzp0JWhwidLG1TMxCFesj3HqPIVy8Ic49ej44InKFuOG264QastLgj6HkzJ15GjyiND70fD8WKHDl0ZKnyytBwz2ZtjVPluyOEcw8NYWQaVpXgMBsAxw1ABxwsjjjHDPTtZhlKlStF9990n/jIYMuCYYaiA44URx5jhnh0Gg8FgMBhZDe7ZYTAYDAaDkdXgYofBYDAYDEZWg4sdBoPBYDAYWQ0udhgMBoPBYGQ1uNhhMBgMBoOR1eBiJ8fw6aefUsuWLal58+b00ksvRW0Ow3Kcf/75VLlyZbrooouiNoURA+A4gFNPPZXatGlDHTp0oBEjRkRtEsNi7Nixg7p160adOnWidu3a0YsvvhiYLl56nkM4dOiQSEI//PCD2OCpa9euNG7cOKpatWrUpjEsxahRo8TZM8OHD6f3338/anMYlmP9+vW0ceNG8eW1YcMGkWMWLVpE5cqVi9o0hoU4fPgwHThwgMqWLStORUfBM2XKlEC+k7hnJ4cwadIkatu2LdWtW5fKly9P/fv3p6+//jpqsxgWA7/ScVAtgyGD2rVri0IHqFWrFlWrVo22bdsWtVkMS4GztFDoACh60PcSVP8LFzsxwpgxY2jAgAHihFeckv7RRx8Vohk6dCg1atSISpcuTT179hQFjgucsI5CxwX+v3bt2tDsZ8QrXhi5B5MxM3XqVPHLHaddM7ITYwzEC4ayOnbsKA7FHjJkiCiQgwAXOzECuvkQFAiedHj33Xfp9ttvF9tyT5s2TdD269ePNm3aFLqtjOjB8cKIKmbQmzNo0CB64YUXQrKcEdd4qVSpEs2cOZOWL19Ob731lhgGDQSYs8OIH/DoRo4cme+9Hj16ODfccEPy9eHDh506deo4jzzyiHg9duxY57zzzku233LLLc6bb74ZotWMOMWLix9++MG58MILQ7OVEe+Y2b9/v3PSSSc5r7/+eqj2MuKbY1xcf/31zogRI5wgwD07WYKDBw+KbuO+ffsm3ytatKh4PX78ePG6R48eNGfOHDF0tXv3bvriiy9Elc3IPcjEC4OhGjP4zvvd735HvXv3pt/+9rcRWsuIQ7xs3LhRLIAAcCI6hsWwWjgIFA9EKiN0bNmyRYyP16xZM9/7eL1gwQLx/+LFi9O//vUvOu200+jIkSN055138kqsHIVMvABITOhiRnc1xtSxlLhXr14RWMyIQ8yMHTtWDF1g2bk7f+ONN96g9u3bR2Izw+54WblyJV1zzTXJick33XRTYLHCxU6O4ZxzzhEXgyGDb7/9NmoTGDHCiSeeKH5IMRgywGjDjBkzKAzwMFaWADPYsYyv4OQuvMYSUAYjFRwvDFVwzDDiHC9c7GQJSpYsKTbw+u6775Lv4RcWXvOwA6MgOF4YquCYYcQ5XngYK0bApOIlS5YkX2OpHroAq1SpQg0aNBBL/K644gqx/Ta6B5966ikx1+LKK6+M1G5GNOB4YaiCY4aRtfESyBovRiDAEmA8soLXFVdckaR55plnnAYNGjglS5YUy/4mTJgQqc2M6MDxwlAFxwwjW+OFz8ZiMBgMBoOR1eA5OwwGg8FgMLIaXOwwGAwGg8HIanCxw2AwGAwGI6vBxQ6DwWAwGIysBhc7DAaDwWAwshpc7DAYDAaDwchqcLHDYDAYDAYjq8HFDoPBYDAYjKwGFzsMBiN2aNSokdh6nmEX+LkwbAUXOwyGxdiwYQPddNNN1KRJEypVqhTVr1+fBgwYkO9wvbgg7C/Cn3/+me655x5q1aoVlS5dWpy03LdvX/rwww9xTE5odtiO+++/nzp16uRLt3fvXrrrrruoadOmwp/Vq1enU045hT7++OMkzeTJk+maa64J2GIGQx18ECiDYSlWrFhBJ5xwAlWqVIkee+wxat++PeXl5dFXX31FN9xwAy1YsCBqE63Fjh076MQTT6SdO3fSQw89RN27d6fixYvT6NGj6c4776TevXsLvzLkcd1119HEiRPpmWeeoTZt2tDWrVtp3Lhx4q8LFEAMhpWI5EQuBoPhi/79+zt169Z1du/eXaht+/btyf+vXLnSOeecc5xy5co5FSpUcC6++GJnw4YNyfb77rvP6dixo/P66687DRs2dI477jhn4MCBzs8//5ykOeWUU5ybbrrJGTJkiFO5cmWnZs2agq+gzquuusqpVq2a0HPaaac5M2bMyEfzySefON26dXNKlSrlVK1a1TnvvPOS8gseFujixx9/dE488USndOnSTr169YQdqfe8ceNG5+yzzxbtjRo1cv773/+K+3jyyScz+u76668X/li7dm2htl27djl5eXni/9u2bXN++9vfOpUqVXLKlCnjnHnmmc6iRYuStK+++qpTsWJF53//+5/TokULQXPhhRc6e/bscV577TVhB3hh86FDh5J8eP9vf/ubc8kllzhly5Z16tSp4/znP//JZ4eJ53b48GHn4YcfFn6Bfzp06OCMGDGi0EGN3377rdO1a1dhf69evZwFCxYk76/gc8F76QA/4J69kPpc0snGlRpXL774otOqVSsRLy1btnSGDh3qKZ/B0AUXOwyGhdi6datTpEgR8UXmBXzZderUSRQLU6ZMEScK40sNxYULfLmUL1/eueCCC5zZs2c7Y8aMcWrVquXcfffdSRrQ48v0/vvvF1/2w4cPF/q//vrrJE3fvn2dAQMGOJMnTxY0f/zjH0VBA1uBTz/91ClWrJhz7733OvPmzROFkGs/aFDIoABYv369uIAlS5aIL3t8QULm2LFjnc6dOzu/+93v8hV9+NIfP368uMfjjz9efGlnKnbgExRs11xzja+fUWy0bt1a+AT29uvXz2nWrJlz8ODB5Bd2iRIlnNNPP92ZNm2aM3r0aHHPZ5xxhvPrX//amTt3riiEcKLzO++8k+9LHwXMI4884ixcuNB5+umnhW9cf5p6bg899JAoFr788ktn6dKlwl4UDqNGjcpX7PTs2VO8B3tPOukk4UNg79694jm2bds2+VzwXjqgGME9pxZbXsUO5Lgycb399ttO8eLFkz5A0Vq7dm3ngw8+cJYtWyb+VqlSxbegYjB0wMUOg2EhJk6cKL6kPvzwQ086fHHgS3TVqlXJ9/CFBt5JkyYlvzTRu5D6JYUeHHwBusCXLL54U9G9e3fnT3/6U7L3BcXQ/v3789E0bdrUef7558X/0WNw+eWXZ7Q1XW8MeooKFiXQVbRoUWffvn2iUEi9F2D+/PnivUzFDnqC0P7EE084XkBxBToUWC62bNkiCqn33nsvX+8EijIX1157rfAneohcoEjC+6n3il6iVKBXBoWbqeeGZ4H2cePGFfLppZdeWqhnx8Vnn30m3oN/XT0oJv2AQg8FK4o/9N7deuutzk8//ZSPJlOPG/yHQubRRx/NFztvvfVWProHH3xQxBGDYRo8QZnBsBCyE2jnz58vJi3jcoH5FJiPgrbUycEVKlRIvq5duzZt2rQpn6wOHTrke51KM3PmTNq9ezdVrVqVypcvn7yWL19OS5cuFTQzZsygPn36KN0n5L722mv5ZPbr14+OHDkiZOMeMNema9euSR5MOPaab6PiO8ju2bNn8j3cX8uWLfP5rmzZsmJSrouaNWsKf8LW1PcK+rNXr16FXrtyTTy3JUuWiEnDp59+ej7/vf7668lnku7ZQgZQ0F4/nHzyybRs2TIxOf6iiy6iuXPn0kknnUQPPvigJx/mTZ199tl01lln0ZAhQ8R7e/bsETZeddVV+WzH/KqCtjMYJsATlBkMC9G8eXMqUqSIsUnIJUqUyPcaslFQyNKg0MGX5KhRowrJdguPMmXKKNsFuddeey3dfPPNhdoaNGhAixYtUpaJSbKwKUjfyfgzKN2pzwT47LPPqG7duvnosHIvkxzIAHTshRwUOLj+9Kc/ieLkb3/7m/h/yZIlC9EfPnyYBg4cSMcddxy98MILyfdd21988cV8xSZQrFgxZbsYDD9wzw6DYSGqVKkiejiGDh0qfgWnW20EtG7dmlavXi0uF/PmzRPt6CkwhS5duohl8OgJadasWb6rWrVqyd4DryXx+DLEl19BubC3oExcoEcvzqFDh2jq1KlJnoULFybvPx2KFi1Kl1xyCb355pu0bt26Qu34ooVM+A5/scLIBVYWQb4J302YMKHQa+g09dxAh6Jm1apVhXyX2mPkh3TPRRawAT7cv39/2vbbbruNZs+eTR999JFYrp7aE1anTh3RU1TQ9saNG2vZwmB4gYsdBsNSoNDBl1CPHj3ogw8+oMWLF4shjqeffjo5RIJ9Y7Ak/fLLL6dp06bRpEmTaNCgQWL/k27duhmzBXqg87zzzqOvv/5aLIvHsmPsYzNlyhRBc99999Hbb78t/sJOfMn985//zDckM2bMGFq7di1t2bJFvIceAci58cYbxTAY7hH7tuA1gCGlM888U/T+oChB0XP11Vf79iL9/e9/F1/46DXAsA4KCch+5ZVXqHPnzqLgQe/ZueeeS4MHD6affvpJDKn95je/Eb0keP9YMXbsWHr00UdF7xSe5YgRI+iWW24x9twwvHXHHXeIgmL48OFi+AeysDQcr2WB54IhQ/gfz+XAgQNp6U499VR6/vnnxTPA8//888/p7rvvptNOO0303BTEq6++Ss8++ywNGzZM9CahWMbl9uo88MAD9Mgjj4h4ho8QL+B54oknpG1nMGTBxQ6DYSmwkSC+vPBl8sc//pHatWsn5meg9+S5554TNPgSQXFQuXJlMacCX6Lge/fdd43aAj34coOOK6+8klq0aCF6T1auXCl+pbtfhvhC/+STT8QmddjLBl/iLjDcgS9JzH9x92NBbxD2vsGXHYZGUIjce++94le/C3wB4jUKgQsuuEBsWlejRg3fnjH0pKB4wVAL5EI+ijHsWVSxYsWkbMwHwpwSFHOY74P7LDh8pAM8MxSC0A0b8CWO3jqTzw3zZf7617+KogG9RSgMMayl0jty4YUXCj7EGZ4LfJQOsB1F1BlnnCF0YbNLvPfee++lpcdzRbF+zjnniCFQ93r88cdFO4rWl156STwDFH54vpi/xT07jCBQBLOUA5HMYDAYOQr0ltx6663iYjAY0YN7dhgMBoPBYGQ1uNhhMBgMBoOR1eBhLAaDwWAwGFkN7tlhMBgMBoOR1eBih8FgMBgMRlaDix0Gg8FgMBhZDS52GAwGg8FgZDW42GEwGAwGg5HV4GKHwWAwGAxGVoOLHQaDwWAwGFkNLnYYDAaDwWBkNbjYYTAYDAaDQdmM/wcI7AFcB6i9AgAAAABJRU5ErkJggg==",
      "text/plain": [
       "<Figure size 600x400 with 1 Axes>"
      ]
     },
     "metadata": {},
     "output_type": "display_data"
    },
    {
     "name": "stdout",
     "output_type": "stream",
     "text": [
      "Sizes of the 10 largest connected components:\n",
      "[1018, 2, 2, 2, 2, 2, 2, 1]\n"
     ]
    }
   ],
   "source": [
    "# get size of largest connected components:\n",
    "#get size of the connected components:\n",
    "\n",
    "sizesCC = [len(CC) for CC in nx.connected_components(G)]\n",
    "\n",
    "def plotCCDF(data, dataName):\n",
    "    \"\"\"\n",
    "    Plots the CCDF (Complementary Cumulative Distribution Function) of a 1D data array.\n",
    "\n",
    "    Parameters:\n",
    "    - data: array-like, 1D distribution data\n",
    "    - xlabel: str, label for x-axis\n",
    "    - ylabel: str, label for y-axis\n",
    "    - title: str, plot title\n",
    "    - show: bool, whether to call plt.show() immediately\n",
    "    \"\"\"\n",
    "    data = np.array(data)\n",
    "    \n",
    "    # Sort data in ascending order\n",
    "    sorted_data = np.sort(data)\n",
    "    \n",
    "    # Calculate CCDF values\n",
    "    # Empirical CCDF: for each value, fraction of points >= that value\n",
    "    ccdf = 1.0 - np.arange(0, len(sorted_data)) / len(sorted_data)\n",
    "    \n",
    "    plt.figure(figsize=(6,4))\n",
    "    plt.loglog(sorted_data, ccdf, linestyle='-', color='blue')\n",
    "    plt.xlabel(dataName)\n",
    "    plt.ylabel(\"CCDF\")\n",
    "    plt.title(f\"CCDF of {dataName}\")\n",
    "    plt.grid(True, which=\"both\", ls=\"--\", linewidth=0.5)\n",
    "    plt.show()\n",
    "\n",
    "plotCCDF(sizesCC, \"Connected Component Size \")\n",
    "print(\"Sizes of the 10 largest connected components:\")\n",
    "print(sorted(sizesCC, reverse=True)[:10])"
   ]
  },
  {
   "cell_type": "code",
<<<<<<< HEAD
   "execution_count": 15,
=======
   "execution_count": 16,
>>>>>>> 343e4b03e11a176fde4c22136a56a62b667447b2
   "id": "9ed49ec2",
   "metadata": {},
   "outputs": [
    {
     "name": "stdout",
     "output_type": "stream",
     "text": [
<<<<<<< HEAD
      "Map saved to c:\\Users\\shere\\OneDrive\\Рабочий стол\\University Stuff\\2 year, 1 semester\\Network Analysis\\Net_project\\UCNA\\visualizations\\graph_map_overlayed.html\n",
      "Map saved to c:\\Users\\shere\\OneDrive\\Рабочий стол\\University Stuff\\2 year, 1 semester\\Network Analysis\\Net_project\\UCNA\\visualizations\\graph_map.html\n"
=======
      "Map saved to c:\\Users\\piras\\Desktop\\Uni\\Python\\Semester 3\\NetworkAnalysis\\UCNA\\visualizations\\graph_map_overlayed.html\n",
      "Map saved to c:\\Users\\piras\\Desktop\\Uni\\Python\\Semester 3\\NetworkAnalysis\\UCNA\\visualizations\\graph_map.html\n"
>>>>>>> 343e4b03e11a176fde4c22136a56a62b667447b2
     ]
    }
   ],
   "source": [
    "#visualize the graph with folium\n",
    "import folium\n",
    "import os\n",
    "\n",
    "def plot_graph_folium(G, output_file, cablesDir = None):\n",
    "    # Extract coordinates from node attributes\n",
    "    coords = [(d[\"lon\"], d[\"lat\"]) for _, d in G.nodes(data=True)]\n",
    "    lons, lats = zip(*coords)\n",
    "    \n",
    "    # Center map on average position\n",
    "    center_lat = sum(lats) / len(lats)\n",
    "    center_lon = sum(lons) / len(lons)\n",
    "    m = folium.Map(location=[center_lat, center_lon], zoom_start=3, tiles=\"CartoDB positron\")\n",
    "\n",
    "    # Add nodes\n",
    "    for n, d in G.nodes(data=True):\n",
    "        lon, lat = d[\"lon\"], d[\"lat\"]\n",
    "        city, country = d['city'], d['country']\n",
    "        location = f\"lon: {lon} lat: {lat}\"\n",
    "        folium.CircleMarker(\n",
    "            location=[lat, lon],\n",
    "            radius=5,\n",
    "            popup=f\"Node {n}<br>{city}<br>{country}<br>{location}\",\n",
    "            color=\"blue\",\n",
    "            fill=True,\n",
    "            fill_color=\"blue\",\n",
    "            fill_opacity=0.7\n",
    "        ).add_to(m)\n",
    "\n",
    "    # Add edges\n",
    "    for u, v, data in G.edges(data=True):\n",
    "        lon1, lat1 = G.nodes[u][\"lon\"], G.nodes[u][\"lat\"]\n",
    "        lon2, lat2 = G.nodes[v][\"lon\"], G.nodes[v][\"lat\"]\n",
    "        html = f\"\"\"\n",
    "        <div style=\"white-space: nowrap;\">\n",
    "        Edge {G.nodes[u]['city']} ←---→ {G.nodes[v]['city']}<br>{data['capacity']} Gbps\n",
    "        </div>\n",
    "        \"\"\"\n",
    "        popup = folium.Popup(html, max_width=500)\n",
    "        folium.PolyLine(\n",
    "            locations=[(lat1, lon1), (lat2, lon2)],\n",
    "            color=\"red\",\n",
    "            weight=2,\n",
    "            popup=popup,\n",
    "            opacity=0.6\n",
    "        ).add_to(m)\n",
    "    \n",
    "    #overlay the \"real network\"\n",
    "    if cablesDir is not None:\n",
    "        # Loop through all files in the directory\n",
    "        for filename in os.listdir(cablesDir):\n",
    "            if filename.endswith(\".geojson\"):\n",
    "                filepath = os.path.join(cablesDir, filename)\n",
    "                folium.GeoJson(filepath).add_to(m)\n",
    "\n",
    "    # Save map as HTML\n",
    "    m.save(output_file)\n",
    "    print(f\"Map saved to {output_file}\")\n",
    "    \n",
    "plot_graph_folium(G, output_file=str(_VIS_DIR / \"graph_map_overlayed.html\"), cablesDir=str(_DATA_DIR / \"cablesGeojson\"))\n",
    "plot_graph_folium(G, output_file=str(_VIS_DIR / \"graph_map.html\"))"
   ]
  }
 ],
 "metadata": {
  "kernelspec": {
<<<<<<< HEAD
   "display_name": "ml",
=======
   "display_name": "Envino",
>>>>>>> 343e4b03e11a176fde4c22136a56a62b667447b2
   "language": "python",
   "name": "python3"
  },
  "language_info": {
   "codemirror_mode": {
    "name": "ipython",
    "version": 3
   },
   "file_extension": ".py",
   "mimetype": "text/x-python",
   "name": "python",
   "nbconvert_exporter": "python",
   "pygments_lexer": "ipython3",
   "version": "3.11.13"
  }
 },
 "nbformat": 4,
 "nbformat_minor": 5
}
